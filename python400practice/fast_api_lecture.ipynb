{
 "cells": [
  {
   "cell_type": "code",
   "execution_count": 11,
   "metadata": {},
   "outputs": [
    {
     "name": "stdout",
     "output_type": "stream",
     "text": [
      "80\n"
     ]
    },
    {
     "data": {
      "text/plain": [
       "[80, 96, 72, 100, 8, 1000]"
      ]
     },
     "execution_count": 11,
     "metadata": {},
     "output_type": "execute_result"
    }
   ],
   "source": [
    "my_list = [80,96,72,100,8]\n",
    "print(my_list[0])\n",
    "\n",
    "my_list.append(1000)\n",
    "\n",
    "my_list"
   ]
  },
  {
   "cell_type": "code",
   "execution_count": 6,
   "metadata": {},
   "outputs": [],
   "source": [
    "people_list = ['Eric','Adil','Jeff']\n",
    "people_list[0] = 'Aria'"
   ]
  },
  {
   "cell_type": "code",
   "execution_count": 9,
   "metadata": {},
   "outputs": [
    {
     "name": "stdout",
     "output_type": "stream",
     "text": [
      "['Aria', 'Adil']\n"
     ]
    }
   ],
   "source": [
    "print(people_list[0:2])"
   ]
  },
  {
   "cell_type": "code",
   "execution_count": 47,
   "metadata": {},
   "outputs": [
    {
     "name": "stdout",
     "output_type": "stream",
     "text": [
      "1 2 3 4 5 3\n"
     ]
    },
    {
     "data": {
      "text/plain": [
       "{1, 2, 3, 4, 5, 6, 9, 10}"
      ]
     },
     "execution_count": 47,
     "metadata": {},
     "output_type": "execute_result"
    }
   ],
   "source": [
    "my_set = {1,2,3,4,5,2,2}\n",
    "len(my_set)\n",
    "#set 중복x \n",
    "my_set\n",
    "for i in my_set:\n",
    "    print(i, end=' ')\n",
    "my_set.update([6,9,10])\n",
    "my_set\n"
   ]
  },
  {
   "cell_type": "code",
   "execution_count": 49,
   "metadata": {},
   "outputs": [
    {
     "data": {
      "text/plain": [
       "dict"
      ]
     },
     "execution_count": 49,
     "metadata": {},
     "output_type": "execute_result"
    }
   ],
   "source": [
    "a = 10\n",
    "b = '감자'\n",
    "c = [1,2 ]\n",
    "d = {1,2}\n",
    "e = (1,2)\n",
    "f = {\"name\":\"정인웅\"}\n",
    "\n",
    "\n",
    "type(a)\n",
    "type(b)\n",
    "type(c)\n",
    "type(d)\n",
    "type(e)\n",
    "type(f)"
   ]
  },
  {
   "cell_type": "code",
   "execution_count": 21,
   "metadata": {},
   "outputs": [
    {
     "data": {
      "text/plain": [
       "set()"
      ]
     },
     "execution_count": 21,
     "metadata": {},
     "output_type": "execute_result"
    }
   ],
   "source": []
  },
  {
   "cell_type": "code",
   "execution_count": 66,
   "metadata": {},
   "outputs": [
    {
     "name": "stdout",
     "output_type": "stream",
     "text": [
      "['tiger', 'panda', 'tiger', 'sheep']\n"
     ]
    },
    {
     "data": {
      "text/plain": [
       "['tiger', 'panda', 'tiger']"
      ]
     },
     "execution_count": 66,
     "metadata": {},
     "output_type": "execute_result"
    }
   ],
   "source": [
    "zoo = ['tiger','panda','lion','tiger','sheep']\n",
    "zoo.remove(zoo[2])\n",
    "zoo.append('zibra')\n",
    "del zoo[-1]\n",
    "print(zoo)\n",
    "zoo[:3]"
   ]
  },
  {
   "cell_type": "code",
   "execution_count": 68,
   "metadata": {},
   "outputs": [
    {
     "name": "stdout",
     "output_type": "stream",
     "text": [
      "<class 'bool'>\n"
     ]
    }
   ],
   "source": [
    "\n",
    "like_coffee = True\n",
    "type(like_coffee)\n",
    "like_tea = False\n",
    "print(type(like_tea))\n"
   ]
  },
  {
   "cell_type": "code",
   "execution_count": 70,
   "metadata": {},
   "outputs": [
    {
     "data": {
      "text/plain": [
       "False"
      ]
     },
     "execution_count": 70,
     "metadata": {},
     "output_type": "execute_result"
    }
   ],
   "source": [
    "a = 1\n",
    "a==1\n",
    "a > 1\n",
    "a >=1\n",
    "a < 1\n"
   ]
  },
  {
   "cell_type": "code",
   "execution_count": 71,
   "metadata": {},
   "outputs": [
    {
     "ename": "TypeError",
     "evalue": "max expected at least 1 argument, got 0",
     "output_type": "error",
     "traceback": [
      "\u001b[1;31m---------------------------------------------------------------------------\u001b[0m",
      "\u001b[1;31mTypeError\u001b[0m                                 Traceback (most recent call last)",
      "Cell \u001b[1;32mIn[71], line 2\u001b[0m\n\u001b[0;32m      1\u001b[0m \u001b[38;5;66;03m#변수이름 조건 \u001b[39;00m\n\u001b[1;32m----> 2\u001b[0m \u001b[38;5;28mmax\u001b[39m \u001b[38;5;241m=\u001b[39m \u001b[38;5;28;43mmax\u001b[39;49m\u001b[43m(\u001b[49m\u001b[43m)\u001b[49m\n",
      "\u001b[1;31mTypeError\u001b[0m: max expected at least 1 argument, got 0"
     ]
    }
   ],
   "source": [
    "#변수이름 조건 \n"
   ]
  },
  {
   "cell_type": "code",
   "execution_count": 85,
   "metadata": {},
   "outputs": [
    {
     "name": "stdout",
     "output_type": "stream",
     "text": [
      "----------------------파이썬 형식----------------------\n",
      "1는 일이다.\n",
      "1는 일이다.\n",
      "1는 일이다.\n"
     ]
    }
   ],
   "source": [
    "a = 1 \n",
    "b = '일'\n",
    "print('{:-^50}'.format('파이썬 형식'))\n",
    "print(f'{a}는 {b}이다.')\n",
    "print(str(a)+'는', b+'이다.')\n",
    "print('{}는 {}이다.'.format(a,b)) \n"
   ]
  },
  {
   "cell_type": "code",
   "execution_count": 96,
   "metadata": {},
   "outputs": [
    {
     "name": "stdout",
     "output_type": "stream",
     "text": [
      "Tuesday\n",
      "Wednesday\n",
      "Thursday\n"
     ]
    },
    {
     "data": {
      "text/plain": [
       "[]"
      ]
     },
     "execution_count": 96,
     "metadata": {},
     "output_type": "execute_result"
    }
   ],
   "source": [
    "my_list = ['Monday','Tuesday','Wednesday','Thursday','Friday']\n",
    "\n",
    "for i in my_list[:4]:\n",
    "    if i=='Monday':\n",
    "        continue\n",
    "    print(i)\n"
   ]
  },
  {
   "cell_type": "code",
   "execution_count": 107,
   "metadata": {},
   "outputs": [
    {
     "name": "stdout",
     "output_type": "stream",
     "text": [
      "{'model': 'Ford', 'make': 'Explorer', 'year': 2018, 'number_of_tires': 4}\n"
     ]
    }
   ],
   "source": [
    "my_vehicle = {\n",
    "    \"model\": \"Ford\",\n",
    "    \"make\": \"Explorer\",\n",
    "    \"year\": 2018,\n",
    "    \"mileage\": 40000\n",
    "}\n",
    "vehicle2 = my_vehicle.copy()\n",
    "vehicle2[\"number_of_tires\"] = 4\n",
    "del vehicle2['mileage']\n",
    "print(vehicle2)"
   ]
  },
  {
   "cell_type": "code",
   "execution_count": 110,
   "metadata": {},
   "outputs": [],
   "source": [
    "def print_color_red():\n",
    "    color = \"RED\"\n",
    "    print('color')\n",
    "    return color"
   ]
  },
  {
   "cell_type": "code",
   "execution_count": 111,
   "metadata": {},
   "outputs": [
    {
     "name": "stdout",
     "output_type": "stream",
     "text": [
      "color\n"
     ]
    },
    {
     "data": {
      "text/plain": [
       "'RED'"
      ]
     },
     "execution_count": 111,
     "metadata": {},
     "output_type": "execute_result"
    }
   ],
   "source": [
    "print_color_red()"
   ]
  },
  {
   "cell_type": "code",
   "execution_count": 113,
   "metadata": {},
   "outputs": [
    {
     "data": {
      "text/plain": [
       "['steve', 'jobs', 20]"
      ]
     },
     "execution_count": 113,
     "metadata": {},
     "output_type": "execute_result"
    }
   ],
   "source": [
    "def three(firstname, lastname, age):\n",
    "    three_value = [firstname, lastname, age]\n",
    "    return three_value\n",
    "three('steve','jobs',20)"
   ]
  },
  {
   "cell_type": "code",
   "execution_count": 117,
   "metadata": {},
   "outputs": [
    {
     "name": "stdout",
     "output_type": "stream",
     "text": [
      "88.67\n"
     ]
    }
   ],
   "source": [
    "homework_assignment_grades = {\n",
    "    'homework_1': 85,\n",
    "    'homework_2': 100,\n",
    "    'homework_3':81\n",
    "}\n",
    "import calculate_py as calpy\n",
    "\n",
    "calpy.calculate_homework(homework_assignment_grades)"
   ]
  },
  {
   "cell_type": "code",
   "execution_count": 123,
   "metadata": {},
   "outputs": [
    {
     "name": "stdout",
     "output_type": "stream",
     "text": [
      "1\n"
     ]
    },
    {
     "data": {
      "text/plain": [
       "8.0"
      ]
     },
     "execution_count": 123,
     "metadata": {},
     "output_type": "execute_result"
    }
   ],
   "source": [
    "import random\n",
    "# type_of_drinks = ['Soda','Coffee','Water','Tea']\n",
    "# print(random.choice(type_of_drinks))\n",
    "print(random.randint(1,10))\n",
    "\n",
    "import math\n",
    "square_root = math.sqrt(64)\n",
    "square_root"
   ]
  },
  {
   "cell_type": "code",
   "execution_count": 5,
   "metadata": {},
   "outputs": [],
   "source": [
    "class Animal:\n",
    "    weight: int\n",
    "    color: str\n",
    "    age:int\n",
    "    animal_type = str\n",
    "    def eat(self):\n",
    "        print('Animal eating')\n",
    "    def sleep(self):\n",
    "        print('Animal sleeping')\n",
    "\n",
    "class Dog(Animal):\n",
    "    can_shed: bool\n",
    "    domestic_name: str\n",
    "    def talk(self):\n",
    "        print('Bark')\n",
    "    def eat(self):\n",
    "        print('Chews on bone!')    "
   ]
  },
  {
   "cell_type": "code",
   "execution_count": 6,
   "metadata": {},
   "outputs": [
    {
     "name": "stdout",
     "output_type": "stream",
     "text": [
      "Chews on bone!\n"
     ]
    }
   ],
   "source": [
    "dog = Dog()\n",
    "dog.eat()"
   ]
  },
  {
   "cell_type": "code",
   "execution_count": null,
   "metadata": {},
   "outputs": [],
   "source": [
    "class Person:\n",
    "    def __init__(self, name, age):\n",
    "        self.name = name\n",
    "        self.age = age\n",
    "class Student(Person):\n",
    "    def __init__(self, name, age, degree):\n",
    "        super().__init__(name=name, age=age)\n",
    "        self.degree = degree\n",
    "\n",
    "Person()"
   ]
  }
 ],
 "metadata": {
  "kernelspec": {
   "display_name": "Python 3",
   "language": "python",
   "name": "python3"
  },
  "language_info": {
   "codemirror_mode": {
    "name": "ipython",
    "version": 3
   },
   "file_extension": ".py",
   "mimetype": "text/x-python",
   "name": "python",
   "nbconvert_exporter": "python",
   "pygments_lexer": "ipython3",
   "version": "3.12.3"
  }
 },
 "nbformat": 4,
 "nbformat_minor": 2
}
