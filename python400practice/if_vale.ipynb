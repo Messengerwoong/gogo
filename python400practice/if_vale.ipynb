{
 "cells": [
  {
   "cell_type": "code",
   "execution_count": 1,
   "metadata": {},
   "outputs": [
    {
     "name": "stdout",
     "output_type": "stream",
     "text": [
      "당신의 이름은 정입니다.\n",
      "당신의 10년후에 20세입니다.\n",
      "프로그램 종료!\n"
     ]
    }
   ],
   "source": [
    "name = input(\"성명을 입력하세요 \")\n",
    "if len(name) == 0:\n",
    "    print(\"Error:성명을 입력하지 않았습니다.\")\n",
    "else:\n",
    "    age= int(input(\"나이를 입력하세요:\"))\n",
    "    print(\"당신의 이름은 {}입니다.\".format(name))\n",
    "    print(\"당신의 10년후에 {}세입니다.\".format(age+10))\n",
    "print(\"프로그램 종료!\")"
   ]
  },
  {
   "cell_type": "code",
   "execution_count": 5,
   "metadata": {},
   "outputs": [
    {
     "name": "stdout",
     "output_type": "stream",
     "text": [
      "92점은 A학점이다\n"
     ]
    }
   ],
   "source": [
    "score = int(input(\"성적 입력\"))\n",
    "grade = ''\n",
    "if score >= 95:\n",
    "    grade = 'A+'\n",
    "elif score >=90:\n",
    "    grade = 'A'\n",
    "else:\n",
    "    grade = 'B+'\n",
    "\n",
    "print(\"{}점은 {}학점이다\".format(score,grade))"
   ]
  },
  {
   "cell_type": "markdown",
   "metadata": {},
   "source": []
  },
  {
   "cell_type": "code",
   "execution_count": 4,
   "metadata": {},
   "outputs": [
    {
     "name": "stdout",
     "output_type": "stream",
     "text": [
      "3 : 3의 배수입니다.\n"
     ]
    }
   ],
   "source": [
    "integer = int(input(\"정수를 입력하세요:\"))\n",
    "print(integer, \":\", end =\" \")\n",
    "if integer == 0:\n",
    "    print(\"0입니다.\")\n",
    "if integer == 5:\n",
    "    print(\"5입니다.\")\n",
    "elif integer%3 ==0:\n",
    "    print(\"3의 배수입니다.\")\n",
    "else:\n",
    "    print(\"3d의 배수가 아닙니다.\")"
   ]
  },
  {
   "cell_type": "code",
   "execution_count": 9,
   "metadata": {},
   "outputs": [
    {
     "name": "stdout",
     "output_type": "stream",
     "text": [
      "80점 B확점이다\n"
     ]
    }
   ],
   "source": [
    "score = int(input(\"성적 입력: \"))\n",
    "grade = ' '\n",
    "\n",
    "if score<0 or score>100:\n",
    "    print(\"Error!\")\n",
    "else:\n",
    "    if score>=90:\n",
    "        grade='A'\n",
    "    elif score>=80:\n",
    "        grade='B'\n",
    "    elif score>=70:\n",
    "        grade='C'\n",
    "    elif score>=60:\n",
    "        grade='D'\n",
    "    else:\n",
    "        grade='F'\n",
    "    print(\"{}점 {}확점이다\".format(score,grade))\n"
   ]
  },
  {
   "cell_type": "code",
   "execution_count": 17,
   "metadata": {},
   "outputs": [
    {
     "name": "stdout",
     "output_type": "stream",
     "text": [
      "72점은 C-학점입니다.\n"
     ]
    }
   ],
   "source": [
    "grade = ' '\n",
    "score = int(input(\"성적을 입력하세요:\"))\n",
    "while not(score in range(0,101)):\n",
    "     print(\"Error!\")\n",
    "     score = int(input(\"성적을 다시 입력하세요: \"))\n",
    "if score>=90:\n",
    "    grade='A'\n",
    "elif score>=80:\n",
    "    grade='B'\n",
    "elif score>=70:\n",
    "    grade='C'\n",
    "elif score>=60:\n",
    "    grade='D'\n",
    "else:\n",
    "    grade='F'\n",
    "num = score % 10\n",
    "if num>7:\n",
    "    grade = str(grade) + \"+\"\n",
    "elif num<3:\n",
    "    grade = str(grade) + \"-\"\n",
    "print(\"{}점은 {}학점입니다.\".format(score,grade))"
   ]
  },
  {
   "cell_type": "code",
   "execution_count": 20,
   "metadata": {},
   "outputs": [
    {
     "name": "stdout",
     "output_type": "stream",
     "text": [
      "강릉는 여행 가능한 목록에 없습니다.\n",
      "유럽는 여행 가능한 여행지 목록에 있습니다\n"
     ]
    }
   ],
   "source": [
    "countryList = [\"유럽\", \"필리핀\", \"대만\",\"캐나다\",\"호주\",\"미국\",\"베트남\"]\n",
    "journey = input(\"가고 싶은 여행지를 입력하세요:\")\n",
    "\n",
    "if journey in countryList:\n",
    "    print(\"{}는 여행 가능한 여행지에 있습니다.\".format(journey))\n",
    "    while not(journey in countryList):\n",
    "        print(\"{}는 여행 가능한 목록에 없습니다.\".format(journey))\n",
    "        journey = input(\"가고 싶은 여행지를 다시 입력하세요.: \")\n",
    "print(\"{}는 여행 가능한 여행지 목록에 있습니다\".format(journey))\n"
   ]
  },
  {
   "cell_type": "code",
   "execution_count": 2,
   "metadata": {},
   "outputs": [
    {
     "name": "stdout",
     "output_type": "stream",
     "text": [
      "1.입력 2.출력 3.검색 4.수정 5.삭제 6.종료\n",
      "-----------------------삭제기능-----------------------\n",
      "\n",
      "1.입력 2.출력 3.검색 4.수정 5.삭제 6.종료\n",
      "-----------------------종료기능-----------------------\n",
      "다음 기회에 만나요.~\n"
     ]
    }
   ],
   "source": [
    "while True:\n",
    "    print(\"1.입력 2.출력 3.검색 4.수정 5.삭제 6.종료\")\n",
    "    no = int(input(\"선택: \"))\n",
    "    if no == 1:\n",
    "        print(\"{:-^50}\".format(\"입력기능\"))\n",
    "    elif no ==2:\n",
    "        print(\"{:-^50}\".format(\"출력기능\"))\n",
    "    elif no == 3:\n",
    "        print(\"{:-^50}\".format(\"검색기능\"))\n",
    "    elif no == 4:\n",
    "        print(\"{:-^50}\".format(\"수정기능\"))\n",
    "    elif no == 5:\n",
    "        print(\"{:-^50}\".format(\"삭제기능\"))\n",
    "    elif no == 6:\n",
    "        print(\"{:-^50}\".format(\"종료기능\"))\n",
    "        break\n",
    "    else:\n",
    "        print(\"{:-^50}\".format(\" 선택 사항 없음\"))\n",
    "    print()\n",
    "print(\"다음 기회에 만나요.~\")"
   ]
  },
  {
   "cell_type": "markdown",
   "metadata": {},
   "source": []
  },
  {
   "cell_type": "code",
   "execution_count": 7,
   "metadata": {},
   "outputs": [
    {
     "name": "stdout",
     "output_type": "stream",
     "text": [
      "금액을 입력받아서 돈의 종류별 개수를 환산하는 프로그램\n",
      "------------------------결과------------------------\n",
      "오만원권: 2매\n",
      "만원권: 3매\n",
      "오천원권: 1매\n",
      "천원권: 2매\n",
      "오백권: 1매\n",
      "백원: 3매\n",
      "오십원: 0매\n",
      "십원: 3매\n",
      "오원: 0매\n",
      "일원: 2매\n"
     ]
    }
   ],
   "source": [
    "print(\"금액을 입력받아서 돈의 종류별 개수를 환산하는 프로그램\")\n",
    "total_money = int(input(\"금액입력>>\"))\n",
    "print(\"{:-^50}\".format('결과'))\n",
    "remainder = total_money\n",
    "won50000 = remainder//50000\n",
    "remainder = remainder%50000\n",
    "won10000 = remainder//10000\n",
    "remainder = remainder%10000\n",
    "won5000 = remainder//5000\n",
    "remainder = remainder%5000\n",
    "won1000 = remainder//1000\n",
    "remainder = remainder%1000\n",
    "won500 = remainder//500\n",
    "remainder = remainder%500\n",
    "won100 = remainder//100\n",
    "remainder = remainder%100\n",
    "won50 = remainder//50\n",
    "remainder = remainder%50\n",
    "won10 = remainder//10\n",
    "remainder = remainder%10\n",
    "won5 = remainder//5\n",
    "remainder = remainder%5\n",
    "won1 = remainder//1\n",
    "remainder = remainder%1\n",
    "print(\"오만원권: {}매\".format(won50000))\n",
    "print(\"만원권: {}매\".format(won10000))\n",
    "print(\"오천원권: {}매\".format(won5000))\n",
    "print(\"천원권: {}매\".format(won1000))\n",
    "print(\"오백권: {}매\".format(won500))\n",
    "print(\"백원: {}매\".format(won100))\n",
    "print(\"오십원: {}매\".format(won50))\n",
    "print(\"십원: {}매\".format(won10))\n",
    "print(\"오원: {}매\".format(won5))\n",
    "print(\"일원: {}매\".format(won1))\n",
    "\n"
   ]
  },
  {
   "cell_type": "code",
   "execution_count": 5,
   "metadata": {},
   "outputs": [
    {
     "name": "stdout",
     "output_type": "stream",
     "text": [
      "미국는 특별시나 광역시가 아닙니다.\n"
     ]
    }
   ],
   "source": [
    "city = input('사는 도시 입력>>')\n",
    "metropolitan_city = ['광주', '대구','대전','부산','울산','인천']\n",
    "if city == '서울':\n",
    "    print('서울은 특별시입니다.')\n",
    "elif city in metropolitan_city:\n",
    "    print('{}는 광역시입니다.'.format(city))\n",
    "else:\n",
    "    print(\"{}는 특별시나 광역시가 아닙니다.\".format(city))\n",
    "\n",
    "\n"
   ]
  },
  {
   "cell_type": "code",
   "execution_count": 6,
   "metadata": {},
   "outputs": [
    {
     "name": "stdout",
     "output_type": "stream",
     "text": [
      "감동이야힝힝\n"
     ]
    }
   ],
   "source": [
    "word = input(\"검색어 입력>>\")\n",
    "word_length = len(word)\n",
    "if word_length<=2:\n",
    "    print('검색어가 너무 짧습니다.')\n",
    "elif word_length>=10:\n",
    "    print('검색어가 너무 깁니다.')\n",
    "else:\n",
    "    print(word)\n",
    "\n"
   ]
  },
  {
   "cell_type": "code",
   "execution_count": 1,
   "metadata": {},
   "outputs": [
    {
     "name": "stdout",
     "output_type": "stream",
     "text": [
      "검색어가 너무 짧습니다. 다시 입력하세요.\n"
     ]
    }
   ],
   "source": [
    "while True:\n",
    "    word2 = input(\"검색어 입력>>\")\n",
    "    word2_length = len(word2)\n",
    "    if word2 =='그만' break;\n",
    "    if word2_length<3\""
   ]
  },
  {
   "cell_type": "code",
   "execution_count": 1,
   "metadata": {},
   "outputs": [
    {
     "name": "stdout",
     "output_type": "stream",
     "text": [
      "김치볶음밥\n",
      "감자튀김\n",
      "검색어 입력을 종료합니다.\n"
     ]
    }
   ],
   "source": [
    "while True:\n",
    "    word = input(\"검색어 입력>>\")\n",
    "    if word== '그만':\n",
    "        break\n",
    "    if len(word)<3:\n",
    "        print('검색어가 너무 짧습니다.')\n",
    "    elif len(word)>=10:\n",
    "        print('검색어가 너무 깁니다.')\n",
    "    else:\n",
    "        print(word)\n",
    "print(\"검색어 입력을 종료합니다.\")\n"
   ]
  },
  {
   "cell_type": "code",
   "execution_count": 1,
   "metadata": {},
   "outputs": [
    {
     "name": "stdout",
     "output_type": "stream",
     "text": [
      "김님의 전공은 인입니다.\n"
     ]
    }
   ],
   "source": [
    "yn ='y'\n",
    "while yn=='y':\n",
    "    name = input('성명입력>>')  \n",
    "    major = input('전공입력>>') \n",
    "    print(f'{name}님의 전공은 {major}입니다.')\n",
    "    yn =input('계속 하시겠습니까?(y또는 n입력)')\n",
    "    while not(yn in ['y','n']):\n",
    "        print('y 또는 n만 입력하세요.')\n",
    "        yn = input('계속 하시겠습니까?(y 또는 n입력)')\n",
    "    "
   ]
  },
  {
   "cell_type": "code",
   "execution_count": 4,
   "metadata": {},
   "outputs": [
    {
     "name": "stdout",
     "output_type": "stream",
     "text": [
      "num: 1\n",
      "num: 2\n",
      "num 2\n"
     ]
    }
   ],
   "source": [
    "import random\n",
    "num = random.randint(1,2)\n",
    "print('num:',num)\n",
    "num = random.randint(1,2)\n",
    "print('num:',num)\n",
    "num = random.randint(1,2)\n",
    "print('num', num)\n"
   ]
  },
  {
   "cell_type": "code",
   "execution_count": 7,
   "metadata": {},
   "outputs": [
    {
     "name": "stdout",
     "output_type": "stream",
     "text": [
      "type: <class 'set'>\n",
      "3\n",
      "{1, 2, 3}\n"
     ]
    }
   ],
   "source": [
    "import random\n",
    "lotto = set()\n",
    "print('type:', type(lotto))\n",
    "lotto.add(1);\n",
    "lotto.add(1);\n",
    "lotto.add(2);\n",
    "lotto.add(2);\n",
    "lotto.add(2);\n",
    "lotto.add(3);\n",
    "lotto.add(3);\n",
    "print(len(lotto))\n",
    "print(lotto)"
   ]
  },
  {
   "cell_type": "code",
   "execution_count": 11,
   "metadata": {},
   "outputs": [
    {
     "name": "stdout",
     "output_type": "stream",
     "text": [
      "---로또번호 생성---\n",
      "2  40  8  15  21  27  "
     ]
    }
   ],
   "source": [
    "import random\n",
    "lotto = set()\n",
    "while(len(lotto))<6:\n",
    "    lotto.add(random.randint(1,45))\n",
    "print('---로또번호 생성---')\n",
    "for i in lotto:\n",
    "    print(i,end=\"  \")"
   ]
  },
  {
   "cell_type": "code",
   "execution_count": 19,
   "metadata": {},
   "outputs": [
    {
     "name": "stdout",
     "output_type": "stream",
     "text": [
      "0.리스트 내용: ['시네마천국', '삼국지', '혹성탈출', '태권V', '기생충']\n",
      "1, 리스트 첫번째 요소:  시네마천국\n",
      "2, 리스트 마지막 요소 : 기생충\n",
      "['시네마천국', '아이언맨', '태권V', '기생충', '쿵푸허슬']\n"
     ]
    },
    {
     "data": {
      "text/plain": [
       "['시네마천국', '아이언맨', '올드보이', '태권V', '기생충', '쿵푸허슬']"
      ]
     },
     "execution_count": 19,
     "metadata": {},
     "output_type": "execute_result"
    }
   ],
   "source": [
    "movielist = [\"시네마천국\",\"삼국지\",\"혹성탈출\",\"태권V\",\"기생충\"]\n",
    "print(\"0.리스트 내용:\", movielist)\n",
    "print(\"1, 리스트 첫번째 요소: \", movielist[0])\n",
    "print(\"2, 리스트 마지막 요소 :\", movielist[len(movielist)-1])\n",
    "movielist[1] = '아이언맨'\n",
    "del movielist[2]\n",
    "movielist.append(\"쿵푸허슬\")\n",
    "print(movielist)\n",
    "movielist.insert(2,\"올드보이\")\n",
    "movielist"
   ]
  },
  {
   "cell_type": "code",
   "execution_count": 4,
   "metadata": {},
   "outputs": [
    {
     "name": "stdout",
     "output_type": "stream",
     "text": [
      "['오징어', '꼴뚜기', '대구', '명태', '거북이']\n",
      "[100, 200, 300]\n",
      "['대구', '명태', '거북이']\n",
      "['대구', '명태', '거북이']\n"
     ]
    }
   ],
   "source": [
    "lst05 = [\"오징어\",\"꼴뚜기\",\"대구\",\"명태\",\"거북이\",100,200,300]\n",
    "print(lst05[:5])\n",
    "print(lst05[5:])\n",
    "print(lst05[2:5])\n",
    "print(lst05[2:-3])"
   ]
  },
  {
   "cell_type": "code",
   "execution_count": 3,
   "metadata": {},
   "outputs": [
    {
     "name": "stdout",
     "output_type": "stream",
     "text": [
      "['홍길동', 23, '서울시 은평구', 'aaa', 'bbb', ['ccc', 'ddd']]\n"
     ]
    }
   ],
   "source": [
    "li = [\"홍길동\",23]\n",
    "li.append(\"서울시 은평구\")\n",
    "li += ['aaa','bbb']\n",
    "li.append([\"ccc\",\"ddd\"])\n",
    "print(li)"
   ]
  },
  {
   "cell_type": "code",
   "execution_count": 14,
   "metadata": {},
   "outputs": [
    {
     "name": "stdout",
     "output_type": "stream",
     "text": [
      "100 200 300 오징어 꼴뚜기 대구 명태 "
     ]
    }
   ],
   "source": [
    "tup01 = (100,200,300,\"오징어\",\"꼴뚜기\",\"대구\",\"명태\")\n",
    "i = 0\n",
    "while i<len(tup01):\n",
    "    print(tup01[i],end=\" \")\n",
    "    i+=1"
   ]
  },
  {
   "cell_type": "code",
   "execution_count": 15,
   "metadata": {},
   "outputs": [
    {
     "name": "stdout",
     "output_type": "stream",
     "text": [
      "Name: 홍길동\n",
      "Phone:010-1234-5678\n",
      "Addr: 서울시\n"
     ]
    }
   ],
   "source": [
    "dic = {\"name\":\"홍길동\",\"phone\":\"010-1234-5678\",\"addr\":\"서울시\"}\n",
    "\n",
    "name = dic.get(\"name\")\n",
    "phone = dic.get(\"phone\")\n",
    "addr = dic.get(\"addr\")\n",
    "\n",
    "print(\"Name: {}\".format(name))\n",
    "print(\"Phone:{}\".format(phone))\n",
    "print(\"Addr: {}\".format(addr))"
   ]
  },
  {
   "cell_type": "code",
   "execution_count": 16,
   "metadata": {},
   "outputs": [
    {
     "name": "stdout",
     "output_type": "stream",
     "text": [
      "<class 'dict'>\n",
      "<class 'dict'>\n",
      "Name =>홍길동\n"
     ]
    }
   ],
   "source": [
    "dic = {}\n",
    "print(type(dic))\n",
    "\n",
    "dic[\"name\"] = \"홍길동\"\n",
    "dic[\"phone\"] = \"010-7777-8888\"\n",
    "dic[\"addr\"] = \"은평구 응암동\"\n",
    "\n",
    "print(dict)\n",
    "print(\"Name =>\" + dic[\"name\"])"
   ]
  },
  {
   "cell_type": "code",
   "execution_count": 17,
   "metadata": {},
   "outputs": [],
   "source": [
    "lis = []\n",
    "for i in range(0,4):\n",
    "    people = {}\n",
    "    people[\"name\"] = input(\"성명>>>>\")\n",
    "    people[\"phone\"] = input(\"전화>>>\")\n",
    "    people[\"addr\"] = input(\"주소>>>\")\n",
    "    lis.append(people)"
   ]
  },
  {
   "cell_type": "code",
   "execution_count": 20,
   "metadata": {},
   "outputs": [
    {
     "name": "stdout",
     "output_type": "stream",
     "text": [
      "성명:감동, 전화:0\n",
      "성명:감동, 전화:1\n",
      "성명:감동동, 전화:1\n",
      "성명:감동동, 전화:2\n"
     ]
    }
   ],
   "source": [
    "for people in lis:\n",
    "    print(\"성명:{}, 전화:{}\".format(people[\"name\"],people[\"phone\"]))\n"
   ]
  },
  {
   "cell_type": "code",
   "execution_count": 22,
   "metadata": {},
   "outputs": [
    {
     "name": "stdout",
     "output_type": "stream",
     "text": [
      "keys type: <class 'dict_keys'>\n",
      "values type: <class 'dict_values'>\n",
      "keys:  dict_keys(['name', 'phone', 'addr'])\n",
      "values:  dict_values(['홍길동', '010-1234-1234', '서울'])\n"
     ]
    }
   ],
   "source": [
    "dict1 = {\"name\":\"홍길동\",\"phone\":\"010-1234-1234\",\"addr\":'서울'}\n",
    "\n",
    "keys = dict1.keys()\n",
    "values = dict1.values()\n",
    "\n",
    "print(\"keys type:\", type(keys))\n",
    "print(\"values type:\", type(values))\n",
    "\n",
    "print(\"keys: \", keys)\n",
    "print(\"values: \", values)"
   ]
  },
  {
   "cell_type": "code",
   "execution_count": 34,
   "metadata": {},
   "outputs": [
    {
     "name": "stdout",
     "output_type": "stream",
     "text": [
      "<class 'set'>\n",
      "4\n",
      "{'오렌지', '사과', '딸기', '바나나'}\n",
      "모든 항목 제거 후 0\n",
      "모든 항목 제거 후: set()\n",
      "<class 'set'>\n",
      "{200, 100}\n",
      "{200, 100}\n",
      "4\n",
      "{'2', '4', '3', '1'}\n"
     ]
    }
   ],
   "source": [
    "s = {\"사과\",\"오렌지\",\"딸기\",\"바나나\",\"오렌지\"}\n",
    "print(type(s))\n",
    "print(len(s))\n",
    "print(s)\n",
    "s.clear()\n",
    "print(\"모든 항목 제거 후\", len(s))\n",
    "print(\"모든 항목 제거 후:\", s)\n",
    "\n",
    "s2 = set()\n",
    "s2.add(100)\n",
    "s2.add(200)\n",
    "s2.add(200)\n",
    "s2.add(100)\n",
    "print(type(s2))\n",
    "print(s2)\n",
    "# s2.remove(300)\n",
    "s2.discard(300)\n",
    "print(s2)\n",
    "s3 = set('124124124124124124123123123')\n",
    "print(len(s3))\n",
    "print(s3)"
   ]
  },
  {
   "cell_type": "code",
   "execution_count": 44,
   "metadata": {},
   "outputs": [
    {
     "name": "stdout",
     "output_type": "stream",
     "text": [
      "0 1 2 3 4  \n",
      "3 5 7 9  \n",
      "10 9 8 7 6 5 4 "
     ]
    }
   ],
   "source": [
    "for i in range(5):\n",
    "    print(i, end = ' ')\n",
    "print(' ')\n",
    "\n",
    "for i in range(3,10,2):\n",
    "    print(i, end= \" \")\n",
    "print(' ')\n",
    "for i in range(10,3,-1):\n",
    "    print(i, end= \" \")\n"
   ]
  },
  {
   "cell_type": "code",
   "execution_count": 51,
   "metadata": {},
   "outputs": [
    {
     "name": "stdout",
     "output_type": "stream",
     "text": [
      "오징어 꼴뚜기 대구 명태 거북이 \n",
      "\n",
      "성적: 95 70 100 70 85 \n",
      "총점 420\n",
      "평균:  84.0\n"
     ]
    }
   ],
   "source": [
    "for fish in [\"오징어\", \"꼴뚜기\",\"대구\",\"명태\",\"거북이\"]:\n",
    "    print(fish, end= ' ')\n",
    "print('\\n')\n",
    "total = 0\n",
    "lis = [95,70,100, 70, 85]\n",
    "print(\"성적\", end=\": \")\n",
    "for score in lis:\n",
    "    print(score, end=\" \")\n",
    "    total += score\n",
    "print(\"\\n총점\", total)\n",
    "print(\"평균: \", total/len(lis))"
   ]
  },
  {
   "cell_type": "code",
   "execution_count": 52,
   "metadata": {},
   "outputs": [
    {
     "name": "stdout",
     "output_type": "stream",
     "text": [
      "0 톱사슴벌레\n",
      "1 홍다리사슴벌레\n",
      "2 다우리아사슴벌레\n"
     ]
    }
   ],
   "source": [
    "#enumerate\n",
    "\n",
    "insect = [\"톱사슴벌레\", \"홍다리사슴벌레\",\"다우리아사슴벌레\"]\n",
    "\n",
    "for index, insect in enumerate(insect):\n",
    "    print(index, insect)"
   ]
  },
  {
   "cell_type": "code",
   "execution_count": 57,
   "metadata": {},
   "outputs": [
    {
     "name": "stdout",
     "output_type": "stream",
     "text": [
      "key:이름 value:정인웅\n",
      "key:번호 value:010-111-1111\n",
      "key:나이 value:36\n"
     ]
    }
   ],
   "source": [
    "dic = {\"이름\":\"정인웅\", \"번호\":\"010-111-1111\",\"나이\":'36'}\n",
    "for key, value in dic.items():\n",
    "    print(\"key:\" + key , \"value:\" +value)"
   ]
  },
  {
   "cell_type": "code",
   "execution_count": 2,
   "metadata": {},
   "outputs": [
    {
     "name": "stdout",
     "output_type": "stream",
     "text": [
      "1.입력 2. 출력 3.검색 4.수정 5.삭제 6.종료\n",
      "  검색기능  \n",
      "해당하는 성명을 찾을 수 없습니다.\n",
      "\n",
      "1.입력 2. 출력 3.검색 4.수정 5.삭제 6.종료\n"
     ]
    },
    {
     "ename": "ValueError",
     "evalue": "invalid literal for int() with base 10: ''",
     "output_type": "error",
     "traceback": [
      "\u001b[1;31m---------------------------------------------------------------------------\u001b[0m",
      "\u001b[1;31mValueError\u001b[0m                                Traceback (most recent call last)",
      "Cell \u001b[1;32mIn[2], line 5\u001b[0m\n\u001b[0;32m      3\u001b[0m \u001b[38;5;28;01mwhile\u001b[39;00m \u001b[38;5;28;01mTrue\u001b[39;00m:\n\u001b[0;32m      4\u001b[0m     \u001b[38;5;28mprint\u001b[39m(\u001b[38;5;124m\"\u001b[39m\u001b[38;5;124m1.입력 2. 출력 3.검색 4.수정 5.삭제 6.종료\u001b[39m\u001b[38;5;124m\"\u001b[39m)\n\u001b[1;32m----> 5\u001b[0m     no \u001b[38;5;241m=\u001b[39m \u001b[38;5;28;43mint\u001b[39;49m\u001b[43m(\u001b[49m\u001b[38;5;28;43minput\u001b[39;49m\u001b[43m(\u001b[49m\u001b[38;5;124;43m\"\u001b[39;49m\u001b[38;5;124;43m선택: \u001b[39;49m\u001b[38;5;124;43m\"\u001b[39;49m\u001b[43m)\u001b[49m\u001b[43m)\u001b[49m\n\u001b[0;32m      6\u001b[0m     \u001b[38;5;28;01mif\u001b[39;00m no\u001b[38;5;241m==\u001b[39m\u001b[38;5;241m1\u001b[39m:\n\u001b[0;32m      7\u001b[0m         \u001b[38;5;28mprint\u001b[39m(\u001b[38;5;124m\"\u001b[39m\u001b[38;5;132;01m{:-^50}\u001b[39;00m\u001b[38;5;124m\"\u001b[39m\u001b[38;5;241m.\u001b[39mformat(\u001b[38;5;124m\"\u001b[39m\u001b[38;5;124m 입력기능 \u001b[39m\u001b[38;5;124m\"\u001b[39m))\n",
      "\u001b[1;31mValueError\u001b[0m: invalid literal for int() with base 10: ''"
     ]
    }
   ],
   "source": [
    "plist = []\n",
    "\n",
    "while True:\n",
    "    print(\"1.입력 2. 출력 3.검색 4.수정 5.삭제 6.종료\")\n",
    "    no = int(input(\"선택: \"))\n",
    "    if no==1:\n",
    "        print(\"{:-^50}\".format(\" 입력기능 \"))\n",
    "        people = {}\n",
    "        people[\"name\"] = input(\"성명>>>\")\n",
    "        people[\"phone\"] = input(\"전화>>>\")\n",
    "        people[\"addr\"] = input(\"주소>>>\") \n",
    "        plist.append(people)\n",
    "        print(\"주소 입력 완료!!\")\n",
    "    elif no == 2:\n",
    "        print(\"{:-^50}\".format(\" 출력 기능 \"))\n",
    "        print(\"{:^3}{:^10}{:^15}{:^20}\".format(\"번호\", \"성명\",\"전화\",\"주소\"))\n",
    "        print(\"-\"*50)\n",
    "        for i, p in enumerate(plist):\n",
    "            print(\"{:^3}{:^10}{:^15}{:^20}\".format(i+1,p[\"name\"],p[\"phone\"],p[\"addr\"]))\n",
    "    elif no == 3:\n",
    "        print(\"{:^5}\".format(\"  검색기능  \"))\n",
    "        search_name = input(\"검색할 성명을 입력하세요: \")\n",
    "        found = False\n",
    "        for p in plist:\n",
    "            if p[\"name\"] == search_name:\n",
    "                print(\"{:^10}{:^15}{:^20}\".format(\"성명\", \"전화\", \"주소\"))\n",
    "                print(\"{:^10}{:^15}{:^20}\".format(p[\"name\"], p[\"phone\"], p[\"addr\"]))\n",
    "                found = True\n",
    "                break\n",
    "        if not found:\n",
    "            print(\"해당하는 성명을 찾을 수 없습니다.\")\n",
    "    elif no == 4:\n",
    "        print(\"{:^5}\".format(\"  수정기능  \"))\n",
    "    elif no == 5:\n",
    "        print(\"{:^5}\".format(\"  삭제기능  \"))\n",
    "    elif no == 6:\n",
    "        print(\"{:^5}\".format(\"  종료-굿바이 \"))\n",
    "        break\n",
    "    else:\n",
    "        print(\"{:^5}\".format(\"  선택 사항 없음\"))\n",
    "    print()\n",
    "print(\"다음 기회에 만나요~\")\n",
    "    \n",
    "        "
   ]
  },
  {
   "cell_type": "code",
   "execution_count": 6,
   "metadata": {},
   "outputs": [
    {
     "name": "stdout",
     "output_type": "stream",
     "text": [
      "1.입력 2.출력 3.검색 4.수정 5.삭제 6.종료\n",
      "--------------------- 입력 기능 ----------------------\n",
      "주소 입력 완료!!\n",
      "\n",
      "1.입력 2.출력 3.검색 4.수정 5.삭제 6.종료\n",
      "--------------------- 출력 기능 ----------------------\n",
      "번호     성명          전화                주소         \n",
      "--------------------------------------------------\n",
      " 1     정            0                0          \n",
      "\n",
      "1.입력 2.출력 3.검색 4.수정 5.삭제 6.종료\n",
      "--------------------- 검색 기능 ----------------------\n",
      "    성명          전화                주소         \n",
      "    정            0                0          \n",
      "\n",
      "1.입력 2.출력 3.검색 4.수정 5.삭제 6.종료\n",
      "--------------------- 출력 기능 ----------------------\n",
      "번호     성명          전화                주소         \n",
      "--------------------------------------------------\n",
      " 1     정            0                0          \n",
      "\n",
      "1.입력 2.출력 3.검색 4.수정 5.삭제 6.종료\n",
      "--------------------- 검색 기능 ----------------------\n",
      "    성명          전화                주소         \n",
      "    정            0                0          \n",
      "\n",
      "1.입력 2.출력 3.검색 4.수정 5.삭제 6.종료\n",
      "--------------------- 수정 기능 ----------------------\n",
      "정보 수정이 완료되었습니다.\n",
      "\n",
      "1.입력 2.출력 3.검색 4.수정 5.삭제 6.종료\n",
      "--------------------- 출력 기능 ----------------------\n",
      "번호     성명          전화                주소         \n",
      "--------------------------------------------------\n",
      " 1    정인웅          010               강남         \n",
      "\n",
      "1.입력 2.출력 3.검색 4.수정 5.삭제 6.종료\n"
     ]
    }
   ],
   "source": [
    "plist = []\n",
    "\n",
    "while True:\n",
    "    print(\"1.입력 2.출력 3.검색 4.수정 5.삭제 6.종료\")\n",
    "    no = int(input(\"선택: \"))\n",
    "    if no == 1:\n",
    "        print(\"{:-^50}\".format(\" 입력 기능 \"))\n",
    "        people = {}\n",
    "        people[\"name\"] = input(\"성명>>>\")\n",
    "        people[\"phone\"] = input(\"전화>>>\")\n",
    "        people[\"addr\"] = input(\"주소>>>\")\n",
    "        plist.append(people)\n",
    "        print(\"주소 입력 완료!!\")\n",
    "    elif no == 2:\n",
    "        print(\"{:-^50}\".format(\" 출력 기능 \"))\n",
    "        print(\"{:^3}{:^10}{:^15}{:^20}\".format(\"번호\", \"성명\", \"전화\", \"주소\"))\n",
    "        print(\"-\" * 50)\n",
    "        for i, p in enumerate(plist):\n",
    "            print(\"{:^3}{:^10}{:^15}{:^20}\".format(i + 1, p[\"name\"], p[\"phone\"], p[\"addr\"]))\n",
    "    elif no == 3:\n",
    "        print(\"{:-^50}\".format(\" 검색 기능 \"))\n",
    "        search_name = input(\"검색할 성명을 입력하세요: \")\n",
    "        found = False\n",
    "        for p in plist:\n",
    "            if p[\"name\"] == search_name:\n",
    "                print(\"{:^10}{:^15}{:^20}\".format(\"성명\", \"전화\", \"주소\"))\n",
    "                print(\"{:^10}{:^15}{:^20}\".format(p[\"name\"], p[\"phone\"], p[\"addr\"]))\n",
    "                found = True\n",
    "                break\n",
    "        if not found:\n",
    "            print(\"해당하는 성명을 찾을 수 없습니다.\")\n",
    "    elif no == 4:\n",
    "        print(\"{:-^50}\".format(\" 수정 기능 \"))\n",
    "        index = int(input(\"수정할 번호를 입력하세요: \")) - 1\n",
    "        if 0 <= index < len(plist):\n",
    "            plist[index][\"name\"] = input(\"새로운 성명을 입력하세요: \")\n",
    "            plist[index][\"phone\"] = input(\"새로운 전화번호를 입력하세요: \")\n",
    "            plist[index][\"addr\"] = input(\"새로운 주소를 입력하세요: \")\n",
    "            print(\"정보 수정이 완료되었습니다.\")\n",
    "        else:\n",
    "            print(\"잘못된 번호입니다.\")\n",
    "    elif no == 5:\n",
    "        print(\"{:-^50}\".format(\" 삭제 기능 \"))\n",
    "        index = int(input(\"삭제할 번호를 입력하세요: \")) - 1\n",
    "        if 0 <= index < len(plist):\n",
    "            del plist[index]\n",
    "            print(\"정보 삭제가 완료되었습니다.\")\n",
    "        else:\n",
    "            print(\"잘못된 번호입니다.\")\n",
    "    elif no == 6:\n",
    "        print(\"{:^5}\".format(\" 종료-굿바이 \"))\n",
    "        break\n",
    "    else:\n",
    "        print(\"{:^5}\".format(\" 선택 사항 없음\"))\n",
    "    print()\n",
    "print(\"다음 기회에 만나요~\")\n"
   ]
  },
  {
   "cell_type": "code",
   "execution_count": 4,
   "metadata": {},
   "outputs": [
    {
     "name": "stdout",
     "output_type": "stream",
     "text": [
      "양수 리스트>>  [1, 2, 3, 1, 2, 3, 4, 1]\n",
      "음수 리스트>>  [-3, -5]\n"
     ]
    }
   ],
   "source": [
    "plus = []\n",
    "minus = []\n",
    "\n",
    "for i in range(10):\n",
    "    num = int(input('입력{}>> '.format(i+1)))\n",
    "    if num >0:\n",
    "        plus.append(num)\n",
    "    else:\n",
    "        minus.append(num)\n",
    "print(\"양수 리스트>> \", plus)\n",
    "print(\"음수 리스트>> \", minus)"
   ]
  },
  {
   "cell_type": "code",
   "execution_count": 9,
   "metadata": {},
   "outputs": [
    {
     "name": "stdout",
     "output_type": "stream",
     "text": [
      "40 40 60 10개 중의 임의의 합 140\n"
     ]
    }
   ],
   "source": [
    "import random \n",
    "\n",
    "number = [10,20,30,40,50,60,70,80,90,10]\n",
    "sum = 0\n",
    "for i in range(3):\n",
    "    num = int(random.choice(number))\n",
    "    print(num, end=' ')\n",
    "    sum += num\n",
    "print('10개 중의 임의의 합',sum)\n"
   ]
  },
  {
   "cell_type": "code",
   "execution_count": 11,
   "metadata": {},
   "outputs": [],
   "source": [
    "four_four_list = [[9,5,13,14],[11,3,4,6], [10,1,12,8],[15,6,7,2]]\n"
   ]
  },
  {
   "cell_type": "code",
   "execution_count": 12,
   "metadata": {},
   "outputs": [
    {
     "data": {
      "text/plain": [
       "[[9, 5, 13, 14], [10, 1, 12, 8], [11, 3, 4, 6], [15, 6, 7, 2]]"
      ]
     },
     "execution_count": 12,
     "metadata": {},
     "output_type": "execute_result"
    }
   ],
   "source": [
    "four_four_list"
   ]
  },
  {
   "cell_type": "code",
   "execution_count": 15,
   "metadata": {},
   "outputs": [
    {
     "name": "stdout",
     "output_type": "stream",
     "text": [
      "[ [2, 14, 16, 8],\n",
      "  [4, 1, 3, 11],\n",
      "  [15, 6, 7, 10],\n",
      "  [9, 5, 12, 13]]\n"
     ]
    }
   ],
   "source": [
    "import pprint\n",
    "import random\n",
    "lis = list(range(1,17))\n",
    "random.shuffle(lis)\n",
    "\n",
    "new_list = []\n",
    "cnt = 0\n",
    "for i in range(4):\n",
    "    new_list.append([])\n",
    "    for j in range(4):\n",
    "        new_list[i].append(lis[cnt])\n",
    "        cnt += 1\n",
    "pprint.pprint(new_list, indent=2, width=20)"
   ]
  },
  {
   "cell_type": "code",
   "execution_count": 17,
   "metadata": {},
   "outputs": [
    {
     "name": "stdout",
     "output_type": "stream",
     "text": [
      "{37, 7, 13, 17, 29, 30}\n"
     ]
    }
   ],
   "source": [
    "import random\n",
    "lotto = set()\n",
    "while len(lotto) <6:\n",
    "    lotto.add(random.randint(1,46))\n",
    "print(lotto)\n"
   ]
  },
  {
   "cell_type": "code",
   "execution_count": 20,
   "metadata": {},
   "outputs": [
    {
     "name": "stdout",
     "output_type": "stream",
     "text": [
      "{   'email': '1',\n",
      "    'name': '정',\n",
      "    'no': '1',\n",
      "    'phone': '1'}\n",
      "dict_keys(['no', 'name', 'phone', 'email'])\n",
      "dict_values(['1', '정', '1', '1'])\n"
     ]
    }
   ],
   "source": [
    "list_dict = {}\n",
    "for key in ['no', 'name', 'phone', 'email']:\n",
    "    data = input(key+\" 입력>>\")\n",
    "    list_dict[key] = data\n",
    "\n",
    "pprint.pprint(list_dict, indent=4, width=20)\n",
    "keys = list_dict.keys()\n",
    "values = list_dict.values()\n",
    "print(keys)\n",
    "print(values)"
   ]
  },
  {
   "cell_type": "code",
   "execution_count": 4,
   "metadata": {},
   "outputs": [
    {
     "name": "stdout",
     "output_type": "stream",
     "text": [
      "43\n"
     ]
    }
   ],
   "source": [
    "days = int(input(\"How many days until your birthday?\"))\n",
    "print(round(days/7))"
   ]
  },
  {
   "cell_type": "code",
   "execution_count": null,
   "metadata": {},
   "outputs": [],
   "source": []
  }
 ],
 "metadata": {
  "kernelspec": {
   "display_name": "Python 3",
   "language": "python",
   "name": "python3"
  },
  "language_info": {
   "codemirror_mode": {
    "name": "ipython",
    "version": 3
   },
   "file_extension": ".py",
   "mimetype": "text/x-python",
   "name": "python",
   "nbconvert_exporter": "python",
   "pygments_lexer": "ipython3",
   "version": "3.12.2"
  }
 },
 "nbformat": 4,
 "nbformat_minor": 2
}
