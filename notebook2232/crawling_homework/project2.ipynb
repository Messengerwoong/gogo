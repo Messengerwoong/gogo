{
 "cells": [
  {
   "cell_type": "code",
   "execution_count": 3,
   "metadata": {},
   "outputs": [
    {
     "name": "stdout",
     "output_type": "stream",
     "text": [
      "Defaulting to user installation because normal site-packages is not writeable\n",
      "Requirement already satisfied: selenium in c:\\users\\jw\\appdata\\local\\packages\\pythonsoftwarefoundation.python.3.12_qbz5n2kfra8p0\\localcache\\local-packages\\python312\\site-packages (4.19.0)\n",
      "Requirement already satisfied: urllib3<3,>=1.26 in c:\\users\\jw\\appdata\\local\\packages\\pythonsoftwarefoundation.python.3.12_qbz5n2kfra8p0\\localcache\\local-packages\\python312\\site-packages (from urllib3[socks]<3,>=1.26->selenium) (2.2.1)\n",
      "Requirement already satisfied: trio~=0.17 in c:\\users\\jw\\appdata\\local\\packages\\pythonsoftwarefoundation.python.3.12_qbz5n2kfra8p0\\localcache\\local-packages\\python312\\site-packages (from selenium) (0.25.0)\n",
      "Requirement already satisfied: trio-websocket~=0.9 in c:\\users\\jw\\appdata\\local\\packages\\pythonsoftwarefoundation.python.3.12_qbz5n2kfra8p0\\localcache\\local-packages\\python312\\site-packages (from selenium) (0.11.1)\n",
      "Requirement already satisfied: certifi>=2021.10.8 in c:\\users\\jw\\appdata\\local\\packages\\pythonsoftwarefoundation.python.3.12_qbz5n2kfra8p0\\localcache\\local-packages\\python312\\site-packages (from selenium) (2024.2.2)\n",
      "Requirement already satisfied: typing_extensions>=4.9.0 in c:\\users\\jw\\appdata\\local\\packages\\pythonsoftwarefoundation.python.3.12_qbz5n2kfra8p0\\localcache\\local-packages\\python312\\site-packages (from selenium) (4.11.0)\n",
      "Requirement already satisfied: attrs>=23.2.0 in c:\\users\\jw\\appdata\\local\\packages\\pythonsoftwarefoundation.python.3.12_qbz5n2kfra8p0\\localcache\\local-packages\\python312\\site-packages (from trio~=0.17->selenium) (23.2.0)\n",
      "Requirement already satisfied: sortedcontainers in c:\\users\\jw\\appdata\\local\\packages\\pythonsoftwarefoundation.python.3.12_qbz5n2kfra8p0\\localcache\\local-packages\\python312\\site-packages (from trio~=0.17->selenium) (2.4.0)\n",
      "Requirement already satisfied: idna in c:\\users\\jw\\appdata\\local\\packages\\pythonsoftwarefoundation.python.3.12_qbz5n2kfra8p0\\localcache\\local-packages\\python312\\site-packages (from trio~=0.17->selenium) (3.6)\n",
      "Requirement already satisfied: outcome in c:\\users\\jw\\appdata\\local\\packages\\pythonsoftwarefoundation.python.3.12_qbz5n2kfra8p0\\localcache\\local-packages\\python312\\site-packages (from trio~=0.17->selenium) (1.3.0.post0)\n",
      "Requirement already satisfied: sniffio>=1.3.0 in c:\\users\\jw\\appdata\\local\\packages\\pythonsoftwarefoundation.python.3.12_qbz5n2kfra8p0\\localcache\\local-packages\\python312\\site-packages (from trio~=0.17->selenium) (1.3.1)\n",
      "Requirement already satisfied: cffi>=1.14 in c:\\users\\jw\\appdata\\local\\packages\\pythonsoftwarefoundation.python.3.12_qbz5n2kfra8p0\\localcache\\local-packages\\python312\\site-packages (from trio~=0.17->selenium) (1.16.0)\n",
      "Requirement already satisfied: wsproto>=0.14 in c:\\users\\jw\\appdata\\local\\packages\\pythonsoftwarefoundation.python.3.12_qbz5n2kfra8p0\\localcache\\local-packages\\python312\\site-packages (from trio-websocket~=0.9->selenium) (1.2.0)\n",
      "Requirement already satisfied: pysocks!=1.5.7,<2.0,>=1.5.6 in c:\\users\\jw\\appdata\\local\\packages\\pythonsoftwarefoundation.python.3.12_qbz5n2kfra8p0\\localcache\\local-packages\\python312\\site-packages (from urllib3[socks]<3,>=1.26->selenium) (1.7.1)\n",
      "Requirement already satisfied: pycparser in c:\\users\\jw\\appdata\\local\\packages\\pythonsoftwarefoundation.python.3.12_qbz5n2kfra8p0\\localcache\\local-packages\\python312\\site-packages (from cffi>=1.14->trio~=0.17->selenium) (2.22)\n",
      "Requirement already satisfied: h11<1,>=0.9.0 in c:\\users\\jw\\appdata\\local\\packages\\pythonsoftwarefoundation.python.3.12_qbz5n2kfra8p0\\localcache\\local-packages\\python312\\site-packages (from wsproto>=0.14->trio-websocket~=0.9->selenium) (0.14.0)\n"
     ]
    }
   ],
   "source": [
    "!pip install selenium"
   ]
  },
  {
   "cell_type": "code",
   "execution_count": 4,
   "metadata": {},
   "outputs": [
    {
     "name": "stdout",
     "output_type": "stream",
     "text": [
      "Defaulting to user installation because normal site-packages is not writeable\n",
      "Requirement already satisfied: webdriver-manager in c:\\users\\jw\\appdata\\local\\packages\\pythonsoftwarefoundation.python.3.12_qbz5n2kfra8p0\\localcache\\local-packages\\python312\\site-packages (4.0.1)\n",
      "Requirement already satisfied: requests in c:\\users\\jw\\appdata\\local\\packages\\pythonsoftwarefoundation.python.3.12_qbz5n2kfra8p0\\localcache\\local-packages\\python312\\site-packages (from webdriver-manager) (2.31.0)\n",
      "Requirement already satisfied: python-dotenv in c:\\users\\jw\\appdata\\local\\packages\\pythonsoftwarefoundation.python.3.12_qbz5n2kfra8p0\\localcache\\local-packages\\python312\\site-packages (from webdriver-manager) (1.0.1)\n",
      "Requirement already satisfied: packaging in c:\\users\\jw\\appdata\\local\\packages\\pythonsoftwarefoundation.python.3.12_qbz5n2kfra8p0\\localcache\\local-packages\\python312\\site-packages (from webdriver-manager) (24.0)\n",
      "Requirement already satisfied: charset-normalizer<4,>=2 in c:\\users\\jw\\appdata\\local\\packages\\pythonsoftwarefoundation.python.3.12_qbz5n2kfra8p0\\localcache\\local-packages\\python312\\site-packages (from requests->webdriver-manager) (3.3.2)\n",
      "Requirement already satisfied: idna<4,>=2.5 in c:\\users\\jw\\appdata\\local\\packages\\pythonsoftwarefoundation.python.3.12_qbz5n2kfra8p0\\localcache\\local-packages\\python312\\site-packages (from requests->webdriver-manager) (3.6)\n",
      "Requirement already satisfied: urllib3<3,>=1.21.1 in c:\\users\\jw\\appdata\\local\\packages\\pythonsoftwarefoundation.python.3.12_qbz5n2kfra8p0\\localcache\\local-packages\\python312\\site-packages (from requests->webdriver-manager) (2.2.1)\n",
      "Requirement already satisfied: certifi>=2017.4.17 in c:\\users\\jw\\appdata\\local\\packages\\pythonsoftwarefoundation.python.3.12_qbz5n2kfra8p0\\localcache\\local-packages\\python312\\site-packages (from requests->webdriver-manager) (2024.2.2)\n"
     ]
    }
   ],
   "source": [
    "!pip install webdriver-manager"
   ]
  },
  {
   "cell_type": "code",
   "execution_count": 1,
   "metadata": {},
   "outputs": [
    {
     "name": "stdout",
     "output_type": "stream",
     "text": [
      "Defaulting to user installation because normal site-packages is not writeable\n",
      "Requirement already satisfied: schedule in c:\\users\\jw\\appdata\\local\\packages\\pythonsoftwarefoundation.python.3.12_qbz5n2kfra8p0\\localcache\\local-packages\\python312\\site-packages (1.2.1)\n"
     ]
    }
   ],
   "source": [
    "!pip install schedule"
   ]
  },
  {
   "cell_type": "code",
   "execution_count": 2,
   "metadata": {},
   "outputs": [
    {
     "name": "stdout",
     "output_type": "stream",
     "text": [
      "Defaulting to user installation because normal site-packages is not writeable\n",
      "Collecting jupyter_scheduler\n",
      "  Downloading jupyter_scheduler-2.5.1-py3-none-any.whl.metadata (4.8 kB)\n",
      "Collecting croniter~=1.4 (from jupyter_scheduler)\n",
      "  Downloading croniter-1.4.1-py2.py3-none-any.whl.metadata (24 kB)\n",
      "Collecting fsspec==2023.6.0 (from jupyter_scheduler)\n",
      "  Downloading fsspec-2023.6.0-py3-none-any.whl.metadata (6.7 kB)\n",
      "Collecting jupyter-server<3,>=1.6 (from jupyter_scheduler)\n",
      "  Downloading jupyter_server-2.14.0-py3-none-any.whl.metadata (8.4 kB)\n",
      "Collecting nbconvert~=7.0 (from jupyter_scheduler)\n",
      "  Downloading nbconvert-7.16.3-py3-none-any.whl.metadata (8.2 kB)\n",
      "Requirement already satisfied: psutil~=5.9 in c:\\users\\jw\\appdata\\local\\packages\\pythonsoftwarefoundation.python.3.12_qbz5n2kfra8p0\\localcache\\local-packages\\python312\\site-packages (from jupyter_scheduler) (5.9.8)\n",
      "Collecting pydantic<3,>=1.10 (from jupyter_scheduler)\n",
      "  Downloading pydantic-2.7.0-py3-none-any.whl.metadata (103 kB)\n",
      "     ---------------------------------------- 0.0/103.4 kB ? eta -:--:--\n",
      "     -------------------------------------- 103.4/103.4 kB 2.9 MB/s eta 0:00:00\n",
      "Collecting pytz==2023.3 (from jupyter_scheduler)\n",
      "  Downloading pytz-2023.3-py2.py3-none-any.whl.metadata (22 kB)\n",
      "Collecting sqlalchemy~=1.0 (from jupyter_scheduler)\n",
      "  Downloading SQLAlchemy-1.4.52-cp312-cp312-win_amd64.whl.metadata (10 kB)\n",
      "Requirement already satisfied: traitlets~=5.0 in c:\\users\\jw\\appdata\\local\\packages\\pythonsoftwarefoundation.python.3.12_qbz5n2kfra8p0\\localcache\\local-packages\\python312\\site-packages (from jupyter_scheduler) (5.14.2)\n",
      "Requirement already satisfied: python-dateutil in c:\\users\\jw\\appdata\\local\\packages\\pythonsoftwarefoundation.python.3.12_qbz5n2kfra8p0\\localcache\\local-packages\\python312\\site-packages (from croniter~=1.4->jupyter_scheduler) (2.9.0.post0)\n",
      "Collecting anyio>=3.1.0 (from jupyter-server<3,>=1.6->jupyter_scheduler)\n",
      "  Downloading anyio-4.3.0-py3-none-any.whl.metadata (4.6 kB)\n",
      "Collecting argon2-cffi>=21.1 (from jupyter-server<3,>=1.6->jupyter_scheduler)\n",
      "  Downloading argon2_cffi-23.1.0-py3-none-any.whl.metadata (5.2 kB)\n",
      "Collecting jinja2>=3.0.3 (from jupyter-server<3,>=1.6->jupyter_scheduler)\n",
      "  Downloading Jinja2-3.1.3-py3-none-any.whl.metadata (3.3 kB)\n",
      "Requirement already satisfied: jupyter-client>=7.4.4 in c:\\users\\jw\\appdata\\local\\packages\\pythonsoftwarefoundation.python.3.12_qbz5n2kfra8p0\\localcache\\local-packages\\python312\\site-packages (from jupyter-server<3,>=1.6->jupyter_scheduler) (8.6.1)\n",
      "Requirement already satisfied: jupyter-core!=5.0.*,>=4.12 in c:\\users\\jw\\appdata\\local\\packages\\pythonsoftwarefoundation.python.3.12_qbz5n2kfra8p0\\localcache\\local-packages\\python312\\site-packages (from jupyter-server<3,>=1.6->jupyter_scheduler) (5.7.2)\n",
      "Collecting jupyter-events>=0.9.0 (from jupyter-server<3,>=1.6->jupyter_scheduler)\n",
      "  Downloading jupyter_events-0.10.0-py3-none-any.whl.metadata (5.9 kB)\n",
      "Collecting jupyter-server-terminals>=0.4.4 (from jupyter-server<3,>=1.6->jupyter_scheduler)\n",
      "  Downloading jupyter_server_terminals-0.5.3-py3-none-any.whl.metadata (5.6 kB)\n",
      "Collecting nbformat>=5.3.0 (from jupyter-server<3,>=1.6->jupyter_scheduler)\n",
      "  Downloading nbformat-5.10.4-py3-none-any.whl.metadata (3.6 kB)\n",
      "Collecting overrides>=5.0 (from jupyter-server<3,>=1.6->jupyter_scheduler)\n",
      "  Downloading overrides-7.7.0-py3-none-any.whl.metadata (5.8 kB)\n",
      "Requirement already satisfied: packaging>=22.0 in c:\\users\\jw\\appdata\\local\\packages\\pythonsoftwarefoundation.python.3.12_qbz5n2kfra8p0\\localcache\\local-packages\\python312\\site-packages (from jupyter-server<3,>=1.6->jupyter_scheduler) (24.0)\n",
      "Collecting prometheus-client>=0.9 (from jupyter-server<3,>=1.6->jupyter_scheduler)\n",
      "  Downloading prometheus_client-0.20.0-py3-none-any.whl.metadata (1.8 kB)\n",
      "Collecting pywinpty>=2.0.1 (from jupyter-server<3,>=1.6->jupyter_scheduler)\n",
      "  Downloading pywinpty-2.0.13-cp312-none-win_amd64.whl.metadata (5.2 kB)\n",
      "Requirement already satisfied: pyzmq>=24 in c:\\users\\jw\\appdata\\local\\packages\\pythonsoftwarefoundation.python.3.12_qbz5n2kfra8p0\\localcache\\local-packages\\python312\\site-packages (from jupyter-server<3,>=1.6->jupyter_scheduler) (25.1.2)\n",
      "Collecting send2trash>=1.8.2 (from jupyter-server<3,>=1.6->jupyter_scheduler)\n",
      "  Downloading Send2Trash-1.8.3-py3-none-any.whl.metadata (4.0 kB)\n",
      "Collecting terminado>=0.8.3 (from jupyter-server<3,>=1.6->jupyter_scheduler)\n",
      "  Downloading terminado-0.18.1-py3-none-any.whl.metadata (5.8 kB)\n",
      "Requirement already satisfied: tornado>=6.2.0 in c:\\users\\jw\\appdata\\local\\packages\\pythonsoftwarefoundation.python.3.12_qbz5n2kfra8p0\\localcache\\local-packages\\python312\\site-packages (from jupyter-server<3,>=1.6->jupyter_scheduler) (6.4)\n",
      "Collecting websocket-client>=1.7 (from jupyter-server<3,>=1.6->jupyter_scheduler)\n",
      "  Downloading websocket_client-1.7.0-py3-none-any.whl.metadata (7.9 kB)\n",
      "Collecting beautifulsoup4 (from nbconvert~=7.0->jupyter_scheduler)\n",
      "  Downloading beautifulsoup4-4.12.3-py3-none-any.whl.metadata (3.8 kB)\n",
      "Collecting bleach!=5.0.0 (from nbconvert~=7.0->jupyter_scheduler)\n",
      "  Downloading bleach-6.1.0-py3-none-any.whl.metadata (30 kB)\n",
      "Collecting defusedxml (from nbconvert~=7.0->jupyter_scheduler)\n",
      "  Downloading defusedxml-0.7.1-py2.py3-none-any.whl.metadata (32 kB)\n",
      "Collecting jupyterlab-pygments (from nbconvert~=7.0->jupyter_scheduler)\n",
      "  Downloading jupyterlab_pygments-0.3.0-py3-none-any.whl.metadata (4.4 kB)\n",
      "Collecting markupsafe>=2.0 (from nbconvert~=7.0->jupyter_scheduler)\n",
      "  Downloading MarkupSafe-2.1.5-cp312-cp312-win_amd64.whl.metadata (3.1 kB)\n",
      "Collecting mistune<4,>=2.0.3 (from nbconvert~=7.0->jupyter_scheduler)\n",
      "  Downloading mistune-3.0.2-py3-none-any.whl.metadata (1.7 kB)\n",
      "Collecting nbclient>=0.5.0 (from nbconvert~=7.0->jupyter_scheduler)\n",
      "  Downloading nbclient-0.10.0-py3-none-any.whl.metadata (7.8 kB)\n",
      "Collecting pandocfilters>=1.4.1 (from nbconvert~=7.0->jupyter_scheduler)\n",
      "  Downloading pandocfilters-1.5.1-py2.py3-none-any.whl.metadata (9.0 kB)\n",
      "Requirement already satisfied: pygments>=2.4.1 in c:\\users\\jw\\appdata\\local\\packages\\pythonsoftwarefoundation.python.3.12_qbz5n2kfra8p0\\localcache\\local-packages\\python312\\site-packages (from nbconvert~=7.0->jupyter_scheduler) (2.17.2)\n",
      "Collecting tinycss2 (from nbconvert~=7.0->jupyter_scheduler)\n",
      "  Downloading tinycss2-1.2.1-py3-none-any.whl.metadata (3.0 kB)\n",
      "Collecting annotated-types>=0.4.0 (from pydantic<3,>=1.10->jupyter_scheduler)\n",
      "  Downloading annotated_types-0.6.0-py3-none-any.whl.metadata (12 kB)\n",
      "Collecting pydantic-core==2.18.1 (from pydantic<3,>=1.10->jupyter_scheduler)\n",
      "  Downloading pydantic_core-2.18.1-cp312-none-win_amd64.whl.metadata (6.7 kB)\n",
      "Requirement already satisfied: typing-extensions>=4.6.1 in c:\\users\\jw\\appdata\\local\\packages\\pythonsoftwarefoundation.python.3.12_qbz5n2kfra8p0\\localcache\\local-packages\\python312\\site-packages (from pydantic<3,>=1.10->jupyter_scheduler) (4.11.0)\n",
      "Collecting greenlet!=0.4.17 (from sqlalchemy~=1.0->jupyter_scheduler)\n",
      "  Downloading greenlet-3.0.3-cp312-cp312-win_amd64.whl.metadata (3.9 kB)\n",
      "Requirement already satisfied: idna>=2.8 in c:\\users\\jw\\appdata\\local\\packages\\pythonsoftwarefoundation.python.3.12_qbz5n2kfra8p0\\localcache\\local-packages\\python312\\site-packages (from anyio>=3.1.0->jupyter-server<3,>=1.6->jupyter_scheduler) (3.6)\n",
      "Requirement already satisfied: sniffio>=1.1 in c:\\users\\jw\\appdata\\local\\packages\\pythonsoftwarefoundation.python.3.12_qbz5n2kfra8p0\\localcache\\local-packages\\python312\\site-packages (from anyio>=3.1.0->jupyter-server<3,>=1.6->jupyter_scheduler) (1.3.1)\n",
      "Collecting argon2-cffi-bindings (from argon2-cffi>=21.1->jupyter-server<3,>=1.6->jupyter_scheduler)\n",
      "  Downloading argon2_cffi_bindings-21.2.0-cp36-abi3-win_amd64.whl.metadata (6.7 kB)\n",
      "Requirement already satisfied: six>=1.9.0 in c:\\users\\jw\\appdata\\local\\packages\\pythonsoftwarefoundation.python.3.12_qbz5n2kfra8p0\\localcache\\local-packages\\python312\\site-packages (from bleach!=5.0.0->nbconvert~=7.0->jupyter_scheduler) (1.16.0)\n",
      "Collecting webencodings (from bleach!=5.0.0->nbconvert~=7.0->jupyter_scheduler)\n",
      "  Downloading webencodings-0.5.1-py2.py3-none-any.whl.metadata (2.1 kB)\n",
      "Requirement already satisfied: platformdirs>=2.5 in c:\\users\\jw\\appdata\\local\\packages\\pythonsoftwarefoundation.python.3.12_qbz5n2kfra8p0\\localcache\\local-packages\\python312\\site-packages (from jupyter-core!=5.0.*,>=4.12->jupyter-server<3,>=1.6->jupyter_scheduler) (4.2.0)\n",
      "Requirement already satisfied: pywin32>=300 in c:\\users\\jw\\appdata\\local\\packages\\pythonsoftwarefoundation.python.3.12_qbz5n2kfra8p0\\localcache\\local-packages\\python312\\site-packages (from jupyter-core!=5.0.*,>=4.12->jupyter-server<3,>=1.6->jupyter_scheduler) (306)\n",
      "Collecting jsonschema>=4.18.0 (from jsonschema[format-nongpl]>=4.18.0->jupyter-events>=0.9.0->jupyter-server<3,>=1.6->jupyter_scheduler)\n",
      "  Downloading jsonschema-4.21.1-py3-none-any.whl.metadata (7.8 kB)\n",
      "Collecting python-json-logger>=2.0.4 (from jupyter-events>=0.9.0->jupyter-server<3,>=1.6->jupyter_scheduler)\n",
      "  Downloading python_json_logger-2.0.7-py3-none-any.whl.metadata (6.5 kB)\n",
      "Collecting pyyaml>=5.3 (from jupyter-events>=0.9.0->jupyter-server<3,>=1.6->jupyter_scheduler)\n",
      "  Downloading PyYAML-6.0.1-cp312-cp312-win_amd64.whl.metadata (2.1 kB)\n",
      "Collecting referencing (from jupyter-events>=0.9.0->jupyter-server<3,>=1.6->jupyter_scheduler)\n",
      "  Downloading referencing-0.34.0-py3-none-any.whl.metadata (2.8 kB)\n",
      "Collecting rfc3339-validator (from jupyter-events>=0.9.0->jupyter-server<3,>=1.6->jupyter_scheduler)\n",
      "  Downloading rfc3339_validator-0.1.4-py2.py3-none-any.whl.metadata (1.5 kB)\n",
      "Collecting rfc3986-validator>=0.1.1 (from jupyter-events>=0.9.0->jupyter-server<3,>=1.6->jupyter_scheduler)\n",
      "  Downloading rfc3986_validator-0.1.1-py2.py3-none-any.whl.metadata (1.7 kB)\n",
      "Collecting fastjsonschema>=2.15 (from nbformat>=5.3.0->jupyter-server<3,>=1.6->jupyter_scheduler)\n",
      "  Downloading fastjsonschema-2.19.1-py3-none-any.whl.metadata (2.1 kB)\n",
      "Collecting soupsieve>1.2 (from beautifulsoup4->nbconvert~=7.0->jupyter_scheduler)\n",
      "  Downloading soupsieve-2.5-py3-none-any.whl.metadata (4.7 kB)\n",
      "Requirement already satisfied: attrs>=22.2.0 in c:\\users\\jw\\appdata\\local\\packages\\pythonsoftwarefoundation.python.3.12_qbz5n2kfra8p0\\localcache\\local-packages\\python312\\site-packages (from jsonschema>=4.18.0->jsonschema[format-nongpl]>=4.18.0->jupyter-events>=0.9.0->jupyter-server<3,>=1.6->jupyter_scheduler) (23.2.0)\n",
      "Collecting jsonschema-specifications>=2023.03.6 (from jsonschema>=4.18.0->jsonschema[format-nongpl]>=4.18.0->jupyter-events>=0.9.0->jupyter-server<3,>=1.6->jupyter_scheduler)\n",
      "  Downloading jsonschema_specifications-2023.12.1-py3-none-any.whl.metadata (3.0 kB)\n",
      "Collecting rpds-py>=0.7.1 (from jsonschema>=4.18.0->jsonschema[format-nongpl]>=4.18.0->jupyter-events>=0.9.0->jupyter-server<3,>=1.6->jupyter_scheduler)\n",
      "  Downloading rpds_py-0.18.0-cp312-none-win_amd64.whl.metadata (4.2 kB)\n",
      "Collecting fqdn (from jsonschema[format-nongpl]>=4.18.0->jupyter-events>=0.9.0->jupyter-server<3,>=1.6->jupyter_scheduler)\n",
      "  Downloading fqdn-1.5.1-py3-none-any.whl.metadata (1.4 kB)\n",
      "Collecting isoduration (from jsonschema[format-nongpl]>=4.18.0->jupyter-events>=0.9.0->jupyter-server<3,>=1.6->jupyter_scheduler)\n",
      "  Downloading isoduration-20.11.0-py3-none-any.whl.metadata (5.7 kB)\n",
      "Collecting jsonpointer>1.13 (from jsonschema[format-nongpl]>=4.18.0->jupyter-events>=0.9.0->jupyter-server<3,>=1.6->jupyter_scheduler)\n",
      "  Downloading jsonpointer-2.4-py2.py3-none-any.whl.metadata (2.5 kB)\n",
      "Collecting uri-template (from jsonschema[format-nongpl]>=4.18.0->jupyter-events>=0.9.0->jupyter-server<3,>=1.6->jupyter_scheduler)\n",
      "  Downloading uri_template-1.3.0-py3-none-any.whl.metadata (8.8 kB)\n",
      "Collecting webcolors>=1.11 (from jsonschema[format-nongpl]>=4.18.0->jupyter-events>=0.9.0->jupyter-server<3,>=1.6->jupyter_scheduler)\n",
      "  Downloading webcolors-1.13-py3-none-any.whl.metadata (2.6 kB)\n",
      "Requirement already satisfied: cffi>=1.0.1 in c:\\users\\jw\\appdata\\local\\packages\\pythonsoftwarefoundation.python.3.12_qbz5n2kfra8p0\\localcache\\local-packages\\python312\\site-packages (from argon2-cffi-bindings->argon2-cffi>=21.1->jupyter-server<3,>=1.6->jupyter_scheduler) (1.16.0)\n",
      "Requirement already satisfied: pycparser in c:\\users\\jw\\appdata\\local\\packages\\pythonsoftwarefoundation.python.3.12_qbz5n2kfra8p0\\localcache\\local-packages\\python312\\site-packages (from cffi>=1.0.1->argon2-cffi-bindings->argon2-cffi>=21.1->jupyter-server<3,>=1.6->jupyter_scheduler) (2.22)\n",
      "Collecting arrow>=0.15.0 (from isoduration->jsonschema[format-nongpl]>=4.18.0->jupyter-events>=0.9.0->jupyter-server<3,>=1.6->jupyter_scheduler)\n",
      "  Downloading arrow-1.3.0-py3-none-any.whl.metadata (7.5 kB)\n",
      "Collecting types-python-dateutil>=2.8.10 (from arrow>=0.15.0->isoduration->jsonschema[format-nongpl]>=4.18.0->jupyter-events>=0.9.0->jupyter-server<3,>=1.6->jupyter_scheduler)\n",
      "  Downloading types_python_dateutil-2.9.0.20240316-py3-none-any.whl.metadata (1.8 kB)\n",
      "Downloading jupyter_scheduler-2.5.1-py3-none-any.whl (518 kB)\n",
      "   ---------------------------------------- 0.0/518.4 kB ? eta -:--:--\n",
      "   ------------- -------------------------- 174.1/518.4 kB 3.6 MB/s eta 0:00:01\n",
      "   -------------------------------- ------- 419.8/518.4 kB 5.3 MB/s eta 0:00:01\n",
      "   ---------------------------------------- 518.4/518.4 kB 4.1 MB/s eta 0:00:00\n",
      "Downloading fsspec-2023.6.0-py3-none-any.whl (163 kB)\n",
      "   ---------------------------------------- 0.0/163.8 kB ? eta -:--:--\n",
      "   ------------------------------------- -- 153.6/163.8 kB 4.6 MB/s eta 0:00:01\n",
      "   ---------------------------------------- 163.8/163.8 kB 3.3 MB/s eta 0:00:00\n",
      "Downloading pytz-2023.3-py2.py3-none-any.whl (502 kB)\n",
      "   ---------------------------------------- 0.0/502.3 kB ? eta -:--:--\n",
      "   ------------- -------------------------- 174.1/502.3 kB 5.3 MB/s eta 0:00:01\n",
      "   ---------------------------------- ----- 430.1/502.3 kB 5.4 MB/s eta 0:00:01\n",
      "   ---------------------------------------- 502.3/502.3 kB 4.5 MB/s eta 0:00:00\n",
      "Downloading croniter-1.4.1-py2.py3-none-any.whl (19 kB)\n",
      "Downloading jupyter_server-2.14.0-py3-none-any.whl (383 kB)\n",
      "   ---------------------------------------- 0.0/383.3 kB ? eta -:--:--\n",
      "   --------------------- ------------------ 204.8/383.3 kB 4.1 MB/s eta 0:00:01\n",
      "   ---------------------------------------- 383.3/383.3 kB 4.0 MB/s eta 0:00:00\n",
      "Downloading nbconvert-7.16.3-py3-none-any.whl (257 kB)\n",
      "   ---------------------------------------- 0.0/257.4 kB ? eta -:--:--\n",
      "   ---------------------------------------  256.0/257.4 kB 5.2 MB/s eta 0:00:01\n",
      "   ---------------------------------------- 257.4/257.4 kB 4.0 MB/s eta 0:00:00\n",
      "Downloading pydantic-2.7.0-py3-none-any.whl (407 kB)\n",
      "   ---------------------------------------- 0.0/407.9 kB ? eta -:--:--\n",
      "   -------------------- ------------------- 204.8/407.9 kB 6.3 MB/s eta 0:00:01\n",
      "   ---------------------------------------- 407.9/407.9 kB 5.1 MB/s eta 0:00:00\n",
      "Downloading pydantic_core-2.18.1-cp312-none-win_amd64.whl (1.9 MB)\n",
      "   ---------------------------------------- 0.0/1.9 MB ? eta -:--:--\n",
      "   ---- ----------------------------------- 0.2/1.9 MB 6.9 MB/s eta 0:00:01\n",
      "   ----------- ---------------------------- 0.5/1.9 MB 6.8 MB/s eta 0:00:01\n",
      "   ---------------- ----------------------- 0.8/1.9 MB 6.2 MB/s eta 0:00:01\n",
      "   --------------------- ------------------ 1.0/1.9 MB 6.0 MB/s eta 0:00:01\n",
      "   -------------------------- ------------- 1.3/1.9 MB 5.9 MB/s eta 0:00:01\n",
      "   -------------------------------- ------- 1.5/1.9 MB 5.8 MB/s eta 0:00:01\n",
      "   ------------------------------------- -- 1.8/1.9 MB 5.7 MB/s eta 0:00:01\n",
      "   ---------------------------------------  1.9/1.9 MB 5.6 MB/s eta 0:00:01\n",
      "   ---------------------------------------- 1.9/1.9 MB 4.9 MB/s eta 0:00:00\n",
      "Downloading SQLAlchemy-1.4.52-cp312-cp312-win_amd64.whl (1.6 MB)\n",
      "   ---------------------------------------- 0.0/1.6 MB ? eta -:--:--\n",
      "   ------ --------------------------------- 0.3/1.6 MB 5.2 MB/s eta 0:00:01\n",
      "   ------------- -------------------------- 0.6/1.6 MB 5.8 MB/s eta 0:00:01\n",
      "   -------------------- ------------------- 0.8/1.6 MB 5.7 MB/s eta 0:00:01\n",
      "   --------------------------- ------------ 1.1/1.6 MB 6.4 MB/s eta 0:00:01\n",
      "   ----------------------------------- ---- 1.4/1.6 MB 6.4 MB/s eta 0:00:01\n",
      "   ---------------------------------------  1.6/1.6 MB 5.9 MB/s eta 0:00:01\n",
      "   ---------------------------------------- 1.6/1.6 MB 5.3 MB/s eta 0:00:00\n",
      "Downloading annotated_types-0.6.0-py3-none-any.whl (12 kB)\n",
      "Downloading anyio-4.3.0-py3-none-any.whl (85 kB)\n",
      "   ---------------------------------------- 0.0/85.6 kB ? eta -:--:--\n",
      "   ---------------------------------------- 85.6/85.6 kB 5.0 MB/s eta 0:00:00\n",
      "Downloading argon2_cffi-23.1.0-py3-none-any.whl (15 kB)\n",
      "Downloading bleach-6.1.0-py3-none-any.whl (162 kB)\n",
      "   ---------------------------------------- 0.0/162.8 kB ? eta -:--:--\n",
      "   ---------------------------------------- 162.8/162.8 kB 4.9 MB/s eta 0:00:00\n",
      "Downloading greenlet-3.0.3-cp312-cp312-win_amd64.whl (293 kB)\n",
      "   ---------------------------------------- 0.0/293.6 kB ? eta -:--:--\n",
      "   ---------------------------------- ----- 256.0/293.6 kB 7.7 MB/s eta 0:00:01\n",
      "   ---------------------------------------- 293.6/293.6 kB 4.5 MB/s eta 0:00:00\n",
      "Downloading Jinja2-3.1.3-py3-none-any.whl (133 kB)\n",
      "   ---------------------------------------- 0.0/133.2 kB ? eta -:--:--\n",
      "   ---------------------------------------- 133.2/133.2 kB 8.2 MB/s eta 0:00:00\n",
      "Downloading jupyter_events-0.10.0-py3-none-any.whl (18 kB)\n",
      "Downloading jupyter_server_terminals-0.5.3-py3-none-any.whl (13 kB)\n",
      "Downloading MarkupSafe-2.1.5-cp312-cp312-win_amd64.whl (17 kB)\n",
      "Downloading mistune-3.0.2-py3-none-any.whl (47 kB)\n",
      "   ---------------------------------------- 0.0/48.0 kB ? eta -:--:--\n",
      "   ---------------------------------------- 48.0/48.0 kB 2.4 MB/s eta 0:00:00\n",
      "Downloading nbclient-0.10.0-py3-none-any.whl (25 kB)\n",
      "Downloading nbformat-5.10.4-py3-none-any.whl (78 kB)\n",
      "   ---------------------------------------- 0.0/78.5 kB ? eta -:--:--\n",
      "   ---------------------------------------- 78.5/78.5 kB 4.3 MB/s eta 0:00:00\n",
      "Downloading overrides-7.7.0-py3-none-any.whl (17 kB)\n",
      "Downloading pandocfilters-1.5.1-py2.py3-none-any.whl (8.7 kB)\n",
      "Downloading prometheus_client-0.20.0-py3-none-any.whl (54 kB)\n",
      "   ---------------------------------------- 0.0/54.5 kB ? eta -:--:--\n",
      "   ---------------------------------------- 54.5/54.5 kB ? eta 0:00:00\n",
      "Downloading pywinpty-2.0.13-cp312-none-win_amd64.whl (1.4 MB)\n",
      "   ---------------------------------------- 0.0/1.4 MB ? eta -:--:--\n",
      "   ------- -------------------------------- 0.3/1.4 MB 8.6 MB/s eta 0:00:01\n",
      "   --------------- ------------------------ 0.6/1.4 MB 7.0 MB/s eta 0:00:01\n",
      "   ----------------------- ---------------- 0.8/1.4 MB 6.5 MB/s eta 0:00:01\n",
      "   ------------------------------ --------- 1.1/1.4 MB 6.1 MB/s eta 0:00:01\n",
      "   --------------------------------- ------ 1.2/1.4 MB 5.2 MB/s eta 0:00:01\n",
      "   ---------------------------------------  1.4/1.4 MB 5.5 MB/s eta 0:00:01\n",
      "   ---------------------------------------- 1.4/1.4 MB 4.7 MB/s eta 0:00:00\n",
      "Downloading Send2Trash-1.8.3-py3-none-any.whl (18 kB)\n",
      "Downloading terminado-0.18.1-py3-none-any.whl (14 kB)\n",
      "Downloading websocket_client-1.7.0-py3-none-any.whl (58 kB)\n",
      "   ---------------------------------------- 0.0/58.5 kB ? eta -:--:--\n",
      "   ---------------------------------------- 58.5/58.5 kB 3.0 MB/s eta 0:00:00\n",
      "Downloading beautifulsoup4-4.12.3-py3-none-any.whl (147 kB)\n",
      "   ---------------------------------------- 0.0/147.9 kB ? eta -:--:--\n",
      "   ---------------------------------------- 147.9/147.9 kB 8.6 MB/s eta 0:00:00\n",
      "Downloading defusedxml-0.7.1-py2.py3-none-any.whl (25 kB)\n",
      "Downloading jupyterlab_pygments-0.3.0-py3-none-any.whl (15 kB)\n",
      "Downloading tinycss2-1.2.1-py3-none-any.whl (21 kB)\n",
      "Downloading fastjsonschema-2.19.1-py3-none-any.whl (23 kB)\n",
      "Downloading jsonschema-4.21.1-py3-none-any.whl (85 kB)\n",
      "   ---------------------------------------- 0.0/85.5 kB ? eta -:--:--\n",
      "   ---------------------------------------- 85.5/85.5 kB ? eta 0:00:00\n",
      "Downloading python_json_logger-2.0.7-py3-none-any.whl (8.1 kB)\n",
      "Downloading PyYAML-6.0.1-cp312-cp312-win_amd64.whl (138 kB)\n",
      "   ---------------------------------------- 0.0/138.7 kB ? eta -:--:--\n",
      "   ---------------------------------------- 138.7/138.7 kB 8.0 MB/s eta 0:00:00\n",
      "Downloading referencing-0.34.0-py3-none-any.whl (26 kB)\n",
      "Downloading rfc3986_validator-0.1.1-py2.py3-none-any.whl (4.2 kB)\n",
      "Downloading soupsieve-2.5-py3-none-any.whl (36 kB)\n",
      "Downloading webencodings-0.5.1-py2.py3-none-any.whl (11 kB)\n",
      "Downloading argon2_cffi_bindings-21.2.0-cp36-abi3-win_amd64.whl (30 kB)\n",
      "Downloading rfc3339_validator-0.1.4-py2.py3-none-any.whl (3.5 kB)\n",
      "Downloading jsonpointer-2.4-py2.py3-none-any.whl (7.8 kB)\n",
      "Downloading jsonschema_specifications-2023.12.1-py3-none-any.whl (18 kB)\n",
      "Downloading rpds_py-0.18.0-cp312-none-win_amd64.whl (206 kB)\n",
      "   ---------------------------------------- 0.0/206.3 kB ? eta -:--:--\n",
      "   ---------------------------------------  204.8/206.3 kB 6.3 MB/s eta 0:00:01\n",
      "   ---------------------------------------- 206.3/206.3 kB 4.3 MB/s eta 0:00:00\n",
      "Downloading webcolors-1.13-py3-none-any.whl (14 kB)\n",
      "Downloading fqdn-1.5.1-py3-none-any.whl (9.1 kB)\n",
      "Downloading isoduration-20.11.0-py3-none-any.whl (11 kB)\n",
      "Downloading uri_template-1.3.0-py3-none-any.whl (11 kB)\n",
      "Downloading arrow-1.3.0-py3-none-any.whl (66 kB)\n",
      "   ---------------------------------------- 0.0/66.4 kB ? eta -:--:--\n",
      "   ---------------------------------------- 66.4/66.4 kB 3.7 MB/s eta 0:00:00\n",
      "Downloading types_python_dateutil-2.9.0.20240316-py3-none-any.whl (9.7 kB)\n",
      "Installing collected packages: webencodings, pytz, fastjsonschema, websocket-client, webcolors, uri-template, types-python-dateutil, tinycss2, soupsieve, send2trash, rpds-py, rfc3986-validator, rfc3339-validator, pyyaml, pywinpty, python-json-logger, pydantic-core, prometheus-client, pandocfilters, overrides, mistune, markupsafe, jupyterlab-pygments, jsonpointer, greenlet, fsspec, fqdn, defusedxml, bleach, anyio, annotated-types, terminado, sqlalchemy, referencing, pydantic, jinja2, croniter, beautifulsoup4, arrow, argon2-cffi-bindings, jupyter-server-terminals, jsonschema-specifications, isoduration, argon2-cffi, jsonschema, nbformat, nbclient, jupyter-events, nbconvert, jupyter-server, jupyter_scheduler\n",
      "  Attempting uninstall: pytz\n",
      "    Found existing installation: pytz 2024.1\n",
      "    Uninstalling pytz-2024.1:\n",
      "      Successfully uninstalled pytz-2024.1\n",
      "Successfully installed annotated-types-0.6.0 anyio-4.3.0 argon2-cffi-23.1.0 argon2-cffi-bindings-21.2.0 arrow-1.3.0 beautifulsoup4-4.12.3 bleach-6.1.0 croniter-1.4.1 defusedxml-0.7.1 fastjsonschema-2.19.1 fqdn-1.5.1 fsspec-2023.6.0 greenlet-3.0.3 isoduration-20.11.0 jinja2-3.1.3 jsonpointer-2.4 jsonschema-4.21.1 jsonschema-specifications-2023.12.1 jupyter-events-0.10.0 jupyter-server-2.14.0 jupyter-server-terminals-0.5.3 jupyter_scheduler-2.5.1 jupyterlab-pygments-0.3.0 markupsafe-2.1.5 mistune-3.0.2 nbclient-0.10.0 nbconvert-7.16.3 nbformat-5.10.4 overrides-7.7.0 pandocfilters-1.5.1 prometheus-client-0.20.0 pydantic-2.7.0 pydantic-core-2.18.1 python-json-logger-2.0.7 pytz-2023.3 pywinpty-2.0.13 pyyaml-6.0.1 referencing-0.34.0 rfc3339-validator-0.1.4 rfc3986-validator-0.1.1 rpds-py-0.18.0 send2trash-1.8.3 soupsieve-2.5 sqlalchemy-1.4.52 terminado-0.18.1 tinycss2-1.2.1 types-python-dateutil-2.9.0.20240316 uri-template-1.3.0 webcolors-1.13 webencodings-0.5.1 websocket-client-1.7.0\n"
     ]
    }
   ],
   "source": [
    "!pip install jupyter_scheduler"
   ]
  },
  {
   "cell_type": "code",
   "execution_count": 3,
   "metadata": {},
   "outputs": [
    {
     "data": {
      "text/plain": [
       "'C:\\\\Users\\\\jw\\\\.wdm\\\\drivers\\\\chromedriver\\\\win64\\\\123.0.6312.122\\\\chromedriver-win32/chromedriver.exe'"
      ]
     },
     "execution_count": 3,
     "metadata": {},
     "output_type": "execute_result"
    }
   ],
   "source": [
    "ChromeDriverManager().install()"
   ]
  },
  {
   "cell_type": "code",
   "execution_count": 4,
   "metadata": {},
   "outputs": [],
   "source": [
    "#라이브러리 \n",
    "from selenium import webdriver\n",
    "from webdriver_manager.chrome import ChromeDriverManager\n",
    "from selenium.webdriver.common.by import By\n",
    "import time\n",
    "import pandas as pd\n",
    "from datetime import datetime, timedelta\n",
    "import xlsxwriter \n",
    "import schedule"
   ]
  },
  {
   "cell_type": "markdown",
   "metadata": {},
   "source": [
    "1번째 코드: 전체 데이터를 한번에 올리는 코드 "
   ]
  },
  {
   "cell_type": "code",
   "execution_count": 20,
   "metadata": {},
   "outputs": [],
   "source": [
    "browser = webdriver.Chrome()\n",
    "url = 'https://www.koreabaseball.com/Record/TeamRank/TeamRankDaily.aspx'\n",
    "browser.get(url)\n",
    "browser.find_element(By.CLASS_NAME, \"ui-datepicker-trigger\").click() # 데이트피커 클릭\n",
    "time.sleep(1)\n",
    "browser.find_element(By.XPATH, \"//*[@id=\\\"ui-datepicker-div\\\"]/div/a[1]\").click() # 이전달 클릭\n",
    "browser.find_element(By.XPATH, \"//*[@id=\\\"ui-datepicker-div\\\"]/table/tbody/tr[4]/td[7]/a\").click()\n",
    "all_data = pd.DataFrame()  # 모든 데이터를 저장할 데이터프레임 초기화\n",
    "dt = datetime.today() - timedelta(days=1)\n",
    "dt_str = dt.strftime(\"%Y.%m.%d\")\n",
    "while True:\n",
    "    time.sleep(1)\n",
    "    date = browser.find_element(By.CLASS_NAME, \"date\").text\n",
    "    table = browser.find_element(By.CLASS_NAME, \"tData\").text\n",
    "    lines = table.strip().split('\\n')\n",
    "    rows = [line.split() for line in lines]\n",
    "    df = pd.DataFrame(rows[1:], columns=rows[0])\n",
    "    df = df.drop(columns=['게임차', '연속', '홈', '방문'])\n",
    "    df['Date'] = date\n",
    "    cols = df.columns.tolist()\n",
    "    cols = ['Date'] + [col for col in cols if col != 'Date']\n",
    "    df = df[cols]\n",
    "    all_data = pd.concat([all_data, df], ignore_index=True)  # 기존 데이터프레임과 새로운 데이터프레임을 합침\n",
    "    all_data.to_csv('basketball_practice.csv', index=False, encoding='utf-8-sig')  # 파일 저장 \n",
    "    next_button = browser.find_element(By.CLASS_NAME, \"date_next\")  \n",
    "    next_button.click()\n",
    "    if browser.find_element(By.CLASS_NAME, \"date\").text==dt_str:\n",
    "        break\n",
    " # 3월23일 클릭"
   ]
  },
  {
   "cell_type": "code",
   "execution_count": 8,
   "metadata": {},
   "outputs": [
    {
     "name": "stdout",
     "output_type": "stream",
     "text": [
      "Defaulting to user installation because normal site-packages is not writeable\n",
      "Requirement already satisfied: xlsxwriter in c:\\users\\jw\\appdata\\local\\packages\\pythonsoftwarefoundation.python.3.12_qbz5n2kfra8p0\\localcache\\local-packages\\python312\\site-packages (3.2.0)\n"
     ]
    }
   ],
   "source": [
    "!pip install xlsxwriter"
   ]
  },
  {
   "cell_type": "markdown",
   "metadata": {},
   "source": [
    "2번째 코드 : exel_writer로 나누어서 저장하는 코드 "
   ]
  },
  {
   "cell_type": "code",
   "execution_count": 6,
   "metadata": {},
   "outputs": [],
   "source": [
    "browser = webdriver.Chrome()\n",
    "url = 'https://www.koreabaseball.com/Record/TeamRank/TeamRankDaily.aspx'\n",
    "browser.get(url)\n",
    "browser.find_element(By.CLASS_NAME, \"ui-datepicker-trigger\").click() # 데이트피커 클릭\n",
    "time.sleep(1)\n",
    "browser.find_element(By.XPATH, \"//*[@id=\\\"ui-datepicker-div\\\"]/div/a[1]\").click() # 이전달 클릭\n",
    "browser.find_element(By.XPATH, \"//*[@id=\\\"ui-datepicker-div\\\"]/table/tbody/tr[4]/td[7]/a\").click()\n",
    "dt = datetime.today() - timedelta(days=1)\n",
    "dt_str = dt.strftime(\"%Y.%m.%d\")\n",
    "excel_writer = pd.ExcelWriter('basketball_data.xlsx', engine='xlsxwriter')\n",
    "while True:\n",
    "    time.sleep(1)\n",
    "    table = browser.find_element(By.CLASS_NAME, \"tData\").text\n",
    "    lines = table.strip().split('\\n')\n",
    "    rows = [line.split() for line in lines]\n",
    "    df = pd.DataFrame(rows[1:], columns=rows[0])\n",
    "    df = df.drop(columns=['게임차', '연속', '홈', '방문'])\n",
    "    sheet_name = browser.find_element(By.CLASS_NAME, \"date\").text\n",
    "    df.to_excel(excel_writer, index=False, sheet_name=sheet_name)\n",
    "    next_button = browser.find_element(By.CLASS_NAME, \"date_next\")  \n",
    "    next_button.click()\n",
    "    if browser.find_element(By.CLASS_NAME, \"date\").text==dt_str:\n",
    "        break\n",
    "excel_writer.close()\n"
   ]
  },
  {
   "cell_type": "markdown",
   "metadata": {},
   "source": []
  },
  {
   "cell_type": "markdown",
   "metadata": {},
   "source": [
    "마지막 최신날짜까지 찾아오는데까지 업데이트 완료"
   ]
  },
  {
   "cell_type": "code",
   "execution_count": 10,
   "metadata": {},
   "outputs": [
    {
     "name": "stderr",
     "output_type": "stream",
     "text": [
      "Error sending stats to Plausible: error sending request for url (https://plausible.io/api/event): operation timed out\n"
     ]
    },
    {
     "name": "stdout",
     "output_type": "stream",
     "text": [
      "데이터 수집 완료\n"
     ]
    }
   ],
   "source": [
    "browser = webdriver.Chrome()\n",
    "url = 'https://www.koreabaseball.com/Record/TeamRank/TeamRankDaily.aspx'\n",
    "browser.get(url)\n",
    "recent_day = browser.find_element(By.CLASS_NAME, \"date\").text\n",
    "browser.find_element(By.CLASS_NAME, \"ui-datepicker-trigger\").click() # 데이트피커 클릭\n",
    "time.sleep(1)\n",
    "browser.find_element(By.XPATH, \"//*[@id=\\\"ui-datepicker-div\\\"]/div/a[1]\").click() # 이전달 클릭\n",
    "browser.find_element(By.XPATH, \"//*[@id=\\\"ui-datepicker-div\\\"]/table/tbody/tr[4]/td[7]/a\").click()\n",
    "excel_writer = pd.ExcelWriter('baseball_data.xlsx', engine='xlsxwriter')\n",
    "while True:\n",
    "    time.sleep(1)\n",
    "    table = browser.find_element(By.CLASS_NAME, \"tData\").text\n",
    "    lines = table.strip().split('\\n')\n",
    "    rows = [line.split() for line in lines]\n",
    "    df = pd.DataFrame(rows[1:], columns=rows[0])\n",
    "    df = df.drop(columns=['게임차', '연속', '홈', '방문'])\n",
    "    sheet_name = browser.find_element(By.CLASS_NAME, \"date\").text\n",
    "    df.to_excel(excel_writer, index=False, sheet_name=sheet_name)\n",
    "    next_button = browser.find_element(By.CLASS_NAME, \"date_next\")  \n",
    "    next_button.click()\n",
    "    date = browser.find_element(By.CLASS_NAME, \"date\").text\n",
    "    if date == recent_day:\n",
    "        print(\"데이터 수집 완료\")\n",
    "        break   \n",
    "excel_writer.close()"
   ]
  },
  {
   "cell_type": "markdown",
   "metadata": {},
   "source": [
    "#에러사항: value값에 공백이 있어서 안 찾아지고, 반복문 없앨 경우 None이나 ''로 설정되어있어서 이것으로 멈출 수 없음"
   ]
  },
  {
   "cell_type": "code",
   "execution_count": 51,
   "metadata": {},
   "outputs": [
    {
     "data": {
      "text/plain": [
       "'20240410  '"
      ]
     },
     "execution_count": 51,
     "metadata": {},
     "output_type": "execute_result"
    }
   ],
   "source": [
    "browser = webdriver.Chrome()\n",
    "url = 'https://www.koreabaseball.com/Record/TeamRank/TeamRankDaily.aspx'\n",
    "browser.get(url)\n",
    "input_element = browser.find_element(By.ID, 'cphContents_cphContents_cphContents_txtCanlendar')\n",
    "value = input_element.get_property('value')\n",
    "value"
   ]
  },
  {
   "cell_type": "code",
   "execution_count": 5,
   "metadata": {},
   "outputs": [
    {
     "name": "stdout",
     "output_type": "stream",
     "text": [
      "데이터 수집 완료\n"
     ]
    },
    {
     "ename": "KeyboardInterrupt",
     "evalue": "",
     "output_type": "error",
     "traceback": [
      "\u001b[1;31m---------------------------------------------------------------------------\u001b[0m",
      "\u001b[1;31mKeyboardInterrupt\u001b[0m                         Traceback (most recent call last)",
      "Cell \u001b[1;32mIn[5], line 32\u001b[0m\n\u001b[0;32m     30\u001b[0m \u001b[38;5;28;01mwhile\u001b[39;00m \u001b[38;5;28;01mTrue\u001b[39;00m:\n\u001b[0;32m     31\u001b[0m     schedule\u001b[38;5;241m.\u001b[39mrun_pending()\n\u001b[1;32m---> 32\u001b[0m     \u001b[43mtime\u001b[49m\u001b[38;5;241;43m.\u001b[39;49m\u001b[43msleep\u001b[49m\u001b[43m(\u001b[49m\u001b[38;5;241;43m1\u001b[39;49m\u001b[43m)\u001b[49m\n",
      "\u001b[1;31mKeyboardInterrupt\u001b[0m: "
     ]
    }
   ],
   "source": [
    "def python_project():\n",
    "    #라이브러리 \n",
    "    browser = webdriver.Chrome()\n",
    "    url = 'https://www.koreabaseball.com/Record/TeamRank/TeamRankDaily.aspx'\n",
    "    browser.get(url)\n",
    "    recent_day = browser.find_element(By.CLASS_NAME, \"date\").text\n",
    "    browser.find_element(By.CLASS_NAME, \"ui-datepicker-trigger\").click() # 데이트피커 클릭\n",
    "    time.sleep(1)\n",
    "    browser.find_element(By.XPATH, \"//*[@id=\\\"ui-datepicker-div\\\"]/div/a[1]\").click() # 이전달 클릭\n",
    "    browser.find_element(By.XPATH, \"//*[@id=\\\"ui-datepicker-div\\\"]/table/tbody/tr[4]/td[7]/a\").click()\n",
    "    excel_writer = pd.ExcelWriter('baseball_data.xlsx', engine='xlsxwriter')\n",
    "    while True:\n",
    "        time.sleep(1)\n",
    "        table = browser.find_element(By.CLASS_NAME, \"tData\").text\n",
    "        lines = table.strip().split('\\n')\n",
    "        rows = [line.split() for line in lines]\n",
    "        df = pd.DataFrame(rows[1:], columns=rows[0])\n",
    "        df = df.drop(columns=['게임차', '연속', '홈', '방문'])\n",
    "        sheet_name = browser.find_element(By.CLASS_NAME, \"date\").text\n",
    "        df.to_excel(excel_writer, index=False, sheet_name=sheet_name)\n",
    "        next_button = browser.find_element(By.CLASS_NAME, \"date_next\")  \n",
    "        next_button.click()\n",
    "        date = browser.find_element(By.CLASS_NAME, \"date\").text\n",
    "        if date == recent_day:\n",
    "            print(\"데이터 수집 완료\")\n",
    "            break   \n",
    "    excel_writer.close()\n",
    "python_project()\n",
    "schedule.every().day.at(\"08:00\").do(python_project)\n",
    "while True:\n",
    "    schedule.run_pending()\n",
    "    time.sleep(1)"
   ]
  },
  {
   "cell_type": "code",
   "execution_count": 5,
   "metadata": {},
   "outputs": [
    {
     "name": "stdout",
     "output_type": "stream",
     "text": [
      "데이터 수집 완료\n"
     ]
    }
   ],
   "source": [
    "python_project()"
   ]
  },
  {
   "cell_type": "code",
   "execution_count": 11,
   "metadata": {},
   "outputs": [],
   "source": [
    "browser = webdriver.Chrome()\n",
    "url = 'https://www.koreabaseball.com/Record/TeamRank/TeamRankDaily.aspx'\n",
    "browser.get(url)\n",
    "time.sleep(1)\n",
    "all_data = pd.DataFrame()  # 모든 데이터를 저장할 데이터프레임 초기화\n",
    "recent_day = browser.find_element(By.CLASS_NAME, \"date\").text\n",
    "time.sleep(1)\n",
    "table = browser.find_element(By.CLASS_NAME, \"tData\").text\n",
    "lines = table.strip().split('\\n')\n",
    "rows = [line.split() for line in lines]\n",
    "df = pd.DataFrame(rows[1:], columns=rows[0])\n",
    "df = df.drop(columns=['게임차', '연속', '홈', '방문'])\n",
    "all_data = pd.concat([all_data, df], ignore_index=True)  # 기존 데이터프레임과 새로운 데이터프레임을 합침\n",
    "all_data.to_csv('baseball_practice.csv', index=False, encoding='utf-8-sig')  # 파일 저장"
   ]
  },
  {
   "cell_type": "code",
   "execution_count": null,
   "metadata": {},
   "outputs": [],
   "source": [
    "crawling_homework/project3.ipynb"
   ]
  },
  {
   "cell_type": "code",
   "execution_count": null,
   "metadata": {},
   "outputs": [],
   "source": [
    "def python_project():\n",
    "    #라이브러리 \n",
    "    browser = webdriver.Chrome()\n",
    "    url = 'https://www.koreabaseball.com/Record/TeamRank/TeamRankDaily.aspx'\n",
    "    browser.get(url)\n",
    "    recent_day = browser.find_element(By.CLASS_NAME, \"date\").text\n",
    "    browser.find_element(By.CLASS_NAME, \"ui-datepicker-trigger\").click() # 데이트피커 클릭\n",
    "    time.sleep(1)\n",
    "    browser.find_element(By.XPATH, \"//*[@id=\\\"ui-datepicker-div\\\"]/div/a[1]\").click() # 이전달 클릭\n",
    "    browser.find_element(By.XPATH, \"//*[@id=\\\"ui-datepicker-div\\\"]/table/tbody/tr[4]/td[7]/a\").click()\n",
    "    excel_writer = pd.ExcelWriter('baseball_data.xlsx', engine='xlsxwriter')\n",
    "    while True:\n",
    "        time.sleep(1)\n",
    "        table = browser.find_element(By.CLASS_NAME, \"tData\").text\n",
    "        lines = table.strip().split('\\n')\n",
    "        rows = [line.split() for line in lines]\n",
    "        df = pd.DataFrame(rows[1:], columns=rows[0])\n",
    "        df = df.drop(columns=['게임차', '연속', '홈', '방문'])\n",
    "        sheet_name = browser.find_element(By.CLASS_NAME, \"date\").text\n",
    "        df.to_excel(excel_writer, index=False, sheet_name=sheet_name)\n",
    "        next_button = browser.find_element(By.CLASS_NAME, \"date_next\")  \n",
    "        next_button.click()\n",
    "        date = browser.find_element(By.CLASS_NAME, \"date\").text\n",
    "        if date == recent_day:\n",
    "            print(\"데이터 수집 완료\")\n",
    "            break   \n",
    "    excel_writer.close()\n",
    "python_project()\n",
    "schedule.every().day.at(\"08:00\").do(python_project)\n",
    "while True:\n",
    "    schedule.run_pending()\n",
    "    time.sleep(1)"
   ]
  },
  {
   "cell_type": "code",
   "execution_count": null,
   "metadata": {},
   "outputs": [],
   "source": [
    "\n",
    "        "
   ]
  }
 ],
 "metadata": {
  "kernelspec": {
   "display_name": "Python 3",
   "language": "python",
   "name": "python3"
  },
  "language_info": {
   "codemirror_mode": {
    "name": "ipython",
    "version": 3
   },
   "file_extension": ".py",
   "mimetype": "text/x-python",
   "name": "python",
   "nbconvert_exporter": "python",
   "pygments_lexer": "ipython3",
   "version": "3.12.3"
  }
 },
 "nbformat": 4,
 "nbformat_minor": 2
}
