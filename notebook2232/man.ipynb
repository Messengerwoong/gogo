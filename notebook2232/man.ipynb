{
 "cells": [
  {
   "cell_type": "code",
   "execution_count": 7,
   "metadata": {},
   "outputs": [
    {
     "name": "stdout",
     "output_type": "stream",
     "text": [
      "Requirement already satisfied: selenium in c:\\programdata\\anaconda3\\lib\\site-packages (4.19.0)\n",
      "Requirement already satisfied: trio-websocket~=0.9 in c:\\programdata\\anaconda3\\lib\\site-packages (from selenium) (0.11.1)\n",
      "Requirement already satisfied: certifi>=2021.10.8 in c:\\programdata\\anaconda3\\lib\\site-packages (from selenium) (2024.2.2)\n",
      "Requirement already satisfied: trio~=0.17 in c:\\programdata\\anaconda3\\lib\\site-packages (from selenium) (0.25.0)\n",
      "Requirement already satisfied: urllib3[socks]<3,>=1.26 in c:\\programdata\\anaconda3\\lib\\site-packages (from selenium) (2.2.1)\n",
      "Requirement already satisfied: typing_extensions>=4.9.0 in c:\\programdata\\anaconda3\\lib\\site-packages (from selenium) (4.10.0)\n",
      "Requirement already satisfied: trio~=0.17 in c:\\programdata\\anaconda3\\lib\\site-packages (from selenium) (0.25.0)\n",
      "Requirement already satisfied: wsproto>=0.14 in c:\\programdata\\anaconda3\\lib\\site-packages (from trio-websocket~=0.9->selenium) (1.2.0)\n",
      "Requirement already satisfied: exceptiongroup in c:\\programdata\\anaconda3\\lib\\site-packages (from trio-websocket~=0.9->selenium) (1.2.0)\n",
      "Requirement already satisfied: cffi>=1.14 in c:\\programdata\\anaconda3\\lib\\site-packages (from trio~=0.17->selenium) (1.14.3)\n",
      "Requirement already satisfied: exceptiongroup in c:\\programdata\\anaconda3\\lib\\site-packages (from trio-websocket~=0.9->selenium) (1.2.0)\n",
      "Requirement already satisfied: attrs>=23.2.0 in c:\\programdata\\anaconda3\\lib\\site-packages (from trio~=0.17->selenium) (23.2.0)\n",
      "Requirement already satisfied: sortedcontainers in c:\\programdata\\anaconda3\\lib\\site-packages (from trio~=0.17->selenium) (2.2.2)\n",
      "Requirement already satisfied: sniffio>=1.3.0 in c:\\programdata\\anaconda3\\lib\\site-packages (from trio~=0.17->selenium) (1.3.1)\n",
      "Requirement already satisfied: outcome in c:\\programdata\\anaconda3\\lib\\site-packages (from trio~=0.17->selenium) (1.3.0.post0)\n",
      "Requirement already satisfied: idna in c:\\programdata\\anaconda3\\lib\\site-packages (from trio~=0.17->selenium) (2.10)\n",
      "Requirement already satisfied: pysocks!=1.5.7,<2.0,>=1.5.6 in c:\\programdata\\anaconda3\\lib\\site-packages (from urllib3[socks]<3,>=1.26->selenium) (1.7.1)\n",
      "Requirement already satisfied: h11<1,>=0.9.0 in c:\\programdata\\anaconda3\\lib\\site-packages (from wsproto>=0.14->trio-websocket~=0.9->selenium) (0.14.0)\n",
      "Requirement already satisfied: pycparser in c:\\programdata\\anaconda3\\lib\\site-packages (from cffi>=1.14->trio~=0.17->selenium) (2.20)\n",
      "Requirement already satisfied: attrs>=23.2.0 in c:\\programdata\\anaconda3\\lib\\site-packages (from trio~=0.17->selenium) (23.2.0)\n"
     ]
    }
   ],
   "source": [
    "!pip3 install selenium --use-feature=2020-resolver"
   ]
  },
  {
   "cell_type": "code",
   "execution_count": 8,
   "metadata": {},
   "outputs": [
    {
     "name": "stdout",
     "output_type": "stream",
     "text": [
      "Requirement already satisfied: webdriver-manager in c:\\programdata\\anaconda3\\lib\\site-packages (4.0.1)\n",
      "Requirement already satisfied: python-dotenv in c:\\programdata\\anaconda3\\lib\\site-packages (from webdriver-manager) (1.0.1)\n",
      "Requirement already satisfied: requests in c:\\programdata\\anaconda3\\lib\\site-packages (from webdriver-manager) (2.24.0)\n",
      "Requirement already satisfied: packaging in c:\\programdata\\anaconda3\\lib\\site-packages (from webdriver-manager) (20.4)\n",
      "Requirement already satisfied: idna<3,>=2.5 in c:\\programdata\\anaconda3\\lib\\site-packages (from requests->webdriver-manager) (2.10)\n",
      "Requirement already satisfied: chardet<4,>=3.0.2 in c:\\programdata\\anaconda3\\lib\\site-packages (from requests->webdriver-manager) (3.0.4)\n",
      "Requirement already satisfied: certifi>=2017.4.17 in c:\\programdata\\anaconda3\\lib\\site-packages (from requests->webdriver-manager) (2024.2.2)\n",
      "Requirement already satisfied: pyparsing>=2.0.2 in c:\\programdata\\anaconda3\\lib\\site-packages (from packaging->webdriver-manager) (2.4.7)\n",
      "Requirement already satisfied: six in c:\\programdata\\anaconda3\\lib\\site-packages (from packaging->webdriver-manager) (1.15.0)\n",
      "Collecting urllib3!=1.25.0,!=1.25.1,<1.26,>=1.21.1\n",
      "  Using cached urllib3-1.25.11-py2.py3-none-any.whl (127 kB)\n",
      "Installing collected packages: urllib3\n",
      "  Attempting uninstall: urllib3\n",
      "    Found existing installation: urllib3 2.2.1\n",
      "    Uninstalling urllib3-2.2.1:\n",
      "      Successfully uninstalled urllib3-2.2.1\n",
      "Successfully installed urllib3-1.25.11\n"
     ]
    },
    {
     "name": "stderr",
     "output_type": "stream",
     "text": [
      "ERROR: selenium 4.19.0 requires urllib3[socks]<3,>=1.26, but you'll have urllib3 1.25.11 which is incompatible.\n"
     ]
    }
   ],
   "source": [
    "!pip3 install webdriver-manager --use-feature=2020-resolver"
   ]
  },
  {
   "cell_type": "code",
   "execution_count": 9,
   "metadata": {},
   "outputs": [],
   "source": [
    "from selenium import webdriver"
   ]
  },
  {
   "cell_type": "code",
   "execution_count": 10,
   "metadata": {},
   "outputs": [],
   "source": [
    "from webdriver_manager.chrome import ChromeDriverManager"
   ]
  },
  {
   "cell_type": "code",
   "execution_count": 11,
   "metadata": {},
   "outputs": [
    {
     "data": {
      "text/plain": [
       "'C:\\\\Users\\\\jw\\\\.wdm\\\\drivers\\\\chromedriver\\\\win64\\\\123.0.6312.105\\\\chromedriver-win32/chromedriver.exe'"
      ]
     },
     "execution_count": 11,
     "metadata": {},
     "output_type": "execute_result"
    }
   ],
   "source": [
    "ChromeDriverManager().install()"
   ]
  },
  {
   "cell_type": "code",
   "execution_count": 12,
   "metadata": {},
   "outputs": [],
   "source": [
    "browser = webdriver.Chrome()"
   ]
  },
  {
   "cell_type": "code",
   "execution_count": 13,
   "metadata": {},
   "outputs": [],
   "source": [
    "url = 'https://www.naver.com'\n",
    "browser.get(url)"
   ]
  },
  {
   "cell_type": "code",
   "execution_count": 14,
   "metadata": {},
   "outputs": [
    {
     "data": {
      "text/plain": [
       "'NAVER'"
      ]
     },
     "execution_count": 14,
     "metadata": {},
     "output_type": "execute_result"
    }
   ],
   "source": [
    "browser.title"
   ]
  },
  {
   "cell_type": "code",
   "execution_count": 15,
   "metadata": {},
   "outputs": [],
   "source": [
    "from selenium.webdriver.common.by import By\n",
    "browser.find_element(By.CLASS_NAME,'search_input').click()"
   ]
  },
  {
   "cell_type": "code",
   "execution_count": 16,
   "metadata": {},
   "outputs": [],
   "source": [
    "browser.find_element(By.CLASS_NAME,'search_input').send_keys('날씨')"
   ]
  },
  {
   "cell_type": "code",
   "execution_count": 17,
   "metadata": {},
   "outputs": [],
   "source": [
    "browser.find_element(By.CLASS_NAME,'btn_search').click()"
   ]
  },
  {
   "cell_type": "code",
   "execution_count": 18,
   "metadata": {},
   "outputs": [
    {
     "data": {
      "text/plain": [
       "'13.6°'"
      ]
     },
     "execution_count": 18,
     "metadata": {},
     "output_type": "execute_result"
    }
   ],
   "source": [
    "temp = browser.find_element(By.CLASS_NAME,'temperature_text').text\n",
    "\n",
    "temp.split('\\n')[1]"
   ]
  },
  {
   "cell_type": "markdown",
   "metadata": {},
   "source": [
    "temp_"
   ]
  },
  {
   "cell_type": "code",
   "execution_count": 19,
   "metadata": {},
   "outputs": [],
   "source": [
    "temp_info= browser.find_element(By.CLASS_NAME,'summary_list').text"
   ]
  },
  {
   "cell_type": "code",
   "execution_count": 20,
   "metadata": {},
   "outputs": [
    {
     "data": {
      "text/plain": [
       "'체감 13.6° 습도 43% 동풍 0.9m/s'"
      ]
     },
     "execution_count": 20,
     "metadata": {},
     "output_type": "execute_result"
    }
   ],
   "source": [
    "temp_info"
   ]
  },
  {
   "cell_type": "code",
   "execution_count": 21,
   "metadata": {},
   "outputs": [],
   "source": [
    "temp_split = temp_info.split()"
   ]
  },
  {
   "cell_type": "code",
   "execution_count": 22,
   "metadata": {},
   "outputs": [
    {
     "name": "stdout",
     "output_type": "stream",
     "text": [
      "13.6°\n",
      "43%\n",
      "0.9m/s\n"
     ]
    }
   ],
   "source": [
    "for i in range(1, len(temp_split),2):\n",
    "    print(temp_split[i])"
   ]
  },
  {
   "cell_type": "code",
   "execution_count": 23,
   "metadata": {},
   "outputs": [],
   "source": [
    "url = 'https://new.land.naver.com/complexes/26385?ms=37.494739,126.829511,17&a=APT:ABYG:JGC:PRE&e=RETAIL'\n",
    "browser.get(url)"
   ]
  },
  {
   "cell_type": "code",
   "execution_count": 24,
   "metadata": {},
   "outputs": [],
   "source": [
    "from selenium import webdriver\n"
   ]
  },
  {
   "cell_type": "code",
   "execution_count": 25,
   "metadata": {},
   "outputs": [],
   "source": [
    "from selenium.webdriver.common.by import By"
   ]
  },
  {
   "cell_type": "code",
   "execution_count": 26,
   "metadata": {},
   "outputs": [],
   "source": [
    "browser = webdriver.Chrome()"
   ]
  },
  {
   "cell_type": "code",
   "execution_count": 150,
   "metadata": {},
   "outputs": [],
   "source": [
    "url = 'https://www.google.com/search?q=%EC%9D%B8%EA%B3%B5%EC%A7%80%EB%8A%A5+%EC%B1%97%EB%B4%87&sca_esv=30c375223fbe6df1&sca_upv=1&biw=958&bih=397&tbm=nws&sxsrf=ACQVn0-iK0K17bO05ayTMIq7xRuyTVSONw%3A1712280315390&ei=-1IPZuK-F47T1e8Ppoyz6As&ved=0ahUKEwiiqNGf9amFAxWOafUHHSbGDL0Q4dUDCA0&uact=5&oq=%EC%9D%B8%EA%B3%B5%EC%A7%80%EB%8A%A5+%EC%B1%97%EB%B4%87&gs_lp=Egxnd3Mtd2l6LW5ld3MiE-yduOqzteyngOuKpSDssZfrtIcyCxAAGIAEGLEDGIMBMgUQABiABDIFEAAYgAQyBRAAGIAEMgUQABiABDIFEAAYgAQyBRAAGIAEMgUQABiABDIFEAAYgAQyBRAAGIAESK0RUJ0IWNUPcAB4AJABAJgBmgGgAb4IqgEDMC45uAEDyAEA-AEBmAIGoALvBcICChAAGIAEGIoFGEPCAgQQABgewgIGEAAYBRgemAMAiAYBkgcDMC42oAe-NQ&sclient=gws-wiz-news'\n",
    "browser.get(url)"
   ]
  },
  {
   "cell_type": "code",
   "execution_count": 151,
   "metadata": {},
   "outputs": [
    {
     "data": {
      "text/plain": [
       "'채널톡, 생성 AI 챗봇 \\'알프\\' 출시...\"CS 단순문의 55% 해결\"'"
      ]
     },
     "execution_count": 151,
     "metadata": {},
     "output_type": "execute_result"
    }
   ],
   "source": [
    "browser.find_element(By.CLASS_NAME, 'n0jPhd').text"
   ]
  },
  {
   "cell_type": "code",
   "execution_count": 152,
   "metadata": {},
   "outputs": [],
   "source": [
    "title_lists = browser.find_elements(By.CLASS_NAME, 'n0jPhd')\n",
    "#언론사\n",
    "company_lists = browser.find_elements(By.CLASS_NAME, 'MgUUmf')\n",
    "#내용\n",
    "content_lists = browser.find_elements(By.CLASS_NAME, 'GI74Re')\n",
    "#작성일 \n",
    "# browser.find_element(By.CLASS_NAME, 'OSrXXb').find_element(By.TAG_NAME, 'span')\n",
    "date_lists = browser.find_elements(By.CLASS_NAME, 'rbYSKb')\n",
    "\n"
   ]
  },
  {
   "cell_type": "code",
   "execution_count": 153,
   "metadata": {},
   "outputs": [
    {
     "name": "stdout",
     "output_type": "stream",
     "text": [
      "채널톡, 생성 AI 챗봇 '알프' 출시...\"CS 단순문의 55% 해결\"\n",
      "채널톡, 단순·반복 문의 답하는 ‘AI 챗봇’ 상반기 출시 - 조선비즈\n",
      "서울 공무원 적응 돕는 'AI 챗봇' 나온다…\"2026년까지 2064억 투입\"(종합)\n",
      "'AI 행정혁신'에 2000억 쏟아붓는 서울시..인공지능 챗봇·CCTV 나온다\n",
      "구글, 검색 유료화 '만지작'… 판도 흔드나\n",
      "기업용 챗GPT 가입자 석 달 만에 4배 급증\n",
      "마이크로소프트, 엑스박스 애니메이션 AI 챗봇 개발\n",
      "세종시, 전자증명-AI챗봇으로 ‘민원혁신’\n",
      "챗GPT에 235조 검색광고 날아갈 판…구글 \"AI 검색 돈 내야\" [팩플]\n",
      "'AI 상담센터'에 '생성형 AI 챗봇'…서울시, 'AI 행정' 가속화\n"
     ]
    }
   ],
   "source": [
    "for title in title_lists:\n",
    "    print(title.text)"
   ]
  },
  {
   "cell_type": "code",
   "execution_count": 154,
   "metadata": {},
   "outputs": [],
   "source": [
    "#find_element=>요소를 찾아줘\n",
    "#find_elemnets-> 요소들을 찾아줘,리스토로 "
   ]
  },
  {
   "cell_type": "code",
   "execution_count": 155,
   "metadata": {},
   "outputs": [
    {
     "name": "stdout",
     "output_type": "stream",
     "text": [
      "Requirement already satisfied: pandas in c:\\programdata\\anaconda3\\lib\\site-packages (1.1.3)\n",
      "Requirement already satisfied: python-dateutil>=2.7.3 in c:\\programdata\\anaconda3\\lib\\site-packages (from pandas) (2.8.1)\n",
      "Requirement already satisfied: pytz>=2017.2 in c:\\programdata\\anaconda3\\lib\\site-packages (from pandas) (2020.1)\n",
      "Requirement already satisfied: numpy>=1.15.4 in c:\\users\\jw\\appdata\\roaming\\python\\python38\\site-packages (from pandas) (1.18.5)\n",
      "Requirement already satisfied: six>=1.5 in c:\\programdata\\anaconda3\\lib\\site-packages (from python-dateutil>=2.7.3->pandas) (1.15.0)\n"
     ]
    }
   ],
   "source": [
    "!pip install pandas"
   ]
  },
  {
   "cell_type": "code",
   "execution_count": 156,
   "metadata": {},
   "outputs": [],
   "source": [
    "import pandas as pd "
   ]
  },
  {
   "cell_type": "code",
   "execution_count": 1,
   "metadata": {},
   "outputs": [
    {
     "ename": "NameError",
     "evalue": "name 'browser' is not defined",
     "output_type": "error",
     "traceback": [
      "\u001b[1;31m---------------------------------------------------------------------------\u001b[0m",
      "\u001b[1;31mNameError\u001b[0m                                 Traceback (most recent call last)",
      "Cell \u001b[1;32mIn[1], line 2\u001b[0m\n\u001b[0;32m      1\u001b[0m \u001b[38;5;66;03m#컨테이너 방식 \u001b[39;00m\n\u001b[1;32m----> 2\u001b[0m container \u001b[38;5;241m=\u001b[39m \u001b[43mbrowser\u001b[49m\u001b[38;5;241m.\u001b[39mfind_elements(By\u001b[38;5;241m.\u001b[39mCLASS_NAME,\u001b[38;5;124m'\u001b[39m\u001b[38;5;124mSoaBEf\u001b[39m\u001b[38;5;124m'\u001b[39m )\n",
      "\u001b[1;31mNameError\u001b[0m: name 'browser' is not defined"
     ]
    }
   ],
   "source": [
    "#컨테이너 방식 \n",
    "container = browser.find_elements(By.CLASS_NAME,'SoaBEf' )"
   ]
  },
  {
   "cell_type": "code",
   "execution_count": 158,
   "metadata": {},
   "outputs": [
    {
     "name": "stdout",
     "output_type": "stream",
     "text": [
      "채널톡, 생성 AI 챗봇 '알프' 출시...\"CS 단순문의 55% 해결\" AI타임스 1일 전 https://www.aitimes.com/news/articleView.html?idxno=158497 data:image/jpeg;base64,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 \n",
      "\n",
      "채널톡, 단순·반복 문의 답하는 ‘AI 챗봇’ 상반기 출시 - 조선비즈 Chosunbiz 1일 전 https://biz.chosun.com/industry/company/2024/04/03/XU3SE3JDLJC6HPS62EYWJ7Z5IQ/ data:image/jpeg;base64,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 \n",
      "\n",
      "서울 공무원 적응 돕는 'AI 챗봇' 나온다…\"2026년까지 2064억 투입\"(종합) 뉴스1 2일 전 https://www.news1.kr/articles/?5371454 data:image/jpeg;base64,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 \n",
      "\n",
      "'AI 행정혁신'에 2000억 쏟아붓는 서울시..인공지능 챗봇·CCTV 나온다 머니투데이 2일 전 https://news.mt.co.kr/mtview.php?no=2024040218241383839 data:image/jpeg;base64,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 \n",
      "\n",
      "구글, 검색 유료화 '만지작'… 판도 흔드나 매일경제 19시간 전 https://www.mk.co.kr/news/it/10982791 data:image/jpeg;base64,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 \n",
      "\n",
      "기업용 챗GPT 가입자 석 달 만에 4배 급증 뉴스핌 10시간 전 https://www.newspim.com/news/view/20240404001201 data:image/jpeg;base64,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 \n",
      "\n",
      "마이크로소프트, 엑스박스 애니메이션 AI 챗봇 개발 더구루 1일 전 https://theguru.co.kr/news/article.html?no=68987 data:image/jpeg;base64,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 \n",
      "\n",
      "세종시, 전자증명-AI챗봇으로 ‘민원혁신’ 동아일보 2일 전 https://www.donga.com/news/Society/article/all/20240402/124288744/1 data:image/jpeg;base64,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 \n",
      "\n",
      "챗GPT에 235조 검색광고 날아갈 판…구글 \"AI 검색 돈 내야\" [팩플] MSN 4시간 전 https://www.msn.com/ko-kr/money/topstories/%EC%B1%97gpt%EC%97%90-235%EC%A1%B0-%EA%B2%80%EC%83%89%EA%B4%91%EA%B3%A0-%EB%82%A0%EC%95%84%EA%B0%88-%ED%8C%90-%EA%B5%AC%EA%B8%80-ai-%EA%B2%80%EC%83%89-%EB%8F%88-%EB%82%B4%EC%95%BC-%ED%8C%A9%ED%94%8C/ar-BB1l5HIP data:image/jpeg;base64,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 \n",
      "\n",
      "'AI 상담센터'에 '생성형 AI 챗봇'…서울시, 'AI 행정' 가속화 뉴시스 3일 전 https://mobile.newsis.com/view.html?ar_id=NISX20240402_0002684333 data:image/jpeg;base64,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 \n",
      "\n"
     ]
    },
    {
     "data": {
      "text/html": [
       "<div>\n",
       "<style scoped>\n",
       "    .dataframe tbody tr th:only-of-type {\n",
       "        vertical-align: middle;\n",
       "    }\n",
       "\n",
       "    .dataframe tbody tr th {\n",
       "        vertical-align: top;\n",
       "    }\n",
       "\n",
       "    .dataframe thead th {\n",
       "        text-align: right;\n",
       "    }\n",
       "</style>\n",
       "<table border=\"1\" class=\"dataframe\">\n",
       "  <thead>\n",
       "    <tr style=\"text-align: right;\">\n",
       "      <th></th>\n",
       "      <th>제목</th>\n",
       "      <th>언론사</th>\n",
       "      <th>내용</th>\n",
       "      <th>작성시간</th>\n",
       "      <th>링크</th>\n",
       "      <th>이미지링크</th>\n",
       "    </tr>\n",
       "  </thead>\n",
       "  <tbody>\n",
       "    <tr>\n",
       "      <th>0</th>\n",
       "      <td>채널톡, 생성 AI 챗봇 '알프' 출시...\"CS 단순문의 55% 해결\"</td>\n",
       "      <td>AI타임스</td>\n",
       "      <td>인공지능(AI) 메신저 '채널톡' 운영사 채널코퍼레이션(대표 최시원, 김재홍)은 서...</td>\n",
       "      <td>1일 전</td>\n",
       "      <td>https://www.aitimes.com/news/articleView.html?...</td>\n",
       "      <td>data:image/jpeg;base64,/9j/4AAQSkZJRgABAQAAAQA...</td>\n",
       "    </tr>\n",
       "    <tr>\n",
       "      <th>1</th>\n",
       "      <td>채널톡, 단순·반복 문의 답하는 ‘AI 챗봇’ 상반기 출시 - 조선비즈</td>\n",
       "      <td>Chosunbiz</td>\n",
       "      <td>비즈니스 전용 메신저 '채널톡'을 운영하는 정보기술(IT) 스타트업 채널코퍼레이션이...</td>\n",
       "      <td>1일 전</td>\n",
       "      <td>https://biz.chosun.com/industry/company/2024/0...</td>\n",
       "      <td>data:image/jpeg;base64,/9j/4AAQSkZJRgABAQAAAQA...</td>\n",
       "    </tr>\n",
       "    <tr>\n",
       "      <th>2</th>\n",
       "      <td>서울 공무원 적응 돕는 'AI 챗봇' 나온다…\"2026년까지 2064억 투입\"(종합)</td>\n",
       "      <td>뉴스1</td>\n",
       "      <td>(서울=뉴스1) 오현주 기자 | 서울시가 2026년까지 2064억원을 투입해 행정 ...</td>\n",
       "      <td>2일 전</td>\n",
       "      <td>https://www.news1.kr/articles/?5371454</td>\n",
       "      <td>data:image/jpeg;base64,/9j/4AAQSkZJRgABAQAAAQA...</td>\n",
       "    </tr>\n",
       "    <tr>\n",
       "      <th>3</th>\n",
       "      <td>'AI 행정혁신'에 2000억 쏟아붓는 서울시..인공지능 챗봇·CCTV 나온다</td>\n",
       "      <td>머니투데이</td>\n",
       "      <td>서울시가 인공지능(AI)을 접목한 행정혁신에 2000억원을 투입해 시민 편의와 공무...</td>\n",
       "      <td>2일 전</td>\n",
       "      <td>https://news.mt.co.kr/mtview.php?no=2024040218...</td>\n",
       "      <td>data:image/jpeg;base64,/9j/4AAQSkZJRgABAQAAAQA...</td>\n",
       "    </tr>\n",
       "    <tr>\n",
       "      <th>4</th>\n",
       "      <td>구글, 검색 유료화 '만지작'… 판도 흔드나</td>\n",
       "      <td>매일경제</td>\n",
       "      <td>챗GPT에 검색광고 위협받자구글 \"AI검색은 돈 내라\" 검토'검색결과 광고 노출' ...</td>\n",
       "      <td>19시간 전</td>\n",
       "      <td>https://www.mk.co.kr/news/it/10982791</td>\n",
       "      <td>data:image/jpeg;base64,/9j/4AAQSkZJRgABAQAAAQA...</td>\n",
       "    </tr>\n",
       "    <tr>\n",
       "      <th>5</th>\n",
       "      <td>기업용 챗GPT 가입자 석 달 만에 4배 급증</td>\n",
       "      <td>뉴스핌</td>\n",
       "      <td>[뉴욕=뉴스핌] 김민정 특파원 = 오픈AI의 기업용 챗GPT 가입자가 연초 급증한 ...</td>\n",
       "      <td>10시간 전</td>\n",
       "      <td>https://www.newspim.com/news/view/20240404001201</td>\n",
       "      <td>data:image/jpeg;base64,/9j/4AAQSkZJRgABAQAAAQA...</td>\n",
       "    </tr>\n",
       "    <tr>\n",
       "      <th>6</th>\n",
       "      <td>마이크로소프트, 엑스박스 애니메이션 AI 챗봇 개발</td>\n",
       "      <td>더구루</td>\n",
       "      <td>[더구루=홍성일 기자] 마이크로소프트(MS)가 엑스박스(Xbox)에 애니메이션 인공...</td>\n",
       "      <td>1일 전</td>\n",
       "      <td>https://theguru.co.kr/news/article.html?no=68987</td>\n",
       "      <td>data:image/jpeg;base64,/9j/4AAQSkZJRgABAQAAAQA...</td>\n",
       "    </tr>\n",
       "    <tr>\n",
       "      <th>7</th>\n",
       "      <td>세종시, 전자증명-AI챗봇으로 ‘민원혁신’</td>\n",
       "      <td>동아일보</td>\n",
       "      <td>세종시가 공무원이 디지털로 증명서를 직접 확인해 민원인이 제출하는 증명서를 없애는 ...</td>\n",
       "      <td>2일 전</td>\n",
       "      <td>https://www.donga.com/news/Society/article/all...</td>\n",
       "      <td>data:image/jpeg;base64,/9j/4AAQSkZJRgABAQAAAQA...</td>\n",
       "    </tr>\n",
       "    <tr>\n",
       "      <th>8</th>\n",
       "      <td>챗GPT에 235조 검색광고 날아갈 판…구글 \"AI 검색 돈 내야\" [팩플]</td>\n",
       "      <td>MSN</td>\n",
       "      <td>구글이 생성 인공지능(AI) 기반 유료 검색 서비스 출시를 검토 중인 것으로 알려졌...</td>\n",
       "      <td>4시간 전</td>\n",
       "      <td>https://www.msn.com/ko-kr/money/topstories/%EC...</td>\n",
       "      <td>data:image/jpeg;base64,/9j/4AAQSkZJRgABAQAAAQA...</td>\n",
       "    </tr>\n",
       "    <tr>\n",
       "      <th>9</th>\n",
       "      <td>'AI 상담센터'에 '생성형 AI 챗봇'…서울시, 'AI 행정' 가속화</td>\n",
       "      <td>뉴시스</td>\n",
       "      <td>행정에 인공지능 접목시켜 시민 편의 높여 AI 기술 활용한 시민 맞춤형 서비스 등 ...</td>\n",
       "      <td>3일 전</td>\n",
       "      <td>https://mobile.newsis.com/view.html?ar_id=NISX...</td>\n",
       "      <td>data:image/jpeg;base64,/9j/4AAQSkZJRgABAQAAAQA...</td>\n",
       "    </tr>\n",
       "  </tbody>\n",
       "</table>\n",
       "</div>"
      ],
      "text/plain": [
       "                                                제목        언론사  \\\n",
       "0         채널톡, 생성 AI 챗봇 '알프' 출시...\"CS 단순문의 55% 해결\"      AI타임스   \n",
       "1          채널톡, 단순·반복 문의 답하는 ‘AI 챗봇’ 상반기 출시 - 조선비즈  Chosunbiz   \n",
       "2  서울 공무원 적응 돕는 'AI 챗봇' 나온다…\"2026년까지 2064억 투입\"(종합)        뉴스1   \n",
       "3      'AI 행정혁신'에 2000억 쏟아붓는 서울시..인공지능 챗봇·CCTV 나온다      머니투데이   \n",
       "4                         구글, 검색 유료화 '만지작'… 판도 흔드나       매일경제   \n",
       "5                        기업용 챗GPT 가입자 석 달 만에 4배 급증        뉴스핌   \n",
       "6                     마이크로소프트, 엑스박스 애니메이션 AI 챗봇 개발        더구루   \n",
       "7                          세종시, 전자증명-AI챗봇으로 ‘민원혁신’       동아일보   \n",
       "8       챗GPT에 235조 검색광고 날아갈 판…구글 \"AI 검색 돈 내야\" [팩플]        MSN   \n",
       "9          'AI 상담센터'에 '생성형 AI 챗봇'…서울시, 'AI 행정' 가속화        뉴시스   \n",
       "\n",
       "                                                  내용    작성시간  \\\n",
       "0  인공지능(AI) 메신저 '채널톡' 운영사 채널코퍼레이션(대표 최시원, 김재홍)은 서...    1일 전   \n",
       "1  비즈니스 전용 메신저 '채널톡'을 운영하는 정보기술(IT) 스타트업 채널코퍼레이션이...    1일 전   \n",
       "2  (서울=뉴스1) 오현주 기자 | 서울시가 2026년까지 2064억원을 투입해 행정 ...    2일 전   \n",
       "3  서울시가 인공지능(AI)을 접목한 행정혁신에 2000억원을 투입해 시민 편의와 공무...    2일 전   \n",
       "4  챗GPT에 검색광고 위협받자구글 \"AI검색은 돈 내라\" 검토'검색결과 광고 노출' ...  19시간 전   \n",
       "5  [뉴욕=뉴스핌] 김민정 특파원 = 오픈AI의 기업용 챗GPT 가입자가 연초 급증한 ...  10시간 전   \n",
       "6  [더구루=홍성일 기자] 마이크로소프트(MS)가 엑스박스(Xbox)에 애니메이션 인공...    1일 전   \n",
       "7  세종시가 공무원이 디지털로 증명서를 직접 확인해 민원인이 제출하는 증명서를 없애는 ...    2일 전   \n",
       "8  구글이 생성 인공지능(AI) 기반 유료 검색 서비스 출시를 검토 중인 것으로 알려졌...   4시간 전   \n",
       "9  행정에 인공지능 접목시켜 시민 편의 높여 AI 기술 활용한 시민 맞춤형 서비스 등 ...    3일 전   \n",
       "\n",
       "                                                  링크  \\\n",
       "0  https://www.aitimes.com/news/articleView.html?...   \n",
       "1  https://biz.chosun.com/industry/company/2024/0...   \n",
       "2             https://www.news1.kr/articles/?5371454   \n",
       "3  https://news.mt.co.kr/mtview.php?no=2024040218...   \n",
       "4              https://www.mk.co.kr/news/it/10982791   \n",
       "5   https://www.newspim.com/news/view/20240404001201   \n",
       "6   https://theguru.co.kr/news/article.html?no=68987   \n",
       "7  https://www.donga.com/news/Society/article/all...   \n",
       "8  https://www.msn.com/ko-kr/money/topstories/%EC...   \n",
       "9  https://mobile.newsis.com/view.html?ar_id=NISX...   \n",
       "\n",
       "                                               이미지링크  \n",
       "0  data:image/jpeg;base64,/9j/4AAQSkZJRgABAQAAAQA...  \n",
       "1  data:image/jpeg;base64,/9j/4AAQSkZJRgABAQAAAQA...  \n",
       "2  data:image/jpeg;base64,/9j/4AAQSkZJRgABAQAAAQA...  \n",
       "3  data:image/jpeg;base64,/9j/4AAQSkZJRgABAQAAAQA...  \n",
       "4  data:image/jpeg;base64,/9j/4AAQSkZJRgABAQAAAQA...  \n",
       "5  data:image/jpeg;base64,/9j/4AAQSkZJRgABAQAAAQA...  \n",
       "6  data:image/jpeg;base64,/9j/4AAQSkZJRgABAQAAAQA...  \n",
       "7  data:image/jpeg;base64,/9j/4AAQSkZJRgABAQAAAQA...  \n",
       "8  data:image/jpeg;base64,/9j/4AAQSkZJRgABAQAAAQA...  \n",
       "9  data:image/jpeg;base64,/9j/4AAQSkZJRgABAQAAAQA...  "
      ]
     },
     "execution_count": 158,
     "metadata": {},
     "output_type": "execute_result"
    }
   ],
   "source": [
    "data_list = []\n",
    "for elem in container:\n",
    "    title = elem.find_element(By.CLASS_NAME, 'n0jPhd').text\n",
    "    company = elem.find_element(By.CLASS_NAME, 'MgUUmf').text\n",
    "    content = elem.find_element(By.CLASS_NAME, 'GI74Re').text\n",
    "    date = elem.find_element(By.CLASS_NAME, 'rbYSKb').text\n",
    "    link = elem.find_element(By.CLASS_NAME, 'WlydOe').get_attribute('href')\n",
    "    parent = browser.find_element(By.CLASS_NAME,'uhHOwf' )\n",
    "    img_link = parent.find_element(By.TAG_NAME, 'img').get_attribute('src')\n",
    "    data_list.append({\n",
    "        '제목':title,\n",
    "        '언론사':company,\n",
    "        '내용': content,\n",
    "        '작성시간': date,\n",
    "        '링크':link,\n",
    "        '이미지링크':img_link\n",
    "    })\n",
    "    print(title, company, date,link,img_link,'\\n')\n",
    "df =pd.DataFrame(data_list)\n",
    "df.to_csv('google_news.csv',  encoding='utf-8-sig')\n",
    "df"
   ]
  },
  {
   "cell_type": "code",
   "execution_count": 90,
   "metadata": {},
   "outputs": [
    {
     "data": {
      "text/plain": [
       "'https://www.aitimes.com/news/articleView.html?idxno=158497'"
      ]
     },
     "execution_count": 90,
     "metadata": {},
     "output_type": "execute_result"
    }
   ],
   "source": [
    "#링크 수집\n",
    "#html: 링크 데이터는 <a href = \"https://naver.com\">\n",
    "browser.find_element(By.CLASS_NAME, 'WlydOe').get_attribute('href')"
   ]
  },
  {
   "cell_type": "code",
   "execution_count": 113,
   "metadata": {},
   "outputs": [],
   "source": [
    "parent = browser.find_element(By.CLASS_NAME,'uhHOwf' )\n",
    "img_link = parent.find_element(By.TAG_NAME, 'img').get_attribute('src')"
   ]
  },
  {
   "cell_type": "code",
   "execution_count": 114,
   "metadata": {},
   "outputs": [
    {
     "data": {
      "text/plain": [
       "'data:image/jpeg;base64,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'"
      ]
     },
     "execution_count": 114,
     "metadata": {},
     "output_type": "execute_result"
    }
   ],
   "source": [
    "img_link"
   ]
  },
  {
   "cell_type": "code",
   "execution_count": 159,
   "metadata": {},
   "outputs": [],
   "source": [
    "url = 'https://www.yes24.com/Product/Category/BestSeller?categoryNumber=001&pageNumber=1&pageSize=24'\n",
    "browser.get(url)"
   ]
  },
  {
   "cell_type": "code",
   "execution_count": 181,
   "metadata": {},
   "outputs": [
    {
     "data": {
      "text/html": [
       "<div>\n",
       "<style scoped>\n",
       "    .dataframe tbody tr th:only-of-type {\n",
       "        vertical-align: middle;\n",
       "    }\n",
       "\n",
       "    .dataframe tbody tr th {\n",
       "        vertical-align: top;\n",
       "    }\n",
       "\n",
       "    .dataframe thead th {\n",
       "        text-align: right;\n",
       "    }\n",
       "</style>\n",
       "<table border=\"1\" class=\"dataframe\">\n",
       "  <thead>\n",
       "    <tr style=\"text-align: right;\">\n",
       "      <th></th>\n",
       "      <th>제목</th>\n",
       "      <th>저자</th>\n",
       "      <th>출간일자</th>\n",
       "      <th>가격</th>\n",
       "      <th>판매지수</th>\n",
       "      <th>링크</th>\n",
       "    </tr>\n",
       "  </thead>\n",
       "  <tbody>\n",
       "    <tr>\n",
       "      <th>0</th>\n",
       "      <td>불변의 법칙</td>\n",
       "      <td>모건 하우절 저/이수경 역</td>\n",
       "      <td>2024년 02월</td>\n",
       "      <td>22,500</td>\n",
       "      <td>판매지수 424,284</td>\n",
       "      <td>https://www.yes24.com/Product/Goods/124999476</td>\n",
       "    </tr>\n",
       "    <tr>\n",
       "      <th>1</th>\n",
       "      <td>패밀리 레스토랑 가자. 上</td>\n",
       "      <td>와야마 야마 글그림/현승희 역</td>\n",
       "      <td>2024년 04월</td>\n",
       "      <td>7,650</td>\n",
       "      <td>판매지수 134,376</td>\n",
       "      <td>https://www.yes24.com/Product/Goods/125692983</td>\n",
       "    </tr>\n",
       "    <tr>\n",
       "      <th>2</th>\n",
       "      <td>일류의 조건</td>\n",
       "      <td>사이토 다카시 저/정현 역</td>\n",
       "      <td>2024년 03월</td>\n",
       "      <td>17,820</td>\n",
       "      <td>판매지수 161,994</td>\n",
       "      <td>https://www.yes24.com/Product/Goods/125491624</td>\n",
       "    </tr>\n",
       "    <tr>\n",
       "      <th>3</th>\n",
       "      <td>나를 소모하지 않는 현명한 태도에 관하여</td>\n",
       "      <td>마티아스 뇔케 저/이미옥 역</td>\n",
       "      <td>2024년 03월</td>\n",
       "      <td>16,020</td>\n",
       "      <td>판매지수 167,601</td>\n",
       "      <td>https://www.yes24.com/Product/Goods/125295101</td>\n",
       "    </tr>\n",
       "    <tr>\n",
       "      <th>4</th>\n",
       "      <td>삼체 1~3 세트</td>\n",
       "      <td>류츠신 저/이현아, 허유영 역</td>\n",
       "      <td>2020년 07월</td>\n",
       "      <td>60,300</td>\n",
       "      <td>판매지수 118,308</td>\n",
       "      <td>https://www.yes24.com/Product/Goods/90926731</td>\n",
       "    </tr>\n",
       "    <tr>\n",
       "      <th>5</th>\n",
       "      <td>나는 메트로폴리탄 미술관의 경비원입니다</td>\n",
       "      <td>패트릭 브링리 저/김희정, 조현주 역</td>\n",
       "      <td>2023년 11월</td>\n",
       "      <td>15,750</td>\n",
       "      <td>판매지수 411,657</td>\n",
       "      <td>https://www.yes24.com/Product/Goods/123675187</td>\n",
       "    </tr>\n",
       "    <tr>\n",
       "      <th>6</th>\n",
       "      <td>알사탕 제조법</td>\n",
       "      <td>백희나 저</td>\n",
       "      <td>2024년 03월</td>\n",
       "      <td>9,000</td>\n",
       "      <td>판매지수 129,576</td>\n",
       "      <td>https://www.yes24.com/Product/Goods/125558276</td>\n",
       "    </tr>\n",
       "    <tr>\n",
       "      <th>7</th>\n",
       "      <td>마흔에 읽는 쇼펜하우어</td>\n",
       "      <td>강용수 저</td>\n",
       "      <td>2023년 09월</td>\n",
       "      <td>15,300</td>\n",
       "      <td>판매지수 859,296</td>\n",
       "      <td>https://www.yes24.com/Product/Goods/122120495</td>\n",
       "    </tr>\n",
       "    <tr>\n",
       "      <th>8</th>\n",
       "      <td>세이노의 가르침</td>\n",
       "      <td>세이노(SayNo) 저</td>\n",
       "      <td>2023년 03월</td>\n",
       "      <td>6,480</td>\n",
       "      <td>판매지수 1,811,112</td>\n",
       "      <td>https://www.yes24.com/Product/Goods/117014613</td>\n",
       "    </tr>\n",
       "    <tr>\n",
       "      <th>9</th>\n",
       "      <td>이처럼 사소한 것들</td>\n",
       "      <td>클레어 키건 저/홍한별 역</td>\n",
       "      <td>2023년 11월</td>\n",
       "      <td>12,420</td>\n",
       "      <td>판매지수 308,556</td>\n",
       "      <td>https://www.yes24.com/Product/Goods/123400303</td>\n",
       "    </tr>\n",
       "    <tr>\n",
       "      <th>10</th>\n",
       "      <td>ETS 토익 정기시험 기출문제집 1000 Vol. 4 RC</td>\n",
       "      <td>ETS 저</td>\n",
       "      <td>2023년 12월</td>\n",
       "      <td>17,820</td>\n",
       "      <td>판매지수 314,172</td>\n",
       "      <td>https://www.yes24.com/Product/Goods/124043812</td>\n",
       "    </tr>\n",
       "    <tr>\n",
       "      <th>11</th>\n",
       "      <td>ETS 토익 정기시험 기출문제집 1000 Vol. 4 LC</td>\n",
       "      <td>ETS 저</td>\n",
       "      <td>2023년 12월</td>\n",
       "      <td>17,820</td>\n",
       "      <td>판매지수 294,477</td>\n",
       "      <td>https://www.yes24.com/Product/Goods/124043802</td>\n",
       "    </tr>\n",
       "    <tr>\n",
       "      <th>12</th>\n",
       "      <td>찌그러져도 동그라미입니다</td>\n",
       "      <td>김창완 저</td>\n",
       "      <td>2024년 03월</td>\n",
       "      <td>16,020</td>\n",
       "      <td>판매지수 87,339</td>\n",
       "      <td>https://www.yes24.com/Product/Goods/125384202</td>\n",
       "    </tr>\n",
       "    <tr>\n",
       "      <th>13</th>\n",
       "      <td>위풍당당 여우 꼬리 5</td>\n",
       "      <td>손원평 글/만물상 그림</td>\n",
       "      <td>2024년 03월</td>\n",
       "      <td>11,700</td>\n",
       "      <td>판매지수 42,237</td>\n",
       "      <td>https://www.yes24.com/Product/Goods/125691975</td>\n",
       "    </tr>\n",
       "    <tr>\n",
       "      <th>14</th>\n",
       "      <td>공부가 설렘이 되는 순간</td>\n",
       "      <td>조승우 저</td>\n",
       "      <td>2024년 02월</td>\n",
       "      <td>16,920</td>\n",
       "      <td>판매지수 121,854</td>\n",
       "      <td>https://www.yes24.com/Product/Goods/125075376</td>\n",
       "    </tr>\n",
       "    <tr>\n",
       "      <th>15</th>\n",
       "      <td>비트코인 폭발적 상승에 올라타라</td>\n",
       "      <td>강환국 저</td>\n",
       "      <td>2024년 04월</td>\n",
       "      <td>25,200</td>\n",
       "      <td>판매지수 41,067</td>\n",
       "      <td>https://www.yes24.com/Product/Goods/125660642</td>\n",
       "    </tr>\n",
       "    <tr>\n",
       "      <th>16</th>\n",
       "      <td>돈의 심리학 (30만 부 기념 스페셜 에디션)</td>\n",
       "      <td>모건 하우절 저/이지연 역</td>\n",
       "      <td>2021년 01월</td>\n",
       "      <td>17,820</td>\n",
       "      <td>판매지수 210,219</td>\n",
       "      <td>https://www.yes24.com/Product/Goods/96547408</td>\n",
       "    </tr>\n",
       "    <tr>\n",
       "      <th>17</th>\n",
       "      <td>꽃길이 따로 있나, 내 삶이 꽃인 것을</td>\n",
       "      <td>오평선 저</td>\n",
       "      <td>2024년 03월</td>\n",
       "      <td>15,120</td>\n",
       "      <td>판매지수 47,334</td>\n",
       "      <td>https://www.yes24.com/Product/Goods/125576919</td>\n",
       "    </tr>\n",
       "    <tr>\n",
       "      <th>18</th>\n",
       "      <td>깨진 틈이 있어야 그 사이로 빛이 들어온다</td>\n",
       "      <td>프리드리히 니체 저/김신종 역</td>\n",
       "      <td>2024년 03월</td>\n",
       "      <td>16,920</td>\n",
       "      <td>판매지수 95,775</td>\n",
       "      <td>https://www.yes24.com/Product/Goods/125184439</td>\n",
       "    </tr>\n",
       "    <tr>\n",
       "      <th>19</th>\n",
       "      <td>열혈강호 90</td>\n",
       "      <td>전극진 글/양재현 그림</td>\n",
       "      <td>2024년 03월</td>\n",
       "      <td>4,950</td>\n",
       "      <td>판매지수 53,010</td>\n",
       "      <td>https://www.yes24.com/Product/Goods/125659619</td>\n",
       "    </tr>\n",
       "    <tr>\n",
       "      <th>20</th>\n",
       "      <td>기적의 서울대 쌍둥이 공부법</td>\n",
       "      <td>여호원, 여호용 저</td>\n",
       "      <td>2024년 03월</td>\n",
       "      <td>17,100</td>\n",
       "      <td>판매지수 124,608</td>\n",
       "      <td>https://www.yes24.com/Product/Goods/125300689</td>\n",
       "    </tr>\n",
       "    <tr>\n",
       "      <th>21</th>\n",
       "      <td>요즘 역사 : 근대</td>\n",
       "      <td>황현필 저</td>\n",
       "      <td>2024년 03월</td>\n",
       "      <td>16,200</td>\n",
       "      <td>판매지수 81,009</td>\n",
       "      <td>https://www.yes24.com/Product/Goods/125456070</td>\n",
       "    </tr>\n",
       "    <tr>\n",
       "      <th>22</th>\n",
       "      <td>이은경쌤의 초등어휘일력 365</td>\n",
       "      <td>이은경 저</td>\n",
       "      <td>2022년 10월</td>\n",
       "      <td>16,920</td>\n",
       "      <td>판매지수 262,758</td>\n",
       "      <td>https://www.yes24.com/Product/Goods/114853233</td>\n",
       "    </tr>\n",
       "    <tr>\n",
       "      <th>23</th>\n",
       "      <td>똑 부러지게 내 생각을 전하는 말하기 연습</td>\n",
       "      <td>임정민 글/히쩌미 그림</td>\n",
       "      <td>2024년 03월</td>\n",
       "      <td>12,870</td>\n",
       "      <td>판매지수 115,398</td>\n",
       "      <td>https://www.yes24.com/Product/Goods/125028521</td>\n",
       "    </tr>\n",
       "  </tbody>\n",
       "</table>\n",
       "</div>"
      ],
      "text/plain": [
       "                                  제목                    저자       출간일자      가격  \\\n",
       "0                             불변의 법칙        모건 하우절 저/이수경 역  2024년 02월  22,500   \n",
       "1                     패밀리 레스토랑 가자. 上      와야마 야마 글그림/현승희 역  2024년 04월   7,650   \n",
       "2                             일류의 조건        사이토 다카시 저/정현 역  2024년 03월  17,820   \n",
       "3             나를 소모하지 않는 현명한 태도에 관하여       마티아스 뇔케 저/이미옥 역  2024년 03월  16,020   \n",
       "4                          삼체 1~3 세트      류츠신 저/이현아, 허유영 역  2020년 07월  60,300   \n",
       "5              나는 메트로폴리탄 미술관의 경비원입니다  패트릭 브링리 저/김희정, 조현주 역  2023년 11월  15,750   \n",
       "6                            알사탕 제조법                 백희나 저  2024년 03월   9,000   \n",
       "7                       마흔에 읽는 쇼펜하우어                 강용수 저  2023년 09월  15,300   \n",
       "8                           세이노의 가르침          세이노(SayNo) 저  2023년 03월   6,480   \n",
       "9                         이처럼 사소한 것들        클레어 키건 저/홍한별 역  2023년 11월  12,420   \n",
       "10  ETS 토익 정기시험 기출문제집 1000 Vol. 4 RC                 ETS 저  2023년 12월  17,820   \n",
       "11  ETS 토익 정기시험 기출문제집 1000 Vol. 4 LC                 ETS 저  2023년 12월  17,820   \n",
       "12                     찌그러져도 동그라미입니다                 김창완 저  2024년 03월  16,020   \n",
       "13                      위풍당당 여우 꼬리 5          손원평 글/만물상 그림  2024년 03월  11,700   \n",
       "14                     공부가 설렘이 되는 순간                 조승우 저  2024년 02월  16,920   \n",
       "15                 비트코인 폭발적 상승에 올라타라                 강환국 저  2024년 04월  25,200   \n",
       "16         돈의 심리학 (30만 부 기념 스페셜 에디션)        모건 하우절 저/이지연 역  2021년 01월  17,820   \n",
       "17             꽃길이 따로 있나, 내 삶이 꽃인 것을                 오평선 저  2024년 03월  15,120   \n",
       "18           깨진 틈이 있어야 그 사이로 빛이 들어온다      프리드리히 니체 저/김신종 역  2024년 03월  16,920   \n",
       "19                           열혈강호 90          전극진 글/양재현 그림  2024년 03월   4,950   \n",
       "20                   기적의 서울대 쌍둥이 공부법            여호원, 여호용 저  2024년 03월  17,100   \n",
       "21                        요즘 역사 : 근대                 황현필 저  2024년 03월  16,200   \n",
       "22                  이은경쌤의 초등어휘일력 365                 이은경 저  2022년 10월  16,920   \n",
       "23           똑 부러지게 내 생각을 전하는 말하기 연습          임정민 글/히쩌미 그림  2024년 03월  12,870   \n",
       "\n",
       "              판매지수                                             링크  \n",
       "0     판매지수 424,284  https://www.yes24.com/Product/Goods/124999476  \n",
       "1     판매지수 134,376  https://www.yes24.com/Product/Goods/125692983  \n",
       "2     판매지수 161,994  https://www.yes24.com/Product/Goods/125491624  \n",
       "3     판매지수 167,601  https://www.yes24.com/Product/Goods/125295101  \n",
       "4     판매지수 118,308   https://www.yes24.com/Product/Goods/90926731  \n",
       "5     판매지수 411,657  https://www.yes24.com/Product/Goods/123675187  \n",
       "6     판매지수 129,576  https://www.yes24.com/Product/Goods/125558276  \n",
       "7     판매지수 859,296  https://www.yes24.com/Product/Goods/122120495  \n",
       "8   판매지수 1,811,112  https://www.yes24.com/Product/Goods/117014613  \n",
       "9     판매지수 308,556  https://www.yes24.com/Product/Goods/123400303  \n",
       "10    판매지수 314,172  https://www.yes24.com/Product/Goods/124043812  \n",
       "11    판매지수 294,477  https://www.yes24.com/Product/Goods/124043802  \n",
       "12     판매지수 87,339  https://www.yes24.com/Product/Goods/125384202  \n",
       "13     판매지수 42,237  https://www.yes24.com/Product/Goods/125691975  \n",
       "14    판매지수 121,854  https://www.yes24.com/Product/Goods/125075376  \n",
       "15     판매지수 41,067  https://www.yes24.com/Product/Goods/125660642  \n",
       "16    판매지수 210,219   https://www.yes24.com/Product/Goods/96547408  \n",
       "17     판매지수 47,334  https://www.yes24.com/Product/Goods/125576919  \n",
       "18     판매지수 95,775  https://www.yes24.com/Product/Goods/125184439  \n",
       "19     판매지수 53,010  https://www.yes24.com/Product/Goods/125659619  \n",
       "20    판매지수 124,608  https://www.yes24.com/Product/Goods/125300689  \n",
       "21     판매지수 81,009  https://www.yes24.com/Product/Goods/125456070  \n",
       "22    판매지수 262,758  https://www.yes24.com/Product/Goods/114853233  \n",
       "23    판매지수 115,398  https://www.yes24.com/Product/Goods/125028521  "
      ]
     },
     "execution_count": 181,
     "metadata": {},
     "output_type": "execute_result"
    }
   ],
   "source": [
    "parent = browser.find_element(By.ID, 'yesBestList')\n",
    "book_container_list = parent.find_elements(By.CLASS_NAME,'item_info')\n",
    "data_list = []\n",
    "for elem in book_container_list:\n",
    "    title = elem.find_element(By.CLASS_NAME, 'gd_name').text\n",
    "    author = elem.find_element(By.CLASS_NAME, 'info_auth').text\n",
    "    date = elem.find_element(By.CLASS_NAME, 'info_date').text\n",
    "    price= elem.find_element(By.CLASS_NAME, 'yes_b').text\n",
    "    rank = elem.find_element(By.CLASS_NAME, 'saleNum').text\n",
    "    link = elem.find_element(By.CLASS_NAME, 'gd_name').get_attribute('href')\n",
    "    data_list.append({\n",
    "        '제목':title,\n",
    "        '저자':author,\n",
    "        '출간일자': date,\n",
    "        '가격': price,\n",
    "        '판매지수':rank,\n",
    "        '링크': link\n",
    "    })\n",
    "df =pd.DataFrame(data_list)\n",
    "df.to_csv('best_book.csv',  encoding='utf-8-sig')\n",
    "df"
   ]
  },
  {
   "cell_type": "code",
   "execution_count": 161,
   "metadata": {},
   "outputs": [
    {
     "data": {
      "text/plain": [
       "'똑 부러지게 내 생각을 전하는 말하기 연습'"
      ]
     },
     "execution_count": 161,
     "metadata": {},
     "output_type": "execute_result"
    }
   ],
   "source": [
    "#제목, 저자, 출간일, 가격, 판매지수 \n",
    "text.split('/')\n"
   ]
  },
  {
   "cell_type": "code",
   "execution_count": 179,
   "metadata": {},
   "outputs": [],
   "source": [
    "title = elem.find_element(By.CLASS_NAME, 'gd_name').text"
   ]
  },
  {
   "cell_type": "code",
   "execution_count": 180,
   "metadata": {},
   "outputs": [
    {
     "data": {
      "text/plain": [
       "['똑 부러지게 내 생각을 전하는 말하기 연습']"
      ]
     },
     "execution_count": 180,
     "metadata": {},
     "output_type": "execute_result"
    }
   ],
   "source": [
    "title.split('/')"
   ]
  },
  {
   "cell_type": "code",
   "execution_count": null,
   "metadata": {},
   "outputs": [],
   "source": [
    "auth_sep = author.split('/')\n",
    "    translator = 'ArithmeticError'\n",
    "    if len(auth_sep)==2:\n",
    "        translator = auth_sep[1]"
   ]
  },
  {
   "cell_type": "code",
   "execution_count": 186,
   "metadata": {},
   "outputs": [],
   "source": [
    "import time\n",
    "for i in range(1,4):\n",
    "    xpath = f'//*[@id=\"bestContentsWrap\"]/div[6]/div/div/div/a[{i}]'\n",
    "    browser.find_element(By.XPATH, xpath).click()\n",
    "    \n",
    "    time.sleep(3)"
   ]
  },
  {
   "cell_type": "code",
   "execution_count": null,
   "metadata": {},
   "outputs": [],
   "source": [
    "page = f'https://www.yes24.com/Product/Category/BestSeller?categoryNumber=001&pageNumber=4&pageSize=24https://www.yes24.com/Product/Category/BestSeller?categoryNumber=001&pageNumber={i}&pageSize=24'"
   ]
  },
  {
   "cell_type": "code",
   "execution_count": 201,
   "metadata": {},
   "outputs": [
    {
     "data": {
      "text/html": [
       "<div>\n",
       "<style scoped>\n",
       "    .dataframe tbody tr th:only-of-type {\n",
       "        vertical-align: middle;\n",
       "    }\n",
       "\n",
       "    .dataframe tbody tr th {\n",
       "        vertical-align: top;\n",
       "    }\n",
       "\n",
       "    .dataframe thead th {\n",
       "        text-align: right;\n",
       "    }\n",
       "</style>\n",
       "<table border=\"1\" class=\"dataframe\">\n",
       "  <thead>\n",
       "    <tr style=\"text-align: right;\">\n",
       "      <th></th>\n",
       "      <th>제목</th>\n",
       "      <th>저자</th>\n",
       "      <th>출간일자</th>\n",
       "      <th>가격</th>\n",
       "      <th>판매지수</th>\n",
       "      <th>링크</th>\n",
       "    </tr>\n",
       "  </thead>\n",
       "  <tbody>\n",
       "    <tr>\n",
       "      <th>0</th>\n",
       "      <td>불변의 법칙</td>\n",
       "      <td>모건 하우절 저/이수경 역</td>\n",
       "      <td>2024년 02월</td>\n",
       "      <td>22,500</td>\n",
       "      <td>판매지수 424,284</td>\n",
       "      <td>https://www.yes24.com/Product/Goods/124999476</td>\n",
       "    </tr>\n",
       "    <tr>\n",
       "      <th>1</th>\n",
       "      <td>패밀리 레스토랑 가자. 上</td>\n",
       "      <td>와야마 야마 글그림/현승희 역</td>\n",
       "      <td>2024년 04월</td>\n",
       "      <td>7,650</td>\n",
       "      <td>판매지수 134,376</td>\n",
       "      <td>https://www.yes24.com/Product/Goods/125692983</td>\n",
       "    </tr>\n",
       "    <tr>\n",
       "      <th>2</th>\n",
       "      <td>일류의 조건</td>\n",
       "      <td>사이토 다카시 저/정현 역</td>\n",
       "      <td>2024년 03월</td>\n",
       "      <td>17,820</td>\n",
       "      <td>판매지수 161,994</td>\n",
       "      <td>https://www.yes24.com/Product/Goods/125491624</td>\n",
       "    </tr>\n",
       "    <tr>\n",
       "      <th>3</th>\n",
       "      <td>나를 소모하지 않는 현명한 태도에 관하여</td>\n",
       "      <td>마티아스 뇔케 저/이미옥 역</td>\n",
       "      <td>2024년 03월</td>\n",
       "      <td>16,020</td>\n",
       "      <td>판매지수 167,601</td>\n",
       "      <td>https://www.yes24.com/Product/Goods/125295101</td>\n",
       "    </tr>\n",
       "    <tr>\n",
       "      <th>4</th>\n",
       "      <td>삼체 1~3 세트</td>\n",
       "      <td>류츠신 저/이현아, 허유영 역</td>\n",
       "      <td>2020년 07월</td>\n",
       "      <td>60,300</td>\n",
       "      <td>판매지수 118,308</td>\n",
       "      <td>https://www.yes24.com/Product/Goods/90926731</td>\n",
       "    </tr>\n",
       "    <tr>\n",
       "      <th>...</th>\n",
       "      <td>...</td>\n",
       "      <td>...</td>\n",
       "      <td>...</td>\n",
       "      <td>...</td>\n",
       "      <td>...</td>\n",
       "      <td>...</td>\n",
       "    </tr>\n",
       "    <tr>\n",
       "      <th>70</th>\n",
       "      <td>아이는 무엇으로 자라는가</td>\n",
       "      <td>버지니아 사티어 저/강유리 역</td>\n",
       "      <td>2023년 12월</td>\n",
       "      <td>15,750</td>\n",
       "      <td>판매지수 159,345</td>\n",
       "      <td>https://www.yes24.com/Product/Goods/124702623</td>\n",
       "    </tr>\n",
       "    <tr>\n",
       "      <th>71</th>\n",
       "      <td>나는 나의 스무 살을 가장 존중한다</td>\n",
       "      <td>이하영 저</td>\n",
       "      <td>2024년 02월</td>\n",
       "      <td>16,200</td>\n",
       "      <td>판매지수 104,088</td>\n",
       "      <td>https://www.yes24.com/Product/Goods/124926484</td>\n",
       "    </tr>\n",
       "    <tr>\n",
       "      <th>72</th>\n",
       "      <td>국어 잘하는 아이가 이깁니다</td>\n",
       "      <td>나민애 저</td>\n",
       "      <td>2024년 03월</td>\n",
       "      <td>15,750</td>\n",
       "      <td>판매지수 57,339</td>\n",
       "      <td>https://www.yes24.com/Product/Goods/125384743</td>\n",
       "    </tr>\n",
       "    <tr>\n",
       "      <th>73</th>\n",
       "      <td>내가 모르는 사이에</td>\n",
       "      <td>김화요 글/오윤화 그림</td>\n",
       "      <td>2021년 06월</td>\n",
       "      <td>9,000</td>\n",
       "      <td>판매지수 74,949</td>\n",
       "      <td>https://www.yes24.com/Product/Goods/102281750</td>\n",
       "    </tr>\n",
       "    <tr>\n",
       "      <th>74</th>\n",
       "      <td>NaN</td>\n",
       "      <td>NaN</td>\n",
       "      <td>NaN</td>\n",
       "      <td>NaN</td>\n",
       "      <td>NaN</td>\n",
       "      <td>NaN</td>\n",
       "    </tr>\n",
       "  </tbody>\n",
       "</table>\n",
       "<p>75 rows × 6 columns</p>\n",
       "</div>"
      ],
      "text/plain": [
       "                        제목                저자       출간일자      가격          판매지수  \\\n",
       "0                   불변의 법칙    모건 하우절 저/이수경 역  2024년 02월  22,500  판매지수 424,284   \n",
       "1           패밀리 레스토랑 가자. 上  와야마 야마 글그림/현승희 역  2024년 04월   7,650  판매지수 134,376   \n",
       "2                   일류의 조건    사이토 다카시 저/정현 역  2024년 03월  17,820  판매지수 161,994   \n",
       "3   나를 소모하지 않는 현명한 태도에 관하여   마티아스 뇔케 저/이미옥 역  2024년 03월  16,020  판매지수 167,601   \n",
       "4                삼체 1~3 세트  류츠신 저/이현아, 허유영 역  2020년 07월  60,300  판매지수 118,308   \n",
       "..                     ...               ...        ...     ...           ...   \n",
       "70           아이는 무엇으로 자라는가  버지니아 사티어 저/강유리 역  2023년 12월  15,750  판매지수 159,345   \n",
       "71     나는 나의 스무 살을 가장 존중한다             이하영 저  2024년 02월  16,200  판매지수 104,088   \n",
       "72         국어 잘하는 아이가 이깁니다             나민애 저  2024년 03월  15,750   판매지수 57,339   \n",
       "73              내가 모르는 사이에      김화요 글/오윤화 그림  2021년 06월   9,000   판매지수 74,949   \n",
       "74                     NaN               NaN        NaN     NaN           NaN   \n",
       "\n",
       "                                               링크  \n",
       "0   https://www.yes24.com/Product/Goods/124999476  \n",
       "1   https://www.yes24.com/Product/Goods/125692983  \n",
       "2   https://www.yes24.com/Product/Goods/125491624  \n",
       "3   https://www.yes24.com/Product/Goods/125295101  \n",
       "4    https://www.yes24.com/Product/Goods/90926731  \n",
       "..                                            ...  \n",
       "70  https://www.yes24.com/Product/Goods/124702623  \n",
       "71  https://www.yes24.com/Product/Goods/124926484  \n",
       "72  https://www.yes24.com/Product/Goods/125384743  \n",
       "73  https://www.yes24.com/Product/Goods/102281750  \n",
       "74                                            NaN  \n",
       "\n",
       "[75 rows x 6 columns]"
      ]
     },
     "execution_count": 201,
     "metadata": {},
     "output_type": "execute_result"
    }
   ],
   "source": [
    "data_list = []\n",
    "for i in range(1,4):\n",
    "    url = f'https://www.yes24.com/Product/Category/BestSeller?categoryNumber=001&pageNumber={i}'\n",
    "    browser.get(url)\n",
    "    time.sleep(3)\n",
    "    parent = browser.find_element(By.ID, 'yesBestList')\n",
    "    book_container_list = parent.find_elements(By.CLASS_NAME,'item_info')\n",
    "    for elem in book_container_list:\n",
    "        title = elem.find_element(By.CLASS_NAME, 'gd_name').text\n",
    "        author = elem.find_element(By.CLASS_NAME, 'info_auth').text\n",
    "        date = elem.find_element(By.CLASS_NAME, 'info_date').text\n",
    "        price= elem.find_element(By.CLASS_NAME, 'yes_b').text\n",
    "        rank = elem.find_element(By.CLASS_NAME, 'saleNum').text\n",
    "        link = elem.find_element(By.CLASS_NAME, 'gd_name').get_attribute('href')\n",
    "        data_list.append({\n",
    "            '제목':title,\n",
    "            '저자':author,\n",
    "            '출간일자': date,\n",
    "            '가격': price,\n",
    "            '판매지수':rank,\n",
    "            '링크': link\n",
    "        })\n",
    "\n",
    "df =pd.DataFrame(data_list)\n",
    "df.to_csv('best_book.csv',  encoding='utf-8-sig')\n",
    "df\n",
    "    "
   ]
  },
  {
   "cell_type": "code",
   "execution_count": null,
   "metadata": {},
   "outputs": [],
   "source": []
  }
 ],
 "metadata": {
  "kernelspec": {
   "display_name": "base",
   "language": "python",
   "name": "python3"
  },
  "language_info": {
   "codemirror_mode": {
    "name": "ipython",
    "version": 3
   },
   "file_extension": ".py",
   "mimetype": "text/x-python",
   "name": "python",
   "nbconvert_exporter": "python",
   "pygments_lexer": "ipython3",
   "version": "3.12.2"
  }
 },
 "nbformat": 4,
 "nbformat_minor": 2
}
