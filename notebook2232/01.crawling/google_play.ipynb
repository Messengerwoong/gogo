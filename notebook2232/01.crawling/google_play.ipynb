{
 "cells": [
  {
   "cell_type": "code",
   "execution_count": 1,
   "metadata": {},
   "outputs": [
    {
     "name": "stdout",
     "output_type": "stream",
     "text": [
      "Defaulting to user installation because normal site-packages is not writeable\n",
      "Requirement already satisfied: selenium in c:\\users\\jw\\appdata\\local\\packages\\pythonsoftwarefoundation.python.3.12_qbz5n2kfra8p0\\localcache\\local-packages\\python312\\site-packages (4.19.0)\n",
      "Requirement already satisfied: urllib3<3,>=1.26 in c:\\users\\jw\\appdata\\local\\packages\\pythonsoftwarefoundation.python.3.12_qbz5n2kfra8p0\\localcache\\local-packages\\python312\\site-packages (from urllib3[socks]<3,>=1.26->selenium) (2.2.1)\n",
      "Requirement already satisfied: trio~=0.17 in c:\\users\\jw\\appdata\\local\\packages\\pythonsoftwarefoundation.python.3.12_qbz5n2kfra8p0\\localcache\\local-packages\\python312\\site-packages (from selenium) (0.25.0)\n",
      "Requirement already satisfied: trio-websocket~=0.9 in c:\\users\\jw\\appdata\\local\\packages\\pythonsoftwarefoundation.python.3.12_qbz5n2kfra8p0\\localcache\\local-packages\\python312\\site-packages (from selenium) (0.11.1)\n",
      "Requirement already satisfied: certifi>=2021.10.8 in c:\\users\\jw\\appdata\\local\\packages\\pythonsoftwarefoundation.python.3.12_qbz5n2kfra8p0\\localcache\\local-packages\\python312\\site-packages (from selenium) (2024.2.2)\n",
      "Requirement already satisfied: typing_extensions>=4.9.0 in c:\\users\\jw\\appdata\\local\\packages\\pythonsoftwarefoundation.python.3.12_qbz5n2kfra8p0\\localcache\\local-packages\\python312\\site-packages (from selenium) (4.11.0)\n",
      "Requirement already satisfied: attrs>=23.2.0 in c:\\users\\jw\\appdata\\local\\packages\\pythonsoftwarefoundation.python.3.12_qbz5n2kfra8p0\\localcache\\local-packages\\python312\\site-packages (from trio~=0.17->selenium) (23.2.0)\n",
      "Requirement already satisfied: sortedcontainers in c:\\users\\jw\\appdata\\local\\packages\\pythonsoftwarefoundation.python.3.12_qbz5n2kfra8p0\\localcache\\local-packages\\python312\\site-packages (from trio~=0.17->selenium) (2.4.0)\n",
      "Requirement already satisfied: idna in c:\\users\\jw\\appdata\\local\\packages\\pythonsoftwarefoundation.python.3.12_qbz5n2kfra8p0\\localcache\\local-packages\\python312\\site-packages (from trio~=0.17->selenium) (3.6)\n",
      "Requirement already satisfied: outcome in c:\\users\\jw\\appdata\\local\\packages\\pythonsoftwarefoundation.python.3.12_qbz5n2kfra8p0\\localcache\\local-packages\\python312\\site-packages (from trio~=0.17->selenium) (1.3.0.post0)\n",
      "Requirement already satisfied: sniffio>=1.3.0 in c:\\users\\jw\\appdata\\local\\packages\\pythonsoftwarefoundation.python.3.12_qbz5n2kfra8p0\\localcache\\local-packages\\python312\\site-packages (from trio~=0.17->selenium) (1.3.1)\n",
      "Requirement already satisfied: cffi>=1.14 in c:\\users\\jw\\appdata\\local\\packages\\pythonsoftwarefoundation.python.3.12_qbz5n2kfra8p0\\localcache\\local-packages\\python312\\site-packages (from trio~=0.17->selenium) (1.16.0)\n",
      "Requirement already satisfied: wsproto>=0.14 in c:\\users\\jw\\appdata\\local\\packages\\pythonsoftwarefoundation.python.3.12_qbz5n2kfra8p0\\localcache\\local-packages\\python312\\site-packages (from trio-websocket~=0.9->selenium) (1.2.0)\n",
      "Requirement already satisfied: pysocks!=1.5.7,<2.0,>=1.5.6 in c:\\users\\jw\\appdata\\local\\packages\\pythonsoftwarefoundation.python.3.12_qbz5n2kfra8p0\\localcache\\local-packages\\python312\\site-packages (from urllib3[socks]<3,>=1.26->selenium) (1.7.1)\n",
      "Requirement already satisfied: pycparser in c:\\users\\jw\\appdata\\local\\packages\\pythonsoftwarefoundation.python.3.12_qbz5n2kfra8p0\\localcache\\local-packages\\python312\\site-packages (from cffi>=1.14->trio~=0.17->selenium) (2.22)\n",
      "Requirement already satisfied: h11<1,>=0.9.0 in c:\\users\\jw\\appdata\\local\\packages\\pythonsoftwarefoundation.python.3.12_qbz5n2kfra8p0\\localcache\\local-packages\\python312\\site-packages (from wsproto>=0.14->trio-websocket~=0.9->selenium) (0.14.0)\n"
     ]
    }
   ],
   "source": [
    "!pip install selenium"
   ]
  },
  {
   "cell_type": "code",
   "execution_count": 2,
   "metadata": {},
   "outputs": [
    {
     "name": "stdout",
     "output_type": "stream",
     "text": [
      "Defaulting to user installation because normal site-packages is not writeable\n",
      "Requirement already satisfied: webdriver-manager in c:\\users\\jw\\appdata\\local\\packages\\pythonsoftwarefoundation.python.3.12_qbz5n2kfra8p0\\localcache\\local-packages\\python312\\site-packages (4.0.1)\n",
      "Requirement already satisfied: requests in c:\\users\\jw\\appdata\\local\\packages\\pythonsoftwarefoundation.python.3.12_qbz5n2kfra8p0\\localcache\\local-packages\\python312\\site-packages (from webdriver-manager) (2.31.0)\n",
      "Requirement already satisfied: python-dotenv in c:\\users\\jw\\appdata\\local\\packages\\pythonsoftwarefoundation.python.3.12_qbz5n2kfra8p0\\localcache\\local-packages\\python312\\site-packages (from webdriver-manager) (1.0.1)\n",
      "Requirement already satisfied: packaging in c:\\users\\jw\\appdata\\local\\packages\\pythonsoftwarefoundation.python.3.12_qbz5n2kfra8p0\\localcache\\local-packages\\python312\\site-packages (from webdriver-manager) (24.0)\n",
      "Requirement already satisfied: charset-normalizer<4,>=2 in c:\\users\\jw\\appdata\\local\\packages\\pythonsoftwarefoundation.python.3.12_qbz5n2kfra8p0\\localcache\\local-packages\\python312\\site-packages (from requests->webdriver-manager) (3.3.2)\n",
      "Requirement already satisfied: idna<4,>=2.5 in c:\\users\\jw\\appdata\\local\\packages\\pythonsoftwarefoundation.python.3.12_qbz5n2kfra8p0\\localcache\\local-packages\\python312\\site-packages (from requests->webdriver-manager) (3.6)\n",
      "Requirement already satisfied: urllib3<3,>=1.21.1 in c:\\users\\jw\\appdata\\local\\packages\\pythonsoftwarefoundation.python.3.12_qbz5n2kfra8p0\\localcache\\local-packages\\python312\\site-packages (from requests->webdriver-manager) (2.2.1)\n",
      "Requirement already satisfied: certifi>=2017.4.17 in c:\\users\\jw\\appdata\\local\\packages\\pythonsoftwarefoundation.python.3.12_qbz5n2kfra8p0\\localcache\\local-packages\\python312\\site-packages (from requests->webdriver-manager) (2024.2.2)\n"
     ]
    }
   ],
   "source": [
    "!pip install webdriver-manager"
   ]
  },
  {
   "cell_type": "code",
   "execution_count": 3,
   "metadata": {},
   "outputs": [],
   "source": [
    "from selenium import webdriver\n",
    "from webdriver_manager.chrome import ChromeDriverManager"
   ]
  },
  {
   "cell_type": "code",
   "execution_count": 4,
   "metadata": {},
   "outputs": [
    {
     "data": {
      "text/plain": [
       "'C:\\\\Users\\\\jw\\\\.wdm\\\\drivers\\\\chromedriver\\\\win64\\\\123.0.6312.105\\\\chromedriver-win32/chromedriver.exe'"
      ]
     },
     "execution_count": 4,
     "metadata": {},
     "output_type": "execute_result"
    }
   ],
   "source": [
    "ChromeDriverManager().install()"
   ]
  },
  {
   "cell_type": "code",
   "execution_count": 39,
   "metadata": {},
   "outputs": [],
   "source": [
    "browser = webdriver.Chrome()"
   ]
  },
  {
   "cell_type": "code",
   "execution_count": 27,
   "metadata": {},
   "outputs": [],
   "source": [
    "from selenium.webdriver.common.by import By"
   ]
  },
  {
   "cell_type": "code",
   "execution_count": 40,
   "metadata": {},
   "outputs": [],
   "source": [
    "url = 'https://play.google.com/store/apps/details?id=com.musinsa.store&hl=ko-KR'\n",
    "browser.get(url)\n",
    "browser.find_element(By.XPATH, '//*[@id=\"yDmH0d\"]/c-wiz[2]/div/div/div[1]/div/div[2]/div/div[1]/div[1]/c-wiz[5]/section/header/div/div[2]/button').click()\n"
   ]
  },
  {
   "cell_type": "code",
   "execution_count": 8,
   "metadata": {},
   "outputs": [],
   "source": [
    "import pandas as pd"
   ]
  },
  {
   "cell_type": "code",
   "execution_count": 41,
   "metadata": {},
   "outputs": [
    {
     "name": "stdout",
     "output_type": "stream",
     "text": [
      "무신사 앱 평점기 \n",
      "\n"
     ]
    },
    {
     "ename": "KeyboardInterrupt",
     "evalue": "",
     "output_type": "error",
     "traceback": [
      "\u001b[1;31m---------------------------------------------------------------------------\u001b[0m",
      "\u001b[1;31mKeyboardInterrupt\u001b[0m                         Traceback (most recent call last)",
      "Cell \u001b[1;32mIn[41], line 22\u001b[0m\n\u001b[0;32m     20\u001b[0m     browser\u001b[38;5;241m.\u001b[39mexecute_script(\u001b[38;5;124m\"\u001b[39m\u001b[38;5;124mwindow.scrollTo(0, document.body.scrollHeight);\u001b[39m\u001b[38;5;124m\"\u001b[39m)\n\u001b[0;32m     21\u001b[0m     random_number \u001b[38;5;241m=\u001b[39m random\u001b[38;5;241m.\u001b[39mrandint(\u001b[38;5;241m1\u001b[39m, \u001b[38;5;241m5\u001b[39m)\n\u001b[1;32m---> 22\u001b[0m     \u001b[43mtime\u001b[49m\u001b[38;5;241;43m.\u001b[39;49m\u001b[43msleep\u001b[49m\u001b[43m(\u001b[49m\u001b[43mrandom_number\u001b[49m\u001b[43m)\u001b[49m \n\u001b[0;32m     23\u001b[0m     i \u001b[38;5;241m+\u001b[39m\u001b[38;5;241m=\u001b[39m \u001b[38;5;241m1\u001b[39m\n\u001b[0;32m     24\u001b[0m df \u001b[38;5;241m=\u001b[39m pd\u001b[38;5;241m.\u001b[39mDataFrame(data_list)\n",
      "\u001b[1;31mKeyboardInterrupt\u001b[0m: "
     ]
    }
   ],
   "source": [
    "import time \n",
    "import random\n",
    "\n",
    "\n",
    "container = browser.find_elements(By.CLASS_NAME, 'RHo1pe')\n",
    "data_list=[]\n",
    "i = 1\n",
    "print('무신사 앱 평점기','\\n')\n",
    "for elem in container:\n",
    "    name = elem.find_element(By.CLASS_NAME, 'X5PpBb').text\n",
    "    rate = elem.find_element(By.XPATH, f'//*[@id=\"yDmH0d\"]/div[4]/div[2]/div/div/div/div/div[2]/div/div[2]/div[{i}]/header/div[2]/div').get_attribute('aria-label').split(' ')[3][-3:-1]\n",
    "    content= elem.find_element(By.CLASS_NAME,'h3YV2d').text\n",
    "    date = elem.find_element(By.CLASS_NAME,'bp9Aid').text\n",
    "    data_list.append({\n",
    "        '이름':name,\n",
    "        '평점(별)': rate,\n",
    "        '작성시간': date,\n",
    "        '내용': content,\n",
    "    })\n",
    "    browser.execute_script(\"window.scrollTo(0, document.body.scrollHeight);\")\n",
    "    random_number = random.randint(1, 5)\n",
    "    time.sleep(random_number) \n",
    "    i += 1\n",
    "df = pd.DataFrame(data_list)\n",
    "df.to_csv('2024_04_08.csv', encoding='utf-8-sig')"
   ]
  },
  {
   "cell_type": "code",
   "execution_count": 21,
   "metadata": {},
   "outputs": [
    {
     "name": "stdout",
     "output_type": "stream",
     "text": [
      "무신사 앱 평점기 \n",
      "\n"
     ]
    }
   ],
   "source": [
    "import time \n",
    "import random\n",
    "from selenium.webdriver import ActionChains\n",
    "action = ActionChains(browser)\n",
    "\n",
    "container = browser.find_elements(By.CLASS_NAME, 'RHo1pe')\n",
    "data_list=[]\n",
    "i = 1\n",
    "print('무신사 앱 평점기','\\n')\n",
    "for elem in container:\n",
    "    name = elem.find_element(By.CLASS_NAME, 'X5PpBb').text\n",
    "    rate = elem.find_element(By.XPATH, f'//*[@id=\"yDmH0d\"]/div[4]/div[2]/div/div/div/div/div[2]/div/div[2]/div[{i}]/header/div[2]/div').get_attribute('aria-label').split(' ')[3][-3:-1]\n",
    "    content= elem.find_element(By.CLASS_NAME,'h3YV2d').text\n",
    "    date = elem.find_element(By.CLASS_NAME,'bp9Aid').text\n",
    "    data_list.append({\n",
    "        '이름':name,\n",
    "        '평점(별)': rate,\n",
    "        '작성시간': date,\n",
    "        '내용': content,\n",
    "    })\n",
    "    i += 1\n",
    "    action.move_to_element(data_list[-1]),perform()\n",
    "df = pd.DataFrame(data_list)\n",
    "df.to_csv('2024_04_08.csv', encoding='utf-8-sig')"
   ]
  },
  {
   "cell_type": "code",
   "execution_count": 62,
   "metadata": {},
   "outputs": [],
   "source": [
    "\n",
    "browser = webdriver.Chrome()\n",
    "url = 'https://play.google.com/store/apps/details?id=com.musinsa.store&hl=ko-KR'\n",
    "browser.get(url)\n",
    "browser.find_element(By.XPATH, '//*[@id=\"yDmH0d\"]/c-wiz[2]/div/div/div[1]/div/div[2]/div/div[1]/div[1]/c-wiz[5]/section/header/div/div[2]/button').click()"
   ]
  },
  {
   "cell_type": "code",
   "execution_count": 45,
   "metadata": {},
   "outputs": [
    {
     "name": "stdout",
     "output_type": "stream",
     "text": [
      "무신사 앱 평점기 \n",
      "\n"
     ]
    }
   ],
   "source": [
    "\n",
    "import time\n",
    "import random\n",
    "from selenium.webdriver import ActionChains\n",
    "from selenium.webdriver.common.by import By\n",
    "\n",
    "action = ActionChains(browser)\n",
    "\n",
    "reviewList = []\n",
    "\n",
    "while True:\n",
    "    elems = browser.find_elements(By.CLASS_NAME, 'RHo1pe')\n",
    "    if len(elems) >= 200:\n",
    "        reviewList = elems\n",
    "        break\n",
    "    else:\n",
    "        action.move_to_element(elems[-1]).perform()\n",
    "        time.sleep(2)\n",
    "\n",
    "# 스크롤이 필요한 경우에만 스크롤하도록 설정\n",
    "action = ActionChains(browser)\n",
    "\n",
    "container = browser.find_elements(By.CLASS_NAME, 'RHo1pe')\n",
    "data_list = []\n",
    "i = 1\n",
    "print('무신사 앱 평점기','\\n')\n",
    "\n",
    "for elem in container:\n",
    "    name = elem.find_element(By.CLASS_NAME, 'X5PpBb').text\n",
    "    rate = elem.find_element(By.XPATH, f'//*[@id=\"yDmH0d\"]/div[4]/div[2]/div/div/div/div/div[2]/div/div[2]/div[{i}]/header/div[2]/div').get_attribute('aria-label').split(' ')[3][-3:-1]\n",
    "    content = elem.find_element(By.CLASS_NAME, 'h3YV2d').text\n",
    "    date = elem.find_element(By.CLASS_NAME, 'bp9Aid').text\n",
    "    data_list.append({\n",
    "        '이름': name,\n",
    "        '평점(별)': rate,\n",
    "        '작성시간': date,\n",
    "        '내용': content,\n",
    "    })\n",
    "    i += 1\n",
    "\n",
    "    # 스크롤이 필요한 경우에만 스크롤하도록 설정\n",
    "    if elem.location_once_scrolled_into_view is None:\n",
    "        action.move_to_element(elem).perform()\n",
    "        time.sleep(random.uniform(1, 3))  # 무작위 시간대기 설정\n",
    "\n",
    "df = pd.DataFrame(data_list)\n",
    "df.to_csv('2024_04_08.csv', encoding='utf-8-sig')\n"
   ]
  },
  {
   "cell_type": "code",
   "execution_count": 63,
   "metadata": {},
   "outputs": [
    {
     "name": "stdout",
     "output_type": "stream",
     "text": [
      "무신사 앱 평점기 \n",
      "\n"
     ]
    }
   ],
   "source": [
    "import time\n",
    "import random\n",
    "from selenium.webdriver import ActionChains\n",
    "from selenium.webdriver.common.by import By\n",
    "\n",
    "action = ActionChains(browser)\n",
    "\n",
    "reviewList = []\n",
    "\n",
    "while True:\n",
    "    elems = browser.find_elements(By.CLASS_NAME, 'RHo1pe')\n",
    "    if len(elems) == 300:\n",
    "        reviewList = elems\n",
    "        break\n",
    "    else:\n",
    "        action.move_to_element(elems[-1]).perform()\n",
    "        time.sleep(2)\n",
    "\n",
    "data_list = []\n",
    "i = 1\n",
    "print('무신사 앱 평점기','\\n')\n",
    "\n",
    "for elem in reviewList:\n",
    "    name = elem.find_element(By.CLASS_NAME, 'X5PpBb').text\n",
    "    rate = elem.find_element(By.XPATH, f'//*[@id=\"yDmH0d\"]/div[4]/div[2]/div/div/div/div/div[2]/div/div[2]/div[{i}]/header/div[2]/div').get_attribute('aria-label').split(' ')[3][-3:-1]\n",
    "    content = elem.find_element(By.CLASS_NAME, 'h3YV2d').text\n",
    "    date = elem.find_element(By.CLASS_NAME, 'bp9Aid').text\n",
    "    data_list.append({\n",
    "        '이름': name,\n",
    "        '평점(별)': rate,\n",
    "        '작성시간': date,\n",
    "        '내용': content,\n",
    "    })\n",
    "    i += 1\n",
    "\n",
    "    # 스크롤이 필요한 경우에만 스크롤하도록 설정\n",
    "    if elem.location_once_scrolled_into_view is None:\n",
    "        action.move_to_element(elem).perform()\n",
    "        time.sleep(random.uniform(1, 3))  # 무작위 시간대기 설정\n",
    "\n",
    "df = pd.DataFrame(data_list)\n",
    "df.to_csv('2024_04_08.csv', encoding='utf-8-sig')\n"
   ]
  },
  {
   "cell_type": "code",
   "execution_count": 15,
   "metadata": {},
   "outputs": [],
   "source": [
    "from selenium import webdriver\n",
    "from selenium.webdriver.common.by import By\n"
   ]
  },
  {
   "cell_type": "code",
   "execution_count": 10,
   "metadata": {},
   "outputs": [],
   "source": [
    "keyword =  input('검색하고자하는 앱이름을 입력하세요.')\n",
    "url = f'https://play.google.com/store/search?q=c={keyword}&apps&hl=ko-KR'"
   ]
  },
  {
   "cell_type": "code",
   "execution_count": 3,
   "metadata": {},
   "outputs": [
    {
     "name": "stdout",
     "output_type": "stream",
     "text": [
      "https://play.google.com/store/search?q=c=배달의민족&apps&hl=ko-KR\n"
     ]
    }
   ],
   "source": [
    "print(url)"
   ]
  },
  {
   "cell_type": "code",
   "execution_count": 3,
   "metadata": {},
   "outputs": [
    {
     "name": "stdout",
     "output_type": "stream",
     "text": [
      "https://play.google.com/store/search?q=c=깃허브&apps&hl=ko-KR\n"
     ]
    },
    {
     "name": "stderr",
     "output_type": "stream",
     "text": [
      "Error sending stats to Plausible: error sending request for url (https://plausible.io/api/event): operation timed out\n"
     ]
    },
    {
     "ename": "ElementNotInteractableException",
     "evalue": "Message: element not interactable\n  (Session info: chrome=123.0.6312.106)\nStacktrace:\n\tGetHandleVerifier [0x00007FF719587072+63090]\n\t(No symbol) [0x00007FF7194F2CC2]\n\t(No symbol) [0x00007FF71938EB1D]\n\t(No symbol) [0x00007FF7193D5D56]\n\t(No symbol) [0x00007FF7193CA708]\n\t(No symbol) [0x00007FF7193F6FDA]\n\t(No symbol) [0x00007FF7193CA00A]\n\t(No symbol) [0x00007FF7193F71F0]\n\t(No symbol) [0x00007FF719413412]\n\t(No symbol) [0x00007FF7193F6D83]\n\t(No symbol) [0x00007FF7193C83A8]\n\t(No symbol) [0x00007FF7193C9441]\n\tGetHandleVerifier [0x00007FF7199825CD+4238285]\n\tGetHandleVerifier [0x00007FF7199BF72D+4488493]\n\tGetHandleVerifier [0x00007FF7199B7A0F+4456463]\n\tGetHandleVerifier [0x00007FF7196605B6+953270]\n\t(No symbol) [0x00007FF7194FE58F]\n\t(No symbol) [0x00007FF7194F9264]\n\t(No symbol) [0x00007FF7194F939B]\n\t(No symbol) [0x00007FF7194E9BD4]\n\tBaseThreadInitThunk [0x00007FFC59D57344+20]\n\tRtlUserThreadStart [0x00007FFC5A8626B1+33]\n",
     "output_type": "error",
     "traceback": [
      "\u001b[1;31m---------------------------------------------------------------------------\u001b[0m",
      "\u001b[1;31mElementNotInteractableException\u001b[0m           Traceback (most recent call last)",
      "Cell \u001b[1;32mIn[3], line 9\u001b[0m\n\u001b[0;32m      7\u001b[0m browser\u001b[38;5;241m.\u001b[39mget(app_url)\n\u001b[0;32m      8\u001b[0m browser\u001b[38;5;241m.\u001b[39mfind_element(By\u001b[38;5;241m.\u001b[39mXPATH, \u001b[38;5;124m'\u001b[39m\u001b[38;5;124m//*[@id=\u001b[39m\u001b[38;5;124m\"\u001b[39m\u001b[38;5;124myDmH0d\u001b[39m\u001b[38;5;124m\"\u001b[39m\u001b[38;5;124m]/c-wiz[2]/div/div/div[1]/div/div[2]/div/div[1]/div[1]/c-wiz[5]/section/header/div/div[2]/button\u001b[39m\u001b[38;5;124m'\u001b[39m)\u001b[38;5;241m.\u001b[39mclick()\n\u001b[1;32m----> 9\u001b[0m \u001b[43mbrowser\u001b[49m\u001b[38;5;241;43m.\u001b[39;49m\u001b[43mfind_element\u001b[49m\u001b[43m(\u001b[49m\u001b[43mBy\u001b[49m\u001b[38;5;241;43m.\u001b[39;49m\u001b[43mCLASS_NAME\u001b[49m\u001b[43m,\u001b[49m\u001b[43m \u001b[49m\u001b[38;5;124;43m'\u001b[39;49m\u001b[38;5;124;43mfysCi\u001b[39;49m\u001b[38;5;124;43m'\u001b[39;49m\u001b[43m)\u001b[49m\u001b[38;5;241;43m.\u001b[39;49m\u001b[43mclick\u001b[49m\u001b[43m(\u001b[49m\u001b[43m)\u001b[49m\n",
      "File \u001b[1;32m~\\AppData\\Local\\Packages\\PythonSoftwareFoundation.Python.3.12_qbz5n2kfra8p0\\LocalCache\\local-packages\\Python312\\site-packages\\selenium\\webdriver\\remote\\webelement.py:94\u001b[0m, in \u001b[0;36mWebElement.click\u001b[1;34m(self)\u001b[0m\n\u001b[0;32m     92\u001b[0m \u001b[38;5;28;01mdef\u001b[39;00m \u001b[38;5;21mclick\u001b[39m(\u001b[38;5;28mself\u001b[39m) \u001b[38;5;241m-\u001b[39m\u001b[38;5;241m>\u001b[39m \u001b[38;5;28;01mNone\u001b[39;00m:\n\u001b[0;32m     93\u001b[0m \u001b[38;5;250m    \u001b[39m\u001b[38;5;124;03m\"\"\"Clicks the element.\"\"\"\u001b[39;00m\n\u001b[1;32m---> 94\u001b[0m     \u001b[38;5;28;43mself\u001b[39;49m\u001b[38;5;241;43m.\u001b[39;49m\u001b[43m_execute\u001b[49m\u001b[43m(\u001b[49m\u001b[43mCommand\u001b[49m\u001b[38;5;241;43m.\u001b[39;49m\u001b[43mCLICK_ELEMENT\u001b[49m\u001b[43m)\u001b[49m\n",
      "File \u001b[1;32m~\\AppData\\Local\\Packages\\PythonSoftwareFoundation.Python.3.12_qbz5n2kfra8p0\\LocalCache\\local-packages\\Python312\\site-packages\\selenium\\webdriver\\remote\\webelement.py:395\u001b[0m, in \u001b[0;36mWebElement._execute\u001b[1;34m(self, command, params)\u001b[0m\n\u001b[0;32m    393\u001b[0m     params \u001b[38;5;241m=\u001b[39m {}\n\u001b[0;32m    394\u001b[0m params[\u001b[38;5;124m\"\u001b[39m\u001b[38;5;124mid\u001b[39m\u001b[38;5;124m\"\u001b[39m] \u001b[38;5;241m=\u001b[39m \u001b[38;5;28mself\u001b[39m\u001b[38;5;241m.\u001b[39m_id\n\u001b[1;32m--> 395\u001b[0m \u001b[38;5;28;01mreturn\u001b[39;00m \u001b[38;5;28;43mself\u001b[39;49m\u001b[38;5;241;43m.\u001b[39;49m\u001b[43m_parent\u001b[49m\u001b[38;5;241;43m.\u001b[39;49m\u001b[43mexecute\u001b[49m\u001b[43m(\u001b[49m\u001b[43mcommand\u001b[49m\u001b[43m,\u001b[49m\u001b[43m \u001b[49m\u001b[43mparams\u001b[49m\u001b[43m)\u001b[49m\n",
      "File \u001b[1;32m~\\AppData\\Local\\Packages\\PythonSoftwareFoundation.Python.3.12_qbz5n2kfra8p0\\LocalCache\\local-packages\\Python312\\site-packages\\selenium\\webdriver\\remote\\webdriver.py:347\u001b[0m, in \u001b[0;36mWebDriver.execute\u001b[1;34m(self, driver_command, params)\u001b[0m\n\u001b[0;32m    345\u001b[0m response \u001b[38;5;241m=\u001b[39m \u001b[38;5;28mself\u001b[39m\u001b[38;5;241m.\u001b[39mcommand_executor\u001b[38;5;241m.\u001b[39mexecute(driver_command, params)\n\u001b[0;32m    346\u001b[0m \u001b[38;5;28;01mif\u001b[39;00m response:\n\u001b[1;32m--> 347\u001b[0m     \u001b[38;5;28;43mself\u001b[39;49m\u001b[38;5;241;43m.\u001b[39;49m\u001b[43merror_handler\u001b[49m\u001b[38;5;241;43m.\u001b[39;49m\u001b[43mcheck_response\u001b[49m\u001b[43m(\u001b[49m\u001b[43mresponse\u001b[49m\u001b[43m)\u001b[49m\n\u001b[0;32m    348\u001b[0m     response[\u001b[38;5;124m\"\u001b[39m\u001b[38;5;124mvalue\u001b[39m\u001b[38;5;124m\"\u001b[39m] \u001b[38;5;241m=\u001b[39m \u001b[38;5;28mself\u001b[39m\u001b[38;5;241m.\u001b[39m_unwrap_value(response\u001b[38;5;241m.\u001b[39mget(\u001b[38;5;124m\"\u001b[39m\u001b[38;5;124mvalue\u001b[39m\u001b[38;5;124m\"\u001b[39m, \u001b[38;5;28;01mNone\u001b[39;00m))\n\u001b[0;32m    349\u001b[0m     \u001b[38;5;28;01mreturn\u001b[39;00m response\n",
      "File \u001b[1;32m~\\AppData\\Local\\Packages\\PythonSoftwareFoundation.Python.3.12_qbz5n2kfra8p0\\LocalCache\\local-packages\\Python312\\site-packages\\selenium\\webdriver\\remote\\errorhandler.py:229\u001b[0m, in \u001b[0;36mErrorHandler.check_response\u001b[1;34m(self, response)\u001b[0m\n\u001b[0;32m    227\u001b[0m         alert_text \u001b[38;5;241m=\u001b[39m value[\u001b[38;5;124m\"\u001b[39m\u001b[38;5;124malert\u001b[39m\u001b[38;5;124m\"\u001b[39m]\u001b[38;5;241m.\u001b[39mget(\u001b[38;5;124m\"\u001b[39m\u001b[38;5;124mtext\u001b[39m\u001b[38;5;124m\"\u001b[39m)\n\u001b[0;32m    228\u001b[0m     \u001b[38;5;28;01mraise\u001b[39;00m exception_class(message, screen, stacktrace, alert_text)  \u001b[38;5;66;03m# type: ignore[call-arg]  # mypy is not smart enough here\u001b[39;00m\n\u001b[1;32m--> 229\u001b[0m \u001b[38;5;28;01mraise\u001b[39;00m exception_class(message, screen, stacktrace)\n",
      "\u001b[1;31mElementNotInteractableException\u001b[0m: Message: element not interactable\n  (Session info: chrome=123.0.6312.106)\nStacktrace:\n\tGetHandleVerifier [0x00007FF719587072+63090]\n\t(No symbol) [0x00007FF7194F2CC2]\n\t(No symbol) [0x00007FF71938EB1D]\n\t(No symbol) [0x00007FF7193D5D56]\n\t(No symbol) [0x00007FF7193CA708]\n\t(No symbol) [0x00007FF7193F6FDA]\n\t(No symbol) [0x00007FF7193CA00A]\n\t(No symbol) [0x00007FF7193F71F0]\n\t(No symbol) [0x00007FF719413412]\n\t(No symbol) [0x00007FF7193F6D83]\n\t(No symbol) [0x00007FF7193C83A8]\n\t(No symbol) [0x00007FF7193C9441]\n\tGetHandleVerifier [0x00007FF7199825CD+4238285]\n\tGetHandleVerifier [0x00007FF7199BF72D+4488493]\n\tGetHandleVerifier [0x00007FF7199B7A0F+4456463]\n\tGetHandleVerifier [0x00007FF7196605B6+953270]\n\t(No symbol) [0x00007FF7194FE58F]\n\t(No symbol) [0x00007FF7194F9264]\n\t(No symbol) [0x00007FF7194F939B]\n\t(No symbol) [0x00007FF7194E9BD4]\n\tBaseThreadInitThunk [0x00007FFC59D57344+20]\n\tRtlUserThreadStart [0x00007FFC5A8626B1+33]\n"
     ]
    }
   ],
   "source": [
    "keyword =  input('검색하고자하는 앱이름을 입력하세요.')\n",
    "url = f'https://play.google.com/store/search?q=c={keyword}&apps&hl=ko-KR'\n",
    "print(url)\n",
    "browser = webdriver.Chrome()\n",
    "browser.get(url)\n",
    "app_url = browser.find_element(By.CLASS_NAME, 'Si6A0c').get_attribute('href')\n",
    "browser.get(app_url)\n",
    "browser.find_element(By.XPATH, '//*[@id=\"yDmH0d\"]/c-wiz[2]/div/div/div[1]/div/div[2]/div/div[1]/div[1]/c-wiz[5]/section/header/div/div[2]/button').click()\n",
    "browser.find_element(By.CLASS_NAME, 'fysCi').click()\n",
    "\n"
   ]
  },
  {
   "cell_type": "markdown",
   "metadata": {},
   "source": []
  },
  {
   "cell_type": "markdown",
   "metadata": {},
   "source": [
    "modal_elem = browser.find_element(By.CLASS_NAME, 'fysCi')\n",
    "import time\n",
    "for i in range(3):\n",
    "    js_code = 'arguments[0].scrollTo(0, arguments[0].scrollHeight)'\n",
    "    browser.execute_script(js_code, modal_elem)\n",
    "    time.sleep(1)"
   ]
  },
  {
   "cell_type": "markdown",
   "metadata": {},
   "source": []
  },
  {
   "cell_type": "code",
   "execution_count": 21,
   "metadata": {},
   "outputs": [],
   "source": [
    "modal_elem = browser.find_element(By.CLASS_NAME, 'fysCi')\n",
    "import time\n",
    "for i in range(3):\n",
    "    js_code = 'arguments[0].scrollTo(0, arguments[0].scrollHeight)'\n",
    "    browser.execute_script(js_code, modal_elem)\n",
    "    time.sleep(1)"
   ]
  },
  {
   "cell_type": "code",
   "execution_count": 23,
   "metadata": {},
   "outputs": [
    {
     "data": {
      "text/plain": [
       "0"
      ]
     },
     "execution_count": 23,
     "metadata": {},
     "output_type": "execute_result"
    }
   ],
   "source": [
    "len(browser.find_elements(By.CLASS_NAME,'RHo1Pe'))\n"
   ]
  },
  {
   "cell_type": "code",
   "execution_count": 16,
   "metadata": {},
   "outputs": [
    {
     "name": "stdout",
     "output_type": "stream",
     "text": [
      "https://play.google.com/store/search?q=c=무신사&apps&hl=ko-KR\n"
     ]
    }
   ],
   "source": [
    "keyword =  input('검색하고자하는 앱이름을 입력하세요.')\n",
    "url = f'https://play.google.com/store/search?q=c={keyword}&apps&hl=ko-KR'\n",
    "print(url)\n",
    "browser = webdriver.Chrome()\n",
    "browser.get(url)\n",
    "app_url = browser.find_element(By.CLASS_NAME, 'Si6A0c').get_attribute('href')\n",
    "browser.get(app_url)\n",
    "browser.find_element(By.XPATH, '//*[@id=\"yDmH0d\"]/c-wiz[2]/div/div/div[1]/div/div[2]/div/div[1]/div[1]/c-wiz[5]/section/header/div/div[2]/button').click()\n",
    "browser.find_element(By.CLASS_NAME, 'fysCi').click()"
   ]
  },
  {
   "cell_type": "code",
   "execution_count": 17,
   "metadata": {},
   "outputs": [],
   "source": [
    "modal_elem = browser.find_element(By.CLASS_NAME, 'fysCi')\n",
    "import time\n",
    "for i in range(6):\n",
    "    js_code = 'arguments[0].scrollTo(0, arguments[0].scrollHeight)'\n",
    "    browser.execute_script(js_code, modal_elem)\n",
    "    time.sleep(1)"
   ]
  },
  {
   "cell_type": "code",
   "execution_count": 18,
   "metadata": {},
   "outputs": [],
   "source": [
    "datas = browser.find_elements(By.CLASS_NAME, 'RHo1pe')\n",
    "\n",
    "data_list = []\n",
    "\n",
    "# 작성자명, 별표 갯수, 작성일, 작성 내용\n",
    "for data in datas:\n",
    "    username = data.find_element(By.CLASS_NAME, 'X5PpBb').text\n",
    "    rank = data.find_element(By.CLASS_NAME, 'iXRFPc').get_attribute('aria-label').split()[1]\n",
    "    date = data.find_element(By.CLASS_NAME, 'bp9Aid').text\n",
    "    content = data.find_element(By.CLASS_NAME, 'h3YV2d').text\n",
    "    \n",
    "    data_list.append({\n",
    "        '유저명': username,\n",
    "        '별표': rank,\n",
    "        '작성일': date,\n",
    "        '작성내용': content\n",
    "    })"
   ]
  },
  {
   "cell_type": "code",
   "execution_count": 19,
   "metadata": {},
   "outputs": [],
   "source": [
    "import pandas as pd\n",
    "\n",
    "df = pd.DataFrame(data_list) # 백엔드<->머신러닝 엔지니어<->데이터엔지니어\n",
    "df.to_csv(\"google_playstore.csv\", encoding='utf-8-sig')"
   ]
  },
  {
   "cell_type": "code",
   "execution_count": 12,
   "metadata": {},
   "outputs": [
    {
     "data": {
      "text/plain": [
       "'5'"
      ]
     },
     "execution_count": 12,
     "metadata": {},
     "output_type": "execute_result"
    }
   ],
   "source": [
    "data.find_element(By.CLASS_NAME, 'iXRFPc').get_attribute('aria-label').split()[1]"
   ]
  },
  {
   "cell_type": "code",
   "execution_count": null,
   "metadata": {},
   "outputs": [],
   "source": []
  }
 ],
 "metadata": {
  "kernelspec": {
   "display_name": "Python 3",
   "language": "python",
   "name": "python3"
  },
  "language_info": {
   "codemirror_mode": {
    "name": "ipython",
    "version": 3
   },
   "file_extension": ".py",
   "mimetype": "text/x-python",
   "name": "python",
   "nbconvert_exporter": "python",
   "pygments_lexer": "ipython3",
   "version": "3.12.2"
  }
 },
 "nbformat": 4,
 "nbformat_minor": 2
}
