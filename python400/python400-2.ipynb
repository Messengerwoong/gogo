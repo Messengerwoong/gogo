{
 "cells": [
  {
   "cell_type": "code",
   "execution_count": 3,
   "metadata": {},
   "outputs": [
    {
     "name": "stdout",
     "output_type": "stream",
     "text": [
      "원의 둘레와 넓이를 구하는 프로그램\n",
      "원의 반지름 입력:>>10\n",
      "반지름이 10이 원의 둘레의 길이는 62.83이고 넓이는 314.16이다\n"
     ]
    }
   ],
   "source": [
    "import math\n",
    "print(\"원의 둘레와 넓이를 구하는 프로그램\")\n",
    "radius = int(input('원의 반지름 입력:>>'))\n",
    "round_circle  = math.pi * 2 * radius \n",
    "area = math.pi * radius**2\n",
    "round_update = round(round_circle,2)\n",
    "area_update = round(area,2)\n",
    "print('반지름이 {}이 원의 둘레의 길이는 {}이고 넓이는 {}이다'.format(radius, round_update, area_update))"
   ]
  },
  {
   "cell_type": "code",
   "execution_count": 9,
   "metadata": {},
   "outputs": [
    {
     "name": "stdout",
     "output_type": "stream",
     "text": [
      "첫번째 정수 입력>>10\n",
      "두번째 정수 입력>>20\n",
      "세번째 정수 입력>>30\n",
      "가장 큰 수는 30입니다.\n",
      "가장 작은 수는 10입니다.\n"
     ]
    }
   ],
   "source": [
    "num_zip = []\n",
    "num1 = int(input(\"첫번째 정수 입력>>\"))\n",
    "num2 = int(input(\"두번째 정수 입력>>\"))\n",
    "num3 = int(input(\"세번째 정수 입력>>\"))\n",
    "max_num = max(num1, max(num2,num3))\n",
    "min_num = min(num1, min(num2,num3))\n",
    "print(\"가장 큰 수는 %d입니다.\" %max_num)\n",
    "print(\"가장 작은 수는 %d입니다.\" %min_num)"
   ]
  },
  {
   "cell_type": "code",
   "execution_count": 13,
   "metadata": {},
   "outputs": [
    {
     "name": "stdout",
     "output_type": "stream",
     "text": [
      "평을 입력받아서 몇 제곱센티인지 환산하는 프로그램\n",
      "평입력>>50\n",
      "50평은 165.29제곱 미터이다.\n"
     ]
    }
   ],
   "source": [
    "print(\"평을 입력받아서 몇 제곱센티인지 환산하는 프로그램\")\n",
    "p = int(input(\"평입력>>\"))\n",
    "mm = round(p* 3.3058,2)\n",
    "print(f\"{p}평은 {mm}제곱 미터이다.\")"
   ]
  },
  {
   "cell_type": "code",
   "execution_count": 18,
   "metadata": {},
   "outputs": [
    {
     "name": "stdout",
     "output_type": "stream",
     "text": [
      "이름, 이메일, 전화번호, 주소를 입력 받는 프로그램\n",
      "이름 입력>>>정\n",
      "이메일 입력>>>abc@gmail.com\n",
      "전화번호 입력>>010-1234-5678\n",
      "주소 입력>>미국\n",
      "--------------결과--------------\n",
      "정 abc@gmail.com 010-1234-5678 미국\n",
      "정          abc@gmail.com        010-1234-5678        미국                  \n"
     ]
    }
   ],
   "source": [
    "print(\"이름, 이메일, 전화번호, 주소를 입력 받는 프로그램\")\n",
    "name = input(\"이름 입력>>>\")\n",
    "email = input(\"이메일 입력>>>\")\n",
    "phone = input(\"전화번호 입력>>\")\n",
    "addr = input(\"주소 입력>>\")\n",
    "\n",
    "print(\"{:-^30}\".format('결과'))\n",
    "print(f\"{name} {email} {phone} {addr}\")\n",
    "print(\"%-10s %-20s %-20s %-20s\" %(name, email, phone, addr))"
   ]
  },
  {
   "cell_type": "markdown",
   "metadata": {},
   "source": [
    "print(\"%-10s %-20s %-20s %-20s\" %(name, email, phone, addr))"
   ]
  },
  {
   "cell_type": "code",
   "execution_count": 1,
   "metadata": {},
   "outputs": [
    {
     "name": "stdout",
     "output_type": "stream",
     "text": [
      "::: 고객 정보 입력 :::\n",
      "고객명 입력 >> 정인웅\n",
      "나이 입력 >> 12\n",
      "이메일 입력 >> @\n",
      "전화번호 입력 >> 010-3865-8209\n",
      "-------------------------- 입력 결과 ---------------------------\n",
      "   name   | age |       email        |        phone        \n",
      "-----------------------------------------------------------------\n",
      "   정인웅    | 12  |         @          |    010-3865-8209    \n"
     ]
    }
   ],
   "source": [
    "# 프로그램 제목을 콘솔에 출력 합니다.\n",
    "print(\"::: 고객 정보 입력 :::\")\n",
    "# 고객 정보를 입력 받아서 각각 변수에 저장 합니다.\n",
    "user_name = input(\"고객명 입력 >> \")\n",
    "age = int(input(\"나이 입력 >> \"))\n",
    "email = input(\"이메일 입력 >> \")\n",
    "phone = input(\"전화번호 입력 >> \")\n",
    "# 입력 받은 고객 정보를 콘솔에 출력 합니다.\n",
    "# 문자열의 format() 메소드를 이용해서 좀더 보기 좋게 출력 해 줍니다.\n",
    "print(\"{:-^60}\".format(\" 입력 결과 \"))\n",
    "print(\"{: ^10}|{: ^5}|{: ^20}| {: ^20}\".format(\"name\", \"age\", \"email\", \"phone\"))\n",
    "print(\"-\"*65)\n",
    "print(\"{: ^10}|{: ^5}|{: ^20}| {: ^20}\".format(user_name, age, email, phone))"
   ]
  },
  {
   "cell_type": "code",
   "execution_count": 8,
   "metadata": {},
   "outputs": [
    {
     "name": "stdout",
     "output_type": "stream",
     "text": [
      "Hello \n",
      "world!\n",
      "Hello Python world!\n",
      "llo Python wor\n"
     ]
    }
   ],
   "source": [
    "str2 = \"Hello world!\"\n",
    "idx = str2.index(\"world\")\n",
    "print(str2[:idx])\n",
    "print(str2[idx:])\n",
    "str2 = str2[:idx] + \"Python \" + str2[idx:]\n",
    "print(str2)\n",
    "\n",
    "print(str2[2:-3])"
   ]
  },
  {
   "cell_type": "code",
   "execution_count": 16,
   "metadata": {},
   "outputs": [
    {
     "name": "stdout",
     "output_type": "stream",
     "text": [
      "------------------------사람------------------------\n",
      "사람&&&&&&&&&&&&&&&&&&&&&&&&&&&&&&&&&&&&&&&&&&&&&&&&\n",
      "************************************************사람\n",
      "성명: 홍길동 | 나이: 45\n"
     ]
    }
   ],
   "source": [
    "print(\"{:-^50}\".format(\"사람\"))\n",
    "print(\"{:&<50}\".format(\"사람\"))\n",
    "print(\"{:*>50}\".format(\"사람\"))\n",
    "name = \"홍길동\"\n",
    "age = 45\n",
    "info = \"성명: {0} | 나이: {1}\".format(name,age)\n",
    "print(info)"
   ]
  },
  {
   "cell_type": "code",
   "execution_count": 18,
   "metadata": {},
   "outputs": [
    {
     "data": {
      "text/plain": [
       "'\\n나는 정이다.\\n나의 직업은 엔지니어이다.\\n나는 멋진사람이다.\\n'"
      ]
     },
     "execution_count": 18,
     "metadata": {},
     "output_type": "execute_result"
    }
   ],
   "source": [
    "multiline = '''\n",
    "나는 {}이다.\n",
    "나의 직업은 {}이다.\n",
    "나는 {}사람이다.\n",
    "'''.format(\"정\",\"엔지니어\",\"멋진\")\n",
    "multiline"
   ]
  },
  {
   "cell_type": "code",
   "execution_count": 28,
   "metadata": {},
   "outputs": [
    {
     "name": "stdout",
     "output_type": "stream",
     "text": [
      "2.5556\n",
      "100       \n",
      "       100\n",
      "성명:이순신, 나이: 55\n",
      "\n"
     ]
    }
   ],
   "source": [
    "print(\"%0.4f\" %(2.55555))\n",
    "print(\"%-10d\" %100)\n",
    "print(\"%10d\" %100)\n",
    "print(\"성명:%s, 나이: %d\\n\" %(\"이순신\", 55))"
   ]
  },
  {
   "cell_type": "code",
   "execution_count": 31,
   "metadata": {},
   "outputs": [
    {
     "ename": "TypeError",
     "evalue": "can only concatenate str (not \"int\") to str",
     "output_type": "error",
     "traceback": [
      "\u001b[1;31m---------------------------------------------------------------------------\u001b[0m",
      "\u001b[1;31mTypeError\u001b[0m                                 Traceback (most recent call last)",
      "\u001b[1;32m<ipython-input-31-295c36e74c04>\u001b[0m in \u001b[0;36m<module>\u001b[1;34m\u001b[0m\n\u001b[1;32m----> 1\u001b[1;33m \u001b[1;34m\"hello\"\u001b[0m \u001b[1;33m+\u001b[0m \u001b[1;36m3\u001b[0m\u001b[1;33m\u001b[0m\u001b[1;33m\u001b[0m\u001b[0m\n\u001b[0m",
      "\u001b[1;31mTypeError\u001b[0m: can only concatenate str (not \"int\") to str"
     ]
    }
   ],
   "source": [
    "\"hello\" + 3"
   ]
  },
  {
   "cell_type": "code",
   "execution_count": 33,
   "metadata": {},
   "outputs": [
    {
     "name": "stdout",
     "output_type": "stream",
     "text": [
      "정수 입력>>14\n",
      "2진수로 변환 => 0b1110\n",
      "8진수로 변환 => 0o16\n",
      "16진수로 변환 => 0xe\n"
     ]
    }
   ],
   "source": [
    "decimal = int(input('정수 입력>>'))\n",
    "print('2진수로 변환 => %s' %bin(decimal))\n",
    "print('8진수로 변환 => %s' %oct(decimal))\n",
    "print('16진수로 변환 => %s' %hex(decimal))"
   ]
  },
  {
   "cell_type": "code",
   "execution_count": 41,
   "metadata": {},
   "outputs": [
    {
     "name": "stdout",
     "output_type": "stream",
     "text": [
      "문자열 입력>>Hello python world\n",
      "찾을 단어>>python\n",
      "바꿀 단어>>happy\n",
      "Hello happy world\n"
     ]
    }
   ],
   "source": [
    "str_full = input(\"문자열 입력>>\")\n",
    "str_old = input(\"찾을 단어>>\")\n",
    "str_new = input(\"바꿀 단어>>\")\n",
    "\n",
    "start = str_full.index(str_old)\n",
    "end = start + len(str_old)\n",
    "\n",
    "result = str_full[:start] + str_new + str_full[end:]\n",
    "print(result)\n"
   ]
  },
  {
   "cell_type": "code",
   "execution_count": 57,
   "metadata": {},
   "outputs": [
    {
     "name": "stdout",
     "output_type": "stream",
     "text": [
      "성명 입력:>>홍길동\n",
      "나이 입력:>>25\n",
      "주소 입력:>>한국민속촌\n",
      "------------------------결과------------------------\n",
      "                  user name: 홍길동                  \n",
      "                   user age:25                    \n",
      "                user address:한국민속촌                \n"
     ]
    }
   ],
   "source": [
    "name = input('성명 입력:>>')\n",
    "age = int(input('나이 입력:>>'))\n",
    "address = input('주소 입력:>>')\n",
    "print(\"{:-^50}\".format(\"결과\"))\n",
    "print(\"{:^50}\".format(\"user name: \"+ name))\n",
    "print(\"{:^50}\".format(\"user age:\" + str(age)))\n",
    "print(\"{:^50}\".format(\"user address:\" + address))\n"
   ]
  },
  {
   "cell_type": "code",
   "execution_count": 58,
   "metadata": {},
   "outputs": [
    {
     "name": "stdout",
     "output_type": "stream",
     "text": [
      "주민 번호를 -를 포함해서 입력하라910503-1234567\n",
      "주민 번호 앞자리:910503\n",
      "주민 번호 뒷자리 첫 글자:1\n"
     ]
    }
   ],
   "source": [
    "rrn = input('주민 번호를 -를 포함해서 입력하라')\n",
    "rrn_index = rrn.index('-')\n",
    "rrn_front = rrn[:rrn_index]\n",
    "rrn_back = rrn[rrn_index+1:]\n",
    "print(\"주민 번호 앞자리:\" + rrn_front)\n",
    "print(\"주민 번호 뒷자리 첫 글자:\" + rrn_back[0])\n"
   ]
  },
  {
   "cell_type": "code",
   "execution_count": null,
   "metadata": {},
   "outputs": [],
   "source": []
  }
 ],
 "metadata": {
  "kernelspec": {
   "display_name": "Python 3",
   "language": "python",
   "name": "python3"
  },
  "language_info": {
   "codemirror_mode": {
    "name": "ipython",
    "version": 3
   },
   "file_extension": ".py",
   "mimetype": "text/x-python",
   "name": "python",
   "nbconvert_exporter": "python",
   "pygments_lexer": "ipython3",
   "version": "3.8.5"
  }
 },
 "nbformat": 4,
 "nbformat_minor": 2
}
